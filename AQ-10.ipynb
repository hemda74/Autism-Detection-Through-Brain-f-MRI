{
  "cells": [
    {
      "cell_type": "markdown",
      "metadata": {
        "deletable": true,
        "editable": true,
        "id": "AWfuIjoYTzIx"
      },
      "source": [
        "\n",
        "# A_10 Project: \n",
        "## *Machine learning approaches to the classification problem for autism spectrum disorder*\n",
        "\n"
      ]
    },
    {
      "cell_type": "markdown",
      "metadata": {
        "deletable": true,
        "editable": true,
        "id": "Gy2-00dwTzIz"
      },
      "source": [
        "We'll be using the \"Autistic Spectrum Disorder Screening Data for Adult And Toddels\" public dataset from the \n",
        "[`UCI repository`](http://archive.ics.uci.edu/ml/datasets/Autism+Screening+Adult#). The datset was donated by Prof. Fadi Thabtah, after being published in the article \"Autism Spectrum Disorder Screening: Machine Learning\n",
        "Adaptation and DSM-5 Fulfillment\". You can find the article by Fadi Thabtah [`online`](https://dl.acm.org/citation.cfm?id=3107515). The data we investigate here consists of small changes to the original dataset, such as removing the 'age_desc' feature and records with missing or ill-formatted entries. Very few published articles are available online as the dataset has not been out for long and as a result refernce to a benchmark model is very rare.\n",
        "\n",
        "\n",
        "**Abstract:** \n",
        "Autistic Spectrum Disorder (ASD) is a neurodevelopment  condition associated with significant healthcare costs, and early diagnosis can significantly reduce these. Unfortunately, waiting times for an ASD diagnosis are lengthy and procedures are not cost effective. The economic impact of autism and the increase in the number of ASD cases across the world reveals an urgent need for the development of easily implemented and effective screening methods. Therefore, a time-efficient and accessible ASD screening is imminent to help health professionals and inform individuals whether they should pursue formal clinical diagnosis.  \n",
        "\n",
        "The rapid growth in the number of ASD cases worldwide necessitates datasets related to behaviour traits. However, such datasets are rare making it difficult to perform thorough analyses to improve the efficiency, sensitivity, specificity and predictive accuracy of the ASD screening process. Presently, very limited autism datasets associated with clinical or screening are available and most of them are genetic in nature. Hence, we propose a new dataset related to autism screening of adults that contained 20 features to be utilised for further analysis especially in determining influential autistic traits and improving the classification of ASD cases. In this dataset, we record ten behavioural features (AQ-10-Adult) plus ten individuals characteristics that have proved to be effective in detecting the ASD cases from controls in behaviour science. "
      ]
    },
    {
      "cell_type": "markdown",
      "metadata": {
        "deletable": true,
        "editable": true,
        "id": "8fdg96tQTzI1"
      },
      "source": [
        "## Road Map:\n",
        "\n",
        "* [Step 0](#step0): Import Datasets.\n",
        "\n",
        "* [Step 1](#step1): Clean Datasets (The data needs to be cleaned; many rows contain missing data, and there may be erroneous data identifiable as outliers).\n",
        "\n",
        "* [Step 2](#step2): A quick visualization with *Seaborn*.\n",
        "\n",
        "* [Step 3](#step3): At First, We applied several Supervised Machine Learning (SML) techniques on the data for classification purpose.\n",
        "\n",
        "* [Step 4](#step4): Next, We experimented with different topologies, optimizers, and hyperparameters for different models.\n",
        "\n",
        "* [Step 5](#step5): Model tuning.\n",
        "\n",
        "* [Step 6](#step6): Feature Selection.\n",
        "\n",
        "* [Step 7](#step7): Then We built a Multi-Layer Perceptron and train it to classify indivisual with ASD based on its features.\n",
        "\n",
        "* [Step 8](#step8): Conclusion."
      ]
    },
    {
      "cell_type": "markdown",
      "metadata": {
        "deletable": true,
        "editable": true,
        "id": "8IjRZ063TzI1"
      },
      "source": [
        "## Let's begin with preparing our data set."
      ]
    },
    {
      "cell_type": "markdown",
      "metadata": {
        "deletable": true,
        "editable": true,
        "id": "Qj8ZxuDlTzI2"
      },
      "source": [
        "---\n",
        "<a id='step0'></a>\n",
        "## Step 0: Import Datasets\n",
        "\n",
        " We start by importing the 'datasetcsv.csv' file into a Pandas dataframe and take a look at it."
      ]
    },
    {
      "cell_type": "code",
      "execution_count": null,
      "metadata": {
        "deletable": true,
        "editable": true,
        "scrolled": true,
        "colab": {
          "resources": {
            "http://localhost:8080/nbextensions/google.colab/files.js": {
              "data": "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",
              "ok": true,
              "headers": [
                [
                  "content-type",
                  "application/javascript"
                ]
              ],
              "status": 200,
              "status_text": ""
            }
          },
          "base_uri": "https://localhost:8080/",
          "height": 39
        },
        "id": "YVYu6uuHTzI2",
        "outputId": "ed29af6f-b7f8-4edd-85ae-6e1d9eb84546"
      },
      "outputs": [
        {
          "output_type": "display_data",
          "data": {
            "text/plain": [
              "<IPython.core.display.HTML object>"
            ],
            "text/html": [
              "\n",
              "     <input type=\"file\" id=\"files-291f6b10-5b01-409b-b085-537eb6ef89f7\" name=\"files[]\" multiple disabled\n",
              "        style=\"border:none\" />\n",
              "     <output id=\"result-291f6b10-5b01-409b-b085-537eb6ef89f7\">\n",
              "      Upload widget is only available when the cell has been executed in the\n",
              "      current browser session. Please rerun this cell to enable.\n",
              "      </output>\n",
              "      <script src=\"/nbextensions/google.colab/files.js\"></script> "
            ]
          },
          "metadata": {}
        }
      ],
      "source": [
        "# Import libraries necessary for this project\n",
        "import numpy as np\n",
        "import pandas as pd\n",
        "from time import time\n",
        "#from IPython.display import display # Allows the use of display() for DataFrames\n",
        "import seaborn as sns\n",
        "import matplotlib.pyplot as plt\n",
        "from pandas.core.common import random_state\n",
        "from sklearn import tree\n",
        "from sklearn.tree import DecisionTreeClassifier\n",
        "from sklearn import neighbors\n",
        "from sklearn.linear_model import LogisticRegression\n",
        "from sklearn.ensemble import RandomForestClassifier\n",
        "from sklearn import svm\n",
        "# Import supplementary visualization code visuals.py\n",
        "#import visuals as vs\n",
        "\n",
        "# Pretty display for notebooks\n",
        "%matplotlib inline\n",
        "#importing file \n",
        "from google.colab import files\n",
        "uploaded =files.upload()\n",
        "data=pd.read_csv('datasetcsv.csv')\n",
        "data.head(7)"
      ]
    },
    {
      "cell_type": "code",
      "execution_count": null,
      "metadata": {
        "deletable": true,
        "editable": true,
        "colab": {
          "base_uri": "https://localhost:8080/"
        },
        "id": "07bttXn0TzI4",
        "outputId": "94cf62b0-c332-4a7c-869e-90c8cd2933fb"
      },
      "outputs": [
        {
          "output_type": "stream",
          "name": "stdout",
          "text": [
            "704\n",
            "NO     515\n",
            "YES    189\n",
            "Name: Class/ASD, dtype: int64\n"
          ]
        }
      ],
      "source": [
        "# Total number of records\n",
        "n_records = len(data.index)\n",
        "print(n_records)\n",
        "# count number of rows and cloumn\n",
        "rowsnum=data.shape[0]\n",
        "colsnum=data.shape[1]\n",
        "#count the classification column\n",
        "print(data['Class/ASD'].value_counts())\n",
        "\n",
        "#  Number of records where individual's with ASD\n",
        "#n_asd_yes = len(df[data['Class/ASD Traits'] == 'YES'])\n",
        "\n",
        "# Number of records where individual's with no ASD\n",
        "#n_asd_no = len(df[df['Class/ASD Traits'] == 'NO'])\n",
        "\n",
        "# Percentage of individuals whose are with ASD\n",
        "#yes_percent = float(n_asd_yes) / n_records *100\n",
        "\n",
        "# Print the results\n",
        "#print (\"Total number of records: {}\"+(n_records))\n",
        "#print (\"Individuals diagonised with ASD: {}\"+(n_asd_yes))\n",
        "#print (\"Individuals not diagonised with ASD: {}\"+(n_asd_no))\n",
        "#print (\"Percentage of individuals diagonised with ASD: {:.2f}%\"+(yes_percent))"
      ]
    },
    {
      "cell_type": "markdown",
      "metadata": {
        "deletable": true,
        "editable": true,
        "id": "5lAQ7xS9TzI5"
      },
      "source": [
        "** Featureset Exploration **\n",
        "\n",
        "This data contains 704 instances, and contains the following attributes:\n",
        "* **age**: *number* (Age in years). \n",
        "* **gendar**: *String* [Male/Female]. \n",
        "* **ethnicity**: *String* (List of common ethnicities in text format). \n",
        "* **Born with jaundice**: *Boolean* [yes or no]. \n",
        "* **Family member with PDD**: *Boolean* [yes or no]. \n",
        "* **Who is completing the test**: *String* [Parent, self, caregiver, medical staff, clinician ,etc.].\n",
        "* **Country of residence **: *String* (List of countries in text format).\n",
        "* **Used the screening app before **: *Boolean* [yes or no] (Whether the user has used a screening app) \n",
        "* **Screening Method Type**: *Integer* [0,1,2,3] (The type of screening methods chosen based on age category (0=toddler, 1=child, 2= adolescent, 3= adult).\n",
        "* **Question 1-10 Answer**: *Binary* [0, 1] (The answer code of the question based on the screening method used).\n",
        "* **Screening Score**: *Integer* (The final score obtained based on the scoring algorithm of the screening method used. This was computed in an automated manner)."
      ]
    },
    {
      "cell_type": "markdown",
      "metadata": {
        "deletable": true,
        "editable": true,
        "id": "hKuDV0aaTzI6"
      },
      "source": [
        "----\n",
        "## Preparing the Data\n",
        "Before data can be used as input for machine learning algorithms, it must be cleaned, formatted, and maybe even restructured — this is typically known as **preprocessing**. Unfortunately, for this dataset, there are many invalid or missing entries(?) we must deal with, moreover, there are some qualities about certain features that must be adjusted. This preprocessing can help tremendously with the outcome and predictive power of nearly all learning algorithms."
      ]
    },
    {
      "cell_type": "markdown",
      "metadata": {
        "deletable": true,
        "editable": true,
        "id": "xr8dyXbVTzJA"
      },
      "source": [
        "I use the optional parmaters in read_csv to convert missing data (indicated by a ?) into NaN, and to add the appropriate column names ():"
      ]
    },
    {
      "cell_type": "code",
      "execution_count": null,
      "metadata": {
        "deletable": true,
        "editable": true,
        "scrolled": true,
        "id": "r2g32-HXTzJB",
        "outputId": "4bfecc1f-62ba-4664-fc4e-55a12d227ade",
        "colab": {
          "base_uri": "https://localhost:8080/",
          "height": 386
        }
      },
      "outputs": [
        {
          "output_type": "execute_result",
          "data": {
            "text/plain": [
              "   A1_Score  A2_Score  A3_Score  A4_Score  A5_Score  A6_Score  A7_Score  \\\n",
              "0         1         1         1         1         0         0         1   \n",
              "1         1         1         0         1         0         0         0   \n",
              "2         1         1         0         1         1         0         1   \n",
              "3         1         1         0         1         0         0         1   \n",
              "4         1         0         0         0         0         0         0   \n",
              "\n",
              "   A8_Score  A9_Score  A10_Score  ...  gender       ethnicity jundice autsim  \\\n",
              "0         1         0          0  ...       f  White-European      no     no   \n",
              "1         1         0          1  ...       m          Latino      no    yes   \n",
              "2         1         1          1  ...       m          Latino     yes    yes   \n",
              "3         1         0          1  ...       f  White-European      no    yes   \n",
              "4         1         0          0  ...       f             NaN      no     no   \n",
              "\n",
              "     contry_of_res used_app_before result       age_desc relation Class/ASD  \n",
              "0  'United States'              no      6  '18 and more'     Self        NO  \n",
              "1           Brazil              no      5  '18 and more'     Self        NO  \n",
              "2            Spain              no      8  '18 and more'   Parent       YES  \n",
              "3  'United States'              no      6  '18 and more'     Self        NO  \n",
              "4            Egypt              no      2  '18 and more'      NaN        NO  \n",
              "\n",
              "[5 rows x 21 columns]"
            ],
            "text/html": [
              "\n",
              "  <div id=\"df-b617e74b-6a41-49fb-bf83-0ab6fd0889e7\">\n",
              "    <div class=\"colab-df-container\">\n",
              "      <div>\n",
              "<style scoped>\n",
              "    .dataframe tbody tr th:only-of-type {\n",
              "        vertical-align: middle;\n",
              "    }\n",
              "\n",
              "    .dataframe tbody tr th {\n",
              "        vertical-align: top;\n",
              "    }\n",
              "\n",
              "    .dataframe thead th {\n",
              "        text-align: right;\n",
              "    }\n",
              "</style>\n",
              "<table border=\"1\" class=\"dataframe\">\n",
              "  <thead>\n",
              "    <tr style=\"text-align: right;\">\n",
              "      <th></th>\n",
              "      <th>A1_Score</th>\n",
              "      <th>A2_Score</th>\n",
              "      <th>A3_Score</th>\n",
              "      <th>A4_Score</th>\n",
              "      <th>A5_Score</th>\n",
              "      <th>A6_Score</th>\n",
              "      <th>A7_Score</th>\n",
              "      <th>A8_Score</th>\n",
              "      <th>A9_Score</th>\n",
              "      <th>A10_Score</th>\n",
              "      <th>...</th>\n",
              "      <th>gender</th>\n",
              "      <th>ethnicity</th>\n",
              "      <th>jundice</th>\n",
              "      <th>autsim</th>\n",
              "      <th>contry_of_res</th>\n",
              "      <th>used_app_before</th>\n",
              "      <th>result</th>\n",
              "      <th>age_desc</th>\n",
              "      <th>relation</th>\n",
              "      <th>Class/ASD</th>\n",
              "    </tr>\n",
              "  </thead>\n",
              "  <tbody>\n",
              "    <tr>\n",
              "      <th>0</th>\n",
              "      <td>1</td>\n",
              "      <td>1</td>\n",
              "      <td>1</td>\n",
              "      <td>1</td>\n",
              "      <td>0</td>\n",
              "      <td>0</td>\n",
              "      <td>1</td>\n",
              "      <td>1</td>\n",
              "      <td>0</td>\n",
              "      <td>0</td>\n",
              "      <td>...</td>\n",
              "      <td>f</td>\n",
              "      <td>White-European</td>\n",
              "      <td>no</td>\n",
              "      <td>no</td>\n",
              "      <td>'United States'</td>\n",
              "      <td>no</td>\n",
              "      <td>6</td>\n",
              "      <td>'18 and more'</td>\n",
              "      <td>Self</td>\n",
              "      <td>NO</td>\n",
              "    </tr>\n",
              "    <tr>\n",
              "      <th>1</th>\n",
              "      <td>1</td>\n",
              "      <td>1</td>\n",
              "      <td>0</td>\n",
              "      <td>1</td>\n",
              "      <td>0</td>\n",
              "      <td>0</td>\n",
              "      <td>0</td>\n",
              "      <td>1</td>\n",
              "      <td>0</td>\n",
              "      <td>1</td>\n",
              "      <td>...</td>\n",
              "      <td>m</td>\n",
              "      <td>Latino</td>\n",
              "      <td>no</td>\n",
              "      <td>yes</td>\n",
              "      <td>Brazil</td>\n",
              "      <td>no</td>\n",
              "      <td>5</td>\n",
              "      <td>'18 and more'</td>\n",
              "      <td>Self</td>\n",
              "      <td>NO</td>\n",
              "    </tr>\n",
              "    <tr>\n",
              "      <th>2</th>\n",
              "      <td>1</td>\n",
              "      <td>1</td>\n",
              "      <td>0</td>\n",
              "      <td>1</td>\n",
              "      <td>1</td>\n",
              "      <td>0</td>\n",
              "      <td>1</td>\n",
              "      <td>1</td>\n",
              "      <td>1</td>\n",
              "      <td>1</td>\n",
              "      <td>...</td>\n",
              "      <td>m</td>\n",
              "      <td>Latino</td>\n",
              "      <td>yes</td>\n",
              "      <td>yes</td>\n",
              "      <td>Spain</td>\n",
              "      <td>no</td>\n",
              "      <td>8</td>\n",
              "      <td>'18 and more'</td>\n",
              "      <td>Parent</td>\n",
              "      <td>YES</td>\n",
              "    </tr>\n",
              "    <tr>\n",
              "      <th>3</th>\n",
              "      <td>1</td>\n",
              "      <td>1</td>\n",
              "      <td>0</td>\n",
              "      <td>1</td>\n",
              "      <td>0</td>\n",
              "      <td>0</td>\n",
              "      <td>1</td>\n",
              "      <td>1</td>\n",
              "      <td>0</td>\n",
              "      <td>1</td>\n",
              "      <td>...</td>\n",
              "      <td>f</td>\n",
              "      <td>White-European</td>\n",
              "      <td>no</td>\n",
              "      <td>yes</td>\n",
              "      <td>'United States'</td>\n",
              "      <td>no</td>\n",
              "      <td>6</td>\n",
              "      <td>'18 and more'</td>\n",
              "      <td>Self</td>\n",
              "      <td>NO</td>\n",
              "    </tr>\n",
              "    <tr>\n",
              "      <th>4</th>\n",
              "      <td>1</td>\n",
              "      <td>0</td>\n",
              "      <td>0</td>\n",
              "      <td>0</td>\n",
              "      <td>0</td>\n",
              "      <td>0</td>\n",
              "      <td>0</td>\n",
              "      <td>1</td>\n",
              "      <td>0</td>\n",
              "      <td>0</td>\n",
              "      <td>...</td>\n",
              "      <td>f</td>\n",
              "      <td>NaN</td>\n",
              "      <td>no</td>\n",
              "      <td>no</td>\n",
              "      <td>Egypt</td>\n",
              "      <td>no</td>\n",
              "      <td>2</td>\n",
              "      <td>'18 and more'</td>\n",
              "      <td>NaN</td>\n",
              "      <td>NO</td>\n",
              "    </tr>\n",
              "  </tbody>\n",
              "</table>\n",
              "<p>5 rows × 21 columns</p>\n",
              "</div>\n",
              "      <button class=\"colab-df-convert\" onclick=\"convertToInteractive('df-b617e74b-6a41-49fb-bf83-0ab6fd0889e7')\"\n",
              "              title=\"Convert this dataframe to an interactive table.\"\n",
              "              style=\"display:none;\">\n",
              "        \n",
              "  <svg xmlns=\"http://www.w3.org/2000/svg\" height=\"24px\"viewBox=\"0 0 24 24\"\n",
              "       width=\"24px\">\n",
              "    <path d=\"M0 0h24v24H0V0z\" fill=\"none\"/>\n",
              "    <path d=\"M18.56 5.44l.94 2.06.94-2.06 2.06-.94-2.06-.94-.94-2.06-.94 2.06-2.06.94zm-11 1L8.5 8.5l.94-2.06 2.06-.94-2.06-.94L8.5 2.5l-.94 2.06-2.06.94zm10 10l.94 2.06.94-2.06 2.06-.94-2.06-.94-.94-2.06-.94 2.06-2.06.94z\"/><path d=\"M17.41 7.96l-1.37-1.37c-.4-.4-.92-.59-1.43-.59-.52 0-1.04.2-1.43.59L10.3 9.45l-7.72 7.72c-.78.78-.78 2.05 0 2.83L4 21.41c.39.39.9.59 1.41.59.51 0 1.02-.2 1.41-.59l7.78-7.78 2.81-2.81c.8-.78.8-2.07 0-2.86zM5.41 20L4 18.59l7.72-7.72 1.47 1.35L5.41 20z\"/>\n",
              "  </svg>\n",
              "      </button>\n",
              "      \n",
              "  <style>\n",
              "    .colab-df-container {\n",
              "      display:flex;\n",
              "      flex-wrap:wrap;\n",
              "      gap: 12px;\n",
              "    }\n",
              "\n",
              "    .colab-df-convert {\n",
              "      background-color: #E8F0FE;\n",
              "      border: none;\n",
              "      border-radius: 50%;\n",
              "      cursor: pointer;\n",
              "      display: none;\n",
              "      fill: #1967D2;\n",
              "      height: 32px;\n",
              "      padding: 0 0 0 0;\n",
              "      width: 32px;\n",
              "    }\n",
              "\n",
              "    .colab-df-convert:hover {\n",
              "      background-color: #E2EBFA;\n",
              "      box-shadow: 0px 1px 2px rgba(60, 64, 67, 0.3), 0px 1px 3px 1px rgba(60, 64, 67, 0.15);\n",
              "      fill: #174EA6;\n",
              "    }\n",
              "\n",
              "    [theme=dark] .colab-df-convert {\n",
              "      background-color: #3B4455;\n",
              "      fill: #D2E3FC;\n",
              "    }\n",
              "\n",
              "    [theme=dark] .colab-df-convert:hover {\n",
              "      background-color: #434B5C;\n",
              "      box-shadow: 0px 1px 3px 1px rgba(0, 0, 0, 0.15);\n",
              "      filter: drop-shadow(0px 1px 2px rgba(0, 0, 0, 0.3));\n",
              "      fill: #FFFFFF;\n",
              "    }\n",
              "  </style>\n",
              "\n",
              "      <script>\n",
              "        const buttonEl =\n",
              "          document.querySelector('#df-b617e74b-6a41-49fb-bf83-0ab6fd0889e7 button.colab-df-convert');\n",
              "        buttonEl.style.display =\n",
              "          google.colab.kernel.accessAllowed ? 'block' : 'none';\n",
              "\n",
              "        async function convertToInteractive(key) {\n",
              "          const element = document.querySelector('#df-b617e74b-6a41-49fb-bf83-0ab6fd0889e7');\n",
              "          const dataTable =\n",
              "            await google.colab.kernel.invokeFunction('convertToInteractive',\n",
              "                                                     [key], {});\n",
              "          if (!dataTable) return;\n",
              "\n",
              "          const docLinkHtml = 'Like what you see? Visit the ' +\n",
              "            '<a target=\"_blank\" href=https://colab.research.google.com/notebooks/data_table.ipynb>data table notebook</a>'\n",
              "            + ' to learn more about interactive tables.';\n",
              "          element.innerHTML = '';\n",
              "          dataTable['output_type'] = 'display_data';\n",
              "          await google.colab.output.renderOutput(dataTable, element);\n",
              "          const docLink = document.createElement('div');\n",
              "          docLink.innerHTML = docLinkHtml;\n",
              "          element.appendChild(docLink);\n",
              "        }\n",
              "      </script>\n",
              "    </div>\n",
              "  </div>\n",
              "  "
            ]
          },
          "metadata": {},
          "execution_count": 34
        }
      ],
      "source": [
        "asd_data = pd.read_csv('datasetcsv.csv', na_values=['?'])\n",
        "asd_data.head(n=5)"
      ]
    },
    {
      "cell_type": "markdown",
      "metadata": {
        "deletable": true,
        "editable": true,
        "id": "cePSLbEHTzJB"
      },
      "source": [
        "Here I evaluate whether the data needs cleaning; your model is only as good as the data it's given."
      ]
    },
    {
      "cell_type": "code",
      "execution_count": null,
      "metadata": {
        "deletable": true,
        "editable": true,
        "id": "VZIlNG9NTzJB",
        "outputId": "18e21a61-645f-4686-ab85-cc2353ca4a66",
        "colab": {
          "base_uri": "https://localhost:8080/",
          "height": 344
        }
      },
      "outputs": [
        {
          "output_type": "execute_result",
          "data": {
            "text/plain": [
              "         A1_Score    A2_Score    A3_Score    A4_Score    A5_Score    A6_Score  \\\n",
              "count  704.000000  704.000000  704.000000  704.000000  704.000000  704.000000   \n",
              "mean     0.721591    0.453125    0.457386    0.495739    0.498580    0.284091   \n",
              "std      0.448535    0.498152    0.498535    0.500337    0.500353    0.451301   \n",
              "min      0.000000    0.000000    0.000000    0.000000    0.000000    0.000000   \n",
              "25%      0.000000    0.000000    0.000000    0.000000    0.000000    0.000000   \n",
              "50%      1.000000    0.000000    0.000000    0.000000    0.000000    0.000000   \n",
              "75%      1.000000    1.000000    1.000000    1.000000    1.000000    1.000000   \n",
              "max      1.000000    1.000000    1.000000    1.000000    1.000000    1.000000   \n",
              "\n",
              "         A7_Score    A8_Score    A9_Score   A10_Score         age      result  \n",
              "count  704.000000  704.000000  704.000000  704.000000  702.000000  704.000000  \n",
              "mean     0.417614    0.649148    0.323864    0.573864   29.698006    4.875000  \n",
              "std      0.493516    0.477576    0.468281    0.494866   16.507465    2.501493  \n",
              "min      0.000000    0.000000    0.000000    0.000000   17.000000    0.000000  \n",
              "25%      0.000000    0.000000    0.000000    0.000000   21.000000    3.000000  \n",
              "50%      0.000000    1.000000    0.000000    1.000000   27.000000    4.000000  \n",
              "75%      1.000000    1.000000    1.000000    1.000000   35.000000    7.000000  \n",
              "max      1.000000    1.000000    1.000000    1.000000  383.000000   10.000000  "
            ],
            "text/html": [
              "\n",
              "  <div id=\"df-fd3532b8-4405-4293-a07c-89ab0142e611\">\n",
              "    <div class=\"colab-df-container\">\n",
              "      <div>\n",
              "<style scoped>\n",
              "    .dataframe tbody tr th:only-of-type {\n",
              "        vertical-align: middle;\n",
              "    }\n",
              "\n",
              "    .dataframe tbody tr th {\n",
              "        vertical-align: top;\n",
              "    }\n",
              "\n",
              "    .dataframe thead th {\n",
              "        text-align: right;\n",
              "    }\n",
              "</style>\n",
              "<table border=\"1\" class=\"dataframe\">\n",
              "  <thead>\n",
              "    <tr style=\"text-align: right;\">\n",
              "      <th></th>\n",
              "      <th>A1_Score</th>\n",
              "      <th>A2_Score</th>\n",
              "      <th>A3_Score</th>\n",
              "      <th>A4_Score</th>\n",
              "      <th>A5_Score</th>\n",
              "      <th>A6_Score</th>\n",
              "      <th>A7_Score</th>\n",
              "      <th>A8_Score</th>\n",
              "      <th>A9_Score</th>\n",
              "      <th>A10_Score</th>\n",
              "      <th>age</th>\n",
              "      <th>result</th>\n",
              "    </tr>\n",
              "  </thead>\n",
              "  <tbody>\n",
              "    <tr>\n",
              "      <th>count</th>\n",
              "      <td>704.000000</td>\n",
              "      <td>704.000000</td>\n",
              "      <td>704.000000</td>\n",
              "      <td>704.000000</td>\n",
              "      <td>704.000000</td>\n",
              "      <td>704.000000</td>\n",
              "      <td>704.000000</td>\n",
              "      <td>704.000000</td>\n",
              "      <td>704.000000</td>\n",
              "      <td>704.000000</td>\n",
              "      <td>702.000000</td>\n",
              "      <td>704.000000</td>\n",
              "    </tr>\n",
              "    <tr>\n",
              "      <th>mean</th>\n",
              "      <td>0.721591</td>\n",
              "      <td>0.453125</td>\n",
              "      <td>0.457386</td>\n",
              "      <td>0.495739</td>\n",
              "      <td>0.498580</td>\n",
              "      <td>0.284091</td>\n",
              "      <td>0.417614</td>\n",
              "      <td>0.649148</td>\n",
              "      <td>0.323864</td>\n",
              "      <td>0.573864</td>\n",
              "      <td>29.698006</td>\n",
              "      <td>4.875000</td>\n",
              "    </tr>\n",
              "    <tr>\n",
              "      <th>std</th>\n",
              "      <td>0.448535</td>\n",
              "      <td>0.498152</td>\n",
              "      <td>0.498535</td>\n",
              "      <td>0.500337</td>\n",
              "      <td>0.500353</td>\n",
              "      <td>0.451301</td>\n",
              "      <td>0.493516</td>\n",
              "      <td>0.477576</td>\n",
              "      <td>0.468281</td>\n",
              "      <td>0.494866</td>\n",
              "      <td>16.507465</td>\n",
              "      <td>2.501493</td>\n",
              "    </tr>\n",
              "    <tr>\n",
              "      <th>min</th>\n",
              "      <td>0.000000</td>\n",
              "      <td>0.000000</td>\n",
              "      <td>0.000000</td>\n",
              "      <td>0.000000</td>\n",
              "      <td>0.000000</td>\n",
              "      <td>0.000000</td>\n",
              "      <td>0.000000</td>\n",
              "      <td>0.000000</td>\n",
              "      <td>0.000000</td>\n",
              "      <td>0.000000</td>\n",
              "      <td>17.000000</td>\n",
              "      <td>0.000000</td>\n",
              "    </tr>\n",
              "    <tr>\n",
              "      <th>25%</th>\n",
              "      <td>0.000000</td>\n",
              "      <td>0.000000</td>\n",
              "      <td>0.000000</td>\n",
              "      <td>0.000000</td>\n",
              "      <td>0.000000</td>\n",
              "      <td>0.000000</td>\n",
              "      <td>0.000000</td>\n",
              "      <td>0.000000</td>\n",
              "      <td>0.000000</td>\n",
              "      <td>0.000000</td>\n",
              "      <td>21.000000</td>\n",
              "      <td>3.000000</td>\n",
              "    </tr>\n",
              "    <tr>\n",
              "      <th>50%</th>\n",
              "      <td>1.000000</td>\n",
              "      <td>0.000000</td>\n",
              "      <td>0.000000</td>\n",
              "      <td>0.000000</td>\n",
              "      <td>0.000000</td>\n",
              "      <td>0.000000</td>\n",
              "      <td>0.000000</td>\n",
              "      <td>1.000000</td>\n",
              "      <td>0.000000</td>\n",
              "      <td>1.000000</td>\n",
              "      <td>27.000000</td>\n",
              "      <td>4.000000</td>\n",
              "    </tr>\n",
              "    <tr>\n",
              "      <th>75%</th>\n",
              "      <td>1.000000</td>\n",
              "      <td>1.000000</td>\n",
              "      <td>1.000000</td>\n",
              "      <td>1.000000</td>\n",
              "      <td>1.000000</td>\n",
              "      <td>1.000000</td>\n",
              "      <td>1.000000</td>\n",
              "      <td>1.000000</td>\n",
              "      <td>1.000000</td>\n",
              "      <td>1.000000</td>\n",
              "      <td>35.000000</td>\n",
              "      <td>7.000000</td>\n",
              "    </tr>\n",
              "    <tr>\n",
              "      <th>max</th>\n",
              "      <td>1.000000</td>\n",
              "      <td>1.000000</td>\n",
              "      <td>1.000000</td>\n",
              "      <td>1.000000</td>\n",
              "      <td>1.000000</td>\n",
              "      <td>1.000000</td>\n",
              "      <td>1.000000</td>\n",
              "      <td>1.000000</td>\n",
              "      <td>1.000000</td>\n",
              "      <td>1.000000</td>\n",
              "      <td>383.000000</td>\n",
              "      <td>10.000000</td>\n",
              "    </tr>\n",
              "  </tbody>\n",
              "</table>\n",
              "</div>\n",
              "      <button class=\"colab-df-convert\" onclick=\"convertToInteractive('df-fd3532b8-4405-4293-a07c-89ab0142e611')\"\n",
              "              title=\"Convert this dataframe to an interactive table.\"\n",
              "              style=\"display:none;\">\n",
              "        \n",
              "  <svg xmlns=\"http://www.w3.org/2000/svg\" height=\"24px\"viewBox=\"0 0 24 24\"\n",
              "       width=\"24px\">\n",
              "    <path d=\"M0 0h24v24H0V0z\" fill=\"none\"/>\n",
              "    <path d=\"M18.56 5.44l.94 2.06.94-2.06 2.06-.94-2.06-.94-.94-2.06-.94 2.06-2.06.94zm-11 1L8.5 8.5l.94-2.06 2.06-.94-2.06-.94L8.5 2.5l-.94 2.06-2.06.94zm10 10l.94 2.06.94-2.06 2.06-.94-2.06-.94-.94-2.06-.94 2.06-2.06.94z\"/><path d=\"M17.41 7.96l-1.37-1.37c-.4-.4-.92-.59-1.43-.59-.52 0-1.04.2-1.43.59L10.3 9.45l-7.72 7.72c-.78.78-.78 2.05 0 2.83L4 21.41c.39.39.9.59 1.41.59.51 0 1.02-.2 1.41-.59l7.78-7.78 2.81-2.81c.8-.78.8-2.07 0-2.86zM5.41 20L4 18.59l7.72-7.72 1.47 1.35L5.41 20z\"/>\n",
              "  </svg>\n",
              "      </button>\n",
              "      \n",
              "  <style>\n",
              "    .colab-df-container {\n",
              "      display:flex;\n",
              "      flex-wrap:wrap;\n",
              "      gap: 12px;\n",
              "    }\n",
              "\n",
              "    .colab-df-convert {\n",
              "      background-color: #E8F0FE;\n",
              "      border: none;\n",
              "      border-radius: 50%;\n",
              "      cursor: pointer;\n",
              "      display: none;\n",
              "      fill: #1967D2;\n",
              "      height: 32px;\n",
              "      padding: 0 0 0 0;\n",
              "      width: 32px;\n",
              "    }\n",
              "\n",
              "    .colab-df-convert:hover {\n",
              "      background-color: #E2EBFA;\n",
              "      box-shadow: 0px 1px 2px rgba(60, 64, 67, 0.3), 0px 1px 3px 1px rgba(60, 64, 67, 0.15);\n",
              "      fill: #174EA6;\n",
              "    }\n",
              "\n",
              "    [theme=dark] .colab-df-convert {\n",
              "      background-color: #3B4455;\n",
              "      fill: #D2E3FC;\n",
              "    }\n",
              "\n",
              "    [theme=dark] .colab-df-convert:hover {\n",
              "      background-color: #434B5C;\n",
              "      box-shadow: 0px 1px 3px 1px rgba(0, 0, 0, 0.15);\n",
              "      filter: drop-shadow(0px 1px 2px rgba(0, 0, 0, 0.3));\n",
              "      fill: #FFFFFF;\n",
              "    }\n",
              "  </style>\n",
              "\n",
              "      <script>\n",
              "        const buttonEl =\n",
              "          document.querySelector('#df-fd3532b8-4405-4293-a07c-89ab0142e611 button.colab-df-convert');\n",
              "        buttonEl.style.display =\n",
              "          google.colab.kernel.accessAllowed ? 'block' : 'none';\n",
              "\n",
              "        async function convertToInteractive(key) {\n",
              "          const element = document.querySelector('#df-fd3532b8-4405-4293-a07c-89ab0142e611');\n",
              "          const dataTable =\n",
              "            await google.colab.kernel.invokeFunction('convertToInteractive',\n",
              "                                                     [key], {});\n",
              "          if (!dataTable) return;\n",
              "\n",
              "          const docLinkHtml = 'Like what you see? Visit the ' +\n",
              "            '<a target=\"_blank\" href=https://colab.research.google.com/notebooks/data_table.ipynb>data table notebook</a>'\n",
              "            + ' to learn more about interactive tables.';\n",
              "          element.innerHTML = '';\n",
              "          dataTable['output_type'] = 'display_data';\n",
              "          await google.colab.output.renderOutput(dataTable, element);\n",
              "          const docLink = document.createElement('div');\n",
              "          docLink.innerHTML = docLinkHtml;\n",
              "          element.appendChild(docLink);\n",
              "        }\n",
              "      </script>\n",
              "    </div>\n",
              "  </div>\n",
              "  "
            ]
          },
          "metadata": {},
          "execution_count": 35
        }
      ],
      "source": [
        "asd_data.describe()"
      ]
    },
    {
      "cell_type": "markdown",
      "metadata": {
        "deletable": true,
        "editable": true,
        "id": "Ei9KDw7BTzJC"
      },
      "source": [
        "There are quite a few missing values in the data set. Before I just drop every row that's missing data, I make sure not to bias the data in any way. In other words we need to make sure that there does not appear to be any sort of correlation to what sort of data has missing fields. If there were, I'd have to try and go back and fill that data in."
      ]
    },
    {
      "cell_type": "markdown",
      "metadata": {
        "deletable": true,
        "editable": true,
        "id": "u0aL5Hy-TzJC"
      },
      "source": [
        "---\n",
        "<a id='step1'></a>\n",
        "## Step 1: Clean Datasets"
      ]
    },
    {
      "cell_type": "code",
      "execution_count": null,
      "metadata": {
        "deletable": true,
        "editable": true,
        "id": "dVQqrTxvTzJC",
        "outputId": "81b3a702-d912-42a4-a503-eece86c1c24f",
        "colab": {
          "base_uri": "https://localhost:8080/",
          "height": 661
        }
      },
      "outputs": [
        {
          "output_type": "execute_result",
          "data": {
            "text/plain": [
              "     A1_Score  A2_Score  A3_Score  A4_Score  A5_Score  A6_Score  A7_Score  \\\n",
              "4           1         0         0         0         0         0         0   \n",
              "12          0         1         1         1         1         1         0   \n",
              "13          1         0         0         0         0         0         1   \n",
              "14          1         0         0         0         0         0         1   \n",
              "19          0         0         0         0         0         0         1   \n",
              "..        ...       ...       ...       ...       ...       ...       ...   \n",
              "652         0         0         0         0         0         0         0   \n",
              "658         0         0         1         1         0         0         1   \n",
              "659         1         1         1         1         1         1         0   \n",
              "666         0         0         0         0         0         0         0   \n",
              "701         1         0         1         1         1         0         1   \n",
              "\n",
              "     A8_Score  A9_Score  A10_Score  ...  gender ethnicity jundice autsim  \\\n",
              "4           1         0          0  ...       f       NaN      no     no   \n",
              "12          0         1          0  ...       f       NaN      no     no   \n",
              "13          1         0          1  ...       m       NaN      no     no   \n",
              "14          1         0          1  ...       f       NaN      no     no   \n",
              "19          1         0          1  ...       m       NaN     yes     no   \n",
              "..        ...       ...        ...  ...     ...       ...     ...    ...   \n",
              "652         0         0          1  ...       f       NaN      no     no   \n",
              "658         0         0          0  ...       m       NaN      no     no   \n",
              "659         0         1          1  ...       m       NaN      no     no   \n",
              "666         1         0          0  ...       m       NaN      no     no   \n",
              "701         1         0          1  ...       f       NaN      no     no   \n",
              "\n",
              "              contry_of_res used_app_before result       age_desc relation  \\\n",
              "4                     Egypt              no      2  '18 and more'      NaN   \n",
              "12                  Bahamas              no      6  '18 and more'      NaN   \n",
              "13                  Austria              no      4  '18 and more'      NaN   \n",
              "14                Argentina              no      4  '18 and more'      NaN   \n",
              "19   'United Arab Emirates'              no      3  '18 and more'      NaN   \n",
              "..                      ...             ...    ...            ...      ...   \n",
              "652         'United States'              no      1  '18 and more'      NaN   \n",
              "658              Azerbaijan              no      3  '18 and more'      NaN   \n",
              "659                Pakistan              no      8  '18 and more'      NaN   \n",
              "666                    Iraq              no      1  '18 and more'      NaN   \n",
              "701                  Russia              no      7  '18 and more'      NaN   \n",
              "\n",
              "    Class/ASD  \n",
              "4          NO  \n",
              "12         NO  \n",
              "13         NO  \n",
              "14         NO  \n",
              "19         NO  \n",
              "..        ...  \n",
              "652        NO  \n",
              "658        NO  \n",
              "659       YES  \n",
              "666        NO  \n",
              "701       YES  \n",
              "\n",
              "[95 rows x 21 columns]"
            ],
            "text/html": [
              "\n",
              "  <div id=\"df-b41ee384-c38d-4a76-8f06-25fd0b75054d\">\n",
              "    <div class=\"colab-df-container\">\n",
              "      <div>\n",
              "<style scoped>\n",
              "    .dataframe tbody tr th:only-of-type {\n",
              "        vertical-align: middle;\n",
              "    }\n",
              "\n",
              "    .dataframe tbody tr th {\n",
              "        vertical-align: top;\n",
              "    }\n",
              "\n",
              "    .dataframe thead th {\n",
              "        text-align: right;\n",
              "    }\n",
              "</style>\n",
              "<table border=\"1\" class=\"dataframe\">\n",
              "  <thead>\n",
              "    <tr style=\"text-align: right;\">\n",
              "      <th></th>\n",
              "      <th>A1_Score</th>\n",
              "      <th>A2_Score</th>\n",
              "      <th>A3_Score</th>\n",
              "      <th>A4_Score</th>\n",
              "      <th>A5_Score</th>\n",
              "      <th>A6_Score</th>\n",
              "      <th>A7_Score</th>\n",
              "      <th>A8_Score</th>\n",
              "      <th>A9_Score</th>\n",
              "      <th>A10_Score</th>\n",
              "      <th>...</th>\n",
              "      <th>gender</th>\n",
              "      <th>ethnicity</th>\n",
              "      <th>jundice</th>\n",
              "      <th>autsim</th>\n",
              "      <th>contry_of_res</th>\n",
              "      <th>used_app_before</th>\n",
              "      <th>result</th>\n",
              "      <th>age_desc</th>\n",
              "      <th>relation</th>\n",
              "      <th>Class/ASD</th>\n",
              "    </tr>\n",
              "  </thead>\n",
              "  <tbody>\n",
              "    <tr>\n",
              "      <th>4</th>\n",
              "      <td>1</td>\n",
              "      <td>0</td>\n",
              "      <td>0</td>\n",
              "      <td>0</td>\n",
              "      <td>0</td>\n",
              "      <td>0</td>\n",
              "      <td>0</td>\n",
              "      <td>1</td>\n",
              "      <td>0</td>\n",
              "      <td>0</td>\n",
              "      <td>...</td>\n",
              "      <td>f</td>\n",
              "      <td>NaN</td>\n",
              "      <td>no</td>\n",
              "      <td>no</td>\n",
              "      <td>Egypt</td>\n",
              "      <td>no</td>\n",
              "      <td>2</td>\n",
              "      <td>'18 and more'</td>\n",
              "      <td>NaN</td>\n",
              "      <td>NO</td>\n",
              "    </tr>\n",
              "    <tr>\n",
              "      <th>12</th>\n",
              "      <td>0</td>\n",
              "      <td>1</td>\n",
              "      <td>1</td>\n",
              "      <td>1</td>\n",
              "      <td>1</td>\n",
              "      <td>1</td>\n",
              "      <td>0</td>\n",
              "      <td>0</td>\n",
              "      <td>1</td>\n",
              "      <td>0</td>\n",
              "      <td>...</td>\n",
              "      <td>f</td>\n",
              "      <td>NaN</td>\n",
              "      <td>no</td>\n",
              "      <td>no</td>\n",
              "      <td>Bahamas</td>\n",
              "      <td>no</td>\n",
              "      <td>6</td>\n",
              "      <td>'18 and more'</td>\n",
              "      <td>NaN</td>\n",
              "      <td>NO</td>\n",
              "    </tr>\n",
              "    <tr>\n",
              "      <th>13</th>\n",
              "      <td>1</td>\n",
              "      <td>0</td>\n",
              "      <td>0</td>\n",
              "      <td>0</td>\n",
              "      <td>0</td>\n",
              "      <td>0</td>\n",
              "      <td>1</td>\n",
              "      <td>1</td>\n",
              "      <td>0</td>\n",
              "      <td>1</td>\n",
              "      <td>...</td>\n",
              "      <td>m</td>\n",
              "      <td>NaN</td>\n",
              "      <td>no</td>\n",
              "      <td>no</td>\n",
              "      <td>Austria</td>\n",
              "      <td>no</td>\n",
              "      <td>4</td>\n",
              "      <td>'18 and more'</td>\n",
              "      <td>NaN</td>\n",
              "      <td>NO</td>\n",
              "    </tr>\n",
              "    <tr>\n",
              "      <th>14</th>\n",
              "      <td>1</td>\n",
              "      <td>0</td>\n",
              "      <td>0</td>\n",
              "      <td>0</td>\n",
              "      <td>0</td>\n",
              "      <td>0</td>\n",
              "      <td>1</td>\n",
              "      <td>1</td>\n",
              "      <td>0</td>\n",
              "      <td>1</td>\n",
              "      <td>...</td>\n",
              "      <td>f</td>\n",
              "      <td>NaN</td>\n",
              "      <td>no</td>\n",
              "      <td>no</td>\n",
              "      <td>Argentina</td>\n",
              "      <td>no</td>\n",
              "      <td>4</td>\n",
              "      <td>'18 and more'</td>\n",
              "      <td>NaN</td>\n",
              "      <td>NO</td>\n",
              "    </tr>\n",
              "    <tr>\n",
              "      <th>19</th>\n",
              "      <td>0</td>\n",
              "      <td>0</td>\n",
              "      <td>0</td>\n",
              "      <td>0</td>\n",
              "      <td>0</td>\n",
              "      <td>0</td>\n",
              "      <td>1</td>\n",
              "      <td>1</td>\n",
              "      <td>0</td>\n",
              "      <td>1</td>\n",
              "      <td>...</td>\n",
              "      <td>m</td>\n",
              "      <td>NaN</td>\n",
              "      <td>yes</td>\n",
              "      <td>no</td>\n",
              "      <td>'United Arab Emirates'</td>\n",
              "      <td>no</td>\n",
              "      <td>3</td>\n",
              "      <td>'18 and more'</td>\n",
              "      <td>NaN</td>\n",
              "      <td>NO</td>\n",
              "    </tr>\n",
              "    <tr>\n",
              "      <th>...</th>\n",
              "      <td>...</td>\n",
              "      <td>...</td>\n",
              "      <td>...</td>\n",
              "      <td>...</td>\n",
              "      <td>...</td>\n",
              "      <td>...</td>\n",
              "      <td>...</td>\n",
              "      <td>...</td>\n",
              "      <td>...</td>\n",
              "      <td>...</td>\n",
              "      <td>...</td>\n",
              "      <td>...</td>\n",
              "      <td>...</td>\n",
              "      <td>...</td>\n",
              "      <td>...</td>\n",
              "      <td>...</td>\n",
              "      <td>...</td>\n",
              "      <td>...</td>\n",
              "      <td>...</td>\n",
              "      <td>...</td>\n",
              "      <td>...</td>\n",
              "    </tr>\n",
              "    <tr>\n",
              "      <th>652</th>\n",
              "      <td>0</td>\n",
              "      <td>0</td>\n",
              "      <td>0</td>\n",
              "      <td>0</td>\n",
              "      <td>0</td>\n",
              "      <td>0</td>\n",
              "      <td>0</td>\n",
              "      <td>0</td>\n",
              "      <td>0</td>\n",
              "      <td>1</td>\n",
              "      <td>...</td>\n",
              "      <td>f</td>\n",
              "      <td>NaN</td>\n",
              "      <td>no</td>\n",
              "      <td>no</td>\n",
              "      <td>'United States'</td>\n",
              "      <td>no</td>\n",
              "      <td>1</td>\n",
              "      <td>'18 and more'</td>\n",
              "      <td>NaN</td>\n",
              "      <td>NO</td>\n",
              "    </tr>\n",
              "    <tr>\n",
              "      <th>658</th>\n",
              "      <td>0</td>\n",
              "      <td>0</td>\n",
              "      <td>1</td>\n",
              "      <td>1</td>\n",
              "      <td>0</td>\n",
              "      <td>0</td>\n",
              "      <td>1</td>\n",
              "      <td>0</td>\n",
              "      <td>0</td>\n",
              "      <td>0</td>\n",
              "      <td>...</td>\n",
              "      <td>m</td>\n",
              "      <td>NaN</td>\n",
              "      <td>no</td>\n",
              "      <td>no</td>\n",
              "      <td>Azerbaijan</td>\n",
              "      <td>no</td>\n",
              "      <td>3</td>\n",
              "      <td>'18 and more'</td>\n",
              "      <td>NaN</td>\n",
              "      <td>NO</td>\n",
              "    </tr>\n",
              "    <tr>\n",
              "      <th>659</th>\n",
              "      <td>1</td>\n",
              "      <td>1</td>\n",
              "      <td>1</td>\n",
              "      <td>1</td>\n",
              "      <td>1</td>\n",
              "      <td>1</td>\n",
              "      <td>0</td>\n",
              "      <td>0</td>\n",
              "      <td>1</td>\n",
              "      <td>1</td>\n",
              "      <td>...</td>\n",
              "      <td>m</td>\n",
              "      <td>NaN</td>\n",
              "      <td>no</td>\n",
              "      <td>no</td>\n",
              "      <td>Pakistan</td>\n",
              "      <td>no</td>\n",
              "      <td>8</td>\n",
              "      <td>'18 and more'</td>\n",
              "      <td>NaN</td>\n",
              "      <td>YES</td>\n",
              "    </tr>\n",
              "    <tr>\n",
              "      <th>666</th>\n",
              "      <td>0</td>\n",
              "      <td>0</td>\n",
              "      <td>0</td>\n",
              "      <td>0</td>\n",
              "      <td>0</td>\n",
              "      <td>0</td>\n",
              "      <td>0</td>\n",
              "      <td>1</td>\n",
              "      <td>0</td>\n",
              "      <td>0</td>\n",
              "      <td>...</td>\n",
              "      <td>m</td>\n",
              "      <td>NaN</td>\n",
              "      <td>no</td>\n",
              "      <td>no</td>\n",
              "      <td>Iraq</td>\n",
              "      <td>no</td>\n",
              "      <td>1</td>\n",
              "      <td>'18 and more'</td>\n",
              "      <td>NaN</td>\n",
              "      <td>NO</td>\n",
              "    </tr>\n",
              "    <tr>\n",
              "      <th>701</th>\n",
              "      <td>1</td>\n",
              "      <td>0</td>\n",
              "      <td>1</td>\n",
              "      <td>1</td>\n",
              "      <td>1</td>\n",
              "      <td>0</td>\n",
              "      <td>1</td>\n",
              "      <td>1</td>\n",
              "      <td>0</td>\n",
              "      <td>1</td>\n",
              "      <td>...</td>\n",
              "      <td>f</td>\n",
              "      <td>NaN</td>\n",
              "      <td>no</td>\n",
              "      <td>no</td>\n",
              "      <td>Russia</td>\n",
              "      <td>no</td>\n",
              "      <td>7</td>\n",
              "      <td>'18 and more'</td>\n",
              "      <td>NaN</td>\n",
              "      <td>YES</td>\n",
              "    </tr>\n",
              "  </tbody>\n",
              "</table>\n",
              "<p>95 rows × 21 columns</p>\n",
              "</div>\n",
              "      <button class=\"colab-df-convert\" onclick=\"convertToInteractive('df-b41ee384-c38d-4a76-8f06-25fd0b75054d')\"\n",
              "              title=\"Convert this dataframe to an interactive table.\"\n",
              "              style=\"display:none;\">\n",
              "        \n",
              "  <svg xmlns=\"http://www.w3.org/2000/svg\" height=\"24px\"viewBox=\"0 0 24 24\"\n",
              "       width=\"24px\">\n",
              "    <path d=\"M0 0h24v24H0V0z\" fill=\"none\"/>\n",
              "    <path d=\"M18.56 5.44l.94 2.06.94-2.06 2.06-.94-2.06-.94-.94-2.06-.94 2.06-2.06.94zm-11 1L8.5 8.5l.94-2.06 2.06-.94-2.06-.94L8.5 2.5l-.94 2.06-2.06.94zm10 10l.94 2.06.94-2.06 2.06-.94-2.06-.94-.94-2.06-.94 2.06-2.06.94z\"/><path d=\"M17.41 7.96l-1.37-1.37c-.4-.4-.92-.59-1.43-.59-.52 0-1.04.2-1.43.59L10.3 9.45l-7.72 7.72c-.78.78-.78 2.05 0 2.83L4 21.41c.39.39.9.59 1.41.59.51 0 1.02-.2 1.41-.59l7.78-7.78 2.81-2.81c.8-.78.8-2.07 0-2.86zM5.41 20L4 18.59l7.72-7.72 1.47 1.35L5.41 20z\"/>\n",
              "  </svg>\n",
              "      </button>\n",
              "      \n",
              "  <style>\n",
              "    .colab-df-container {\n",
              "      display:flex;\n",
              "      flex-wrap:wrap;\n",
              "      gap: 12px;\n",
              "    }\n",
              "\n",
              "    .colab-df-convert {\n",
              "      background-color: #E8F0FE;\n",
              "      border: none;\n",
              "      border-radius: 50%;\n",
              "      cursor: pointer;\n",
              "      display: none;\n",
              "      fill: #1967D2;\n",
              "      height: 32px;\n",
              "      padding: 0 0 0 0;\n",
              "      width: 32px;\n",
              "    }\n",
              "\n",
              "    .colab-df-convert:hover {\n",
              "      background-color: #E2EBFA;\n",
              "      box-shadow: 0px 1px 2px rgba(60, 64, 67, 0.3), 0px 1px 3px 1px rgba(60, 64, 67, 0.15);\n",
              "      fill: #174EA6;\n",
              "    }\n",
              "\n",
              "    [theme=dark] .colab-df-convert {\n",
              "      background-color: #3B4455;\n",
              "      fill: #D2E3FC;\n",
              "    }\n",
              "\n",
              "    [theme=dark] .colab-df-convert:hover {\n",
              "      background-color: #434B5C;\n",
              "      box-shadow: 0px 1px 3px 1px rgba(0, 0, 0, 0.15);\n",
              "      filter: drop-shadow(0px 1px 2px rgba(0, 0, 0, 0.3));\n",
              "      fill: #FFFFFF;\n",
              "    }\n",
              "  </style>\n",
              "\n",
              "      <script>\n",
              "        const buttonEl =\n",
              "          document.querySelector('#df-b41ee384-c38d-4a76-8f06-25fd0b75054d button.colab-df-convert');\n",
              "        buttonEl.style.display =\n",
              "          google.colab.kernel.accessAllowed ? 'block' : 'none';\n",
              "\n",
              "        async function convertToInteractive(key) {\n",
              "          const element = document.querySelector('#df-b41ee384-c38d-4a76-8f06-25fd0b75054d');\n",
              "          const dataTable =\n",
              "            await google.colab.kernel.invokeFunction('convertToInteractive',\n",
              "                                                     [key], {});\n",
              "          if (!dataTable) return;\n",
              "\n",
              "          const docLinkHtml = 'Like what you see? Visit the ' +\n",
              "            '<a target=\"_blank\" href=https://colab.research.google.com/notebooks/data_table.ipynb>data table notebook</a>'\n",
              "            + ' to learn more about interactive tables.';\n",
              "          element.innerHTML = '';\n",
              "          dataTable['output_type'] = 'display_data';\n",
              "          await google.colab.output.renderOutput(dataTable, element);\n",
              "          const docLink = document.createElement('div');\n",
              "          docLink.innerHTML = docLinkHtml;\n",
              "          element.appendChild(docLink);\n",
              "        }\n",
              "      </script>\n",
              "    </div>\n",
              "  </div>\n",
              "  "
            ]
          },
          "metadata": {},
          "execution_count": 36
        }
      ],
      "source": [
        "asd_data.loc[(asd_data['age'].isnull()) |(asd_data['gender'].isnull()) |(asd_data['ethnicity'].isnull()) \n",
        "|(asd_data['jundice'].isnull())|(asd_data['autsim'].isnull()) |(asd_data['contry_of_res'].isnull())\n",
        "            |(asd_data['used_app_before'].isnull())|(asd_data.iloc[:,18].isnull())|\n",
        "             (asd_data['age_desc'].isnull())\n",
        "            |(asd_data['relation'].isnull())]"
      ]
    },
    {
      "cell_type": "markdown",
      "metadata": {
        "deletable": true,
        "editable": true,
        "id": "Y0vQzXIsTzJD"
      },
      "source": [
        "Since the missing data seems randomly distributed, I go ahead and drop rows with missing data. "
      ]
    },
    {
      "cell_type": "code",
      "execution_count": null,
      "metadata": {
        "deletable": true,
        "editable": true,
        "id": "409sO6WtTzJD",
        "outputId": "8c15cb30-de37-401a-afae-3ff054508de7",
        "colab": {
          "base_uri": "https://localhost:8080/",
          "height": 344
        }
      },
      "outputs": [
        {
          "output_type": "execute_result",
          "data": {
            "text/plain": [
              "         A1_Score    A2_Score    A3_Score    A4_Score    A5_Score    A6_Score  \\\n",
              "count  609.000000  609.000000  609.000000  609.000000  609.000000  609.000000   \n",
              "mean     0.740558    0.469622    0.481117    0.520525    0.525452    0.307061   \n",
              "std      0.438689    0.499487    0.500054    0.499989    0.499762    0.461654   \n",
              "min      0.000000    0.000000    0.000000    0.000000    0.000000    0.000000   \n",
              "25%      0.000000    0.000000    0.000000    0.000000    0.000000    0.000000   \n",
              "50%      1.000000    0.000000    0.000000    1.000000    1.000000    0.000000   \n",
              "75%      1.000000    1.000000    1.000000    1.000000    1.000000    1.000000   \n",
              "max      1.000000    1.000000    1.000000    1.000000    1.000000    1.000000   \n",
              "\n",
              "         A7_Score    A8_Score    A9_Score   A10_Score         age      result  \n",
              "count  609.000000  609.000000  609.000000  609.000000  609.000000  609.000000  \n",
              "mean     0.428571    0.665025    0.341544    0.597701   30.215107    5.077176  \n",
              "std      0.495278    0.472370    0.474617    0.490765   17.287470    2.522717  \n",
              "min      0.000000    0.000000    0.000000    0.000000   17.000000    0.000000  \n",
              "25%      0.000000    0.000000    0.000000    0.000000   22.000000    3.000000  \n",
              "50%      0.000000    1.000000    0.000000    1.000000   27.000000    5.000000  \n",
              "75%      1.000000    1.000000    1.000000    1.000000   35.000000    7.000000  \n",
              "max      1.000000    1.000000    1.000000    1.000000  383.000000   10.000000  "
            ],
            "text/html": [
              "\n",
              "  <div id=\"df-f9f11306-9832-4e5e-ba21-a2133d0ff32b\">\n",
              "    <div class=\"colab-df-container\">\n",
              "      <div>\n",
              "<style scoped>\n",
              "    .dataframe tbody tr th:only-of-type {\n",
              "        vertical-align: middle;\n",
              "    }\n",
              "\n",
              "    .dataframe tbody tr th {\n",
              "        vertical-align: top;\n",
              "    }\n",
              "\n",
              "    .dataframe thead th {\n",
              "        text-align: right;\n",
              "    }\n",
              "</style>\n",
              "<table border=\"1\" class=\"dataframe\">\n",
              "  <thead>\n",
              "    <tr style=\"text-align: right;\">\n",
              "      <th></th>\n",
              "      <th>A1_Score</th>\n",
              "      <th>A2_Score</th>\n",
              "      <th>A3_Score</th>\n",
              "      <th>A4_Score</th>\n",
              "      <th>A5_Score</th>\n",
              "      <th>A6_Score</th>\n",
              "      <th>A7_Score</th>\n",
              "      <th>A8_Score</th>\n",
              "      <th>A9_Score</th>\n",
              "      <th>A10_Score</th>\n",
              "      <th>age</th>\n",
              "      <th>result</th>\n",
              "    </tr>\n",
              "  </thead>\n",
              "  <tbody>\n",
              "    <tr>\n",
              "      <th>count</th>\n",
              "      <td>609.000000</td>\n",
              "      <td>609.000000</td>\n",
              "      <td>609.000000</td>\n",
              "      <td>609.000000</td>\n",
              "      <td>609.000000</td>\n",
              "      <td>609.000000</td>\n",
              "      <td>609.000000</td>\n",
              "      <td>609.000000</td>\n",
              "      <td>609.000000</td>\n",
              "      <td>609.000000</td>\n",
              "      <td>609.000000</td>\n",
              "      <td>609.000000</td>\n",
              "    </tr>\n",
              "    <tr>\n",
              "      <th>mean</th>\n",
              "      <td>0.740558</td>\n",
              "      <td>0.469622</td>\n",
              "      <td>0.481117</td>\n",
              "      <td>0.520525</td>\n",
              "      <td>0.525452</td>\n",
              "      <td>0.307061</td>\n",
              "      <td>0.428571</td>\n",
              "      <td>0.665025</td>\n",
              "      <td>0.341544</td>\n",
              "      <td>0.597701</td>\n",
              "      <td>30.215107</td>\n",
              "      <td>5.077176</td>\n",
              "    </tr>\n",
              "    <tr>\n",
              "      <th>std</th>\n",
              "      <td>0.438689</td>\n",
              "      <td>0.499487</td>\n",
              "      <td>0.500054</td>\n",
              "      <td>0.499989</td>\n",
              "      <td>0.499762</td>\n",
              "      <td>0.461654</td>\n",
              "      <td>0.495278</td>\n",
              "      <td>0.472370</td>\n",
              "      <td>0.474617</td>\n",
              "      <td>0.490765</td>\n",
              "      <td>17.287470</td>\n",
              "      <td>2.522717</td>\n",
              "    </tr>\n",
              "    <tr>\n",
              "      <th>min</th>\n",
              "      <td>0.000000</td>\n",
              "      <td>0.000000</td>\n",
              "      <td>0.000000</td>\n",
              "      <td>0.000000</td>\n",
              "      <td>0.000000</td>\n",
              "      <td>0.000000</td>\n",
              "      <td>0.000000</td>\n",
              "      <td>0.000000</td>\n",
              "      <td>0.000000</td>\n",
              "      <td>0.000000</td>\n",
              "      <td>17.000000</td>\n",
              "      <td>0.000000</td>\n",
              "    </tr>\n",
              "    <tr>\n",
              "      <th>25%</th>\n",
              "      <td>0.000000</td>\n",
              "      <td>0.000000</td>\n",
              "      <td>0.000000</td>\n",
              "      <td>0.000000</td>\n",
              "      <td>0.000000</td>\n",
              "      <td>0.000000</td>\n",
              "      <td>0.000000</td>\n",
              "      <td>0.000000</td>\n",
              "      <td>0.000000</td>\n",
              "      <td>0.000000</td>\n",
              "      <td>22.000000</td>\n",
              "      <td>3.000000</td>\n",
              "    </tr>\n",
              "    <tr>\n",
              "      <th>50%</th>\n",
              "      <td>1.000000</td>\n",
              "      <td>0.000000</td>\n",
              "      <td>0.000000</td>\n",
              "      <td>1.000000</td>\n",
              "      <td>1.000000</td>\n",
              "      <td>0.000000</td>\n",
              "      <td>0.000000</td>\n",
              "      <td>1.000000</td>\n",
              "      <td>0.000000</td>\n",
              "      <td>1.000000</td>\n",
              "      <td>27.000000</td>\n",
              "      <td>5.000000</td>\n",
              "    </tr>\n",
              "    <tr>\n",
              "      <th>75%</th>\n",
              "      <td>1.000000</td>\n",
              "      <td>1.000000</td>\n",
              "      <td>1.000000</td>\n",
              "      <td>1.000000</td>\n",
              "      <td>1.000000</td>\n",
              "      <td>1.000000</td>\n",
              "      <td>1.000000</td>\n",
              "      <td>1.000000</td>\n",
              "      <td>1.000000</td>\n",
              "      <td>1.000000</td>\n",
              "      <td>35.000000</td>\n",
              "      <td>7.000000</td>\n",
              "    </tr>\n",
              "    <tr>\n",
              "      <th>max</th>\n",
              "      <td>1.000000</td>\n",
              "      <td>1.000000</td>\n",
              "      <td>1.000000</td>\n",
              "      <td>1.000000</td>\n",
              "      <td>1.000000</td>\n",
              "      <td>1.000000</td>\n",
              "      <td>1.000000</td>\n",
              "      <td>1.000000</td>\n",
              "      <td>1.000000</td>\n",
              "      <td>1.000000</td>\n",
              "      <td>383.000000</td>\n",
              "      <td>10.000000</td>\n",
              "    </tr>\n",
              "  </tbody>\n",
              "</table>\n",
              "</div>\n",
              "      <button class=\"colab-df-convert\" onclick=\"convertToInteractive('df-f9f11306-9832-4e5e-ba21-a2133d0ff32b')\"\n",
              "              title=\"Convert this dataframe to an interactive table.\"\n",
              "              style=\"display:none;\">\n",
              "        \n",
              "  <svg xmlns=\"http://www.w3.org/2000/svg\" height=\"24px\"viewBox=\"0 0 24 24\"\n",
              "       width=\"24px\">\n",
              "    <path d=\"M0 0h24v24H0V0z\" fill=\"none\"/>\n",
              "    <path d=\"M18.56 5.44l.94 2.06.94-2.06 2.06-.94-2.06-.94-.94-2.06-.94 2.06-2.06.94zm-11 1L8.5 8.5l.94-2.06 2.06-.94-2.06-.94L8.5 2.5l-.94 2.06-2.06.94zm10 10l.94 2.06.94-2.06 2.06-.94-2.06-.94-.94-2.06-.94 2.06-2.06.94z\"/><path d=\"M17.41 7.96l-1.37-1.37c-.4-.4-.92-.59-1.43-.59-.52 0-1.04.2-1.43.59L10.3 9.45l-7.72 7.72c-.78.78-.78 2.05 0 2.83L4 21.41c.39.39.9.59 1.41.59.51 0 1.02-.2 1.41-.59l7.78-7.78 2.81-2.81c.8-.78.8-2.07 0-2.86zM5.41 20L4 18.59l7.72-7.72 1.47 1.35L5.41 20z\"/>\n",
              "  </svg>\n",
              "      </button>\n",
              "      \n",
              "  <style>\n",
              "    .colab-df-container {\n",
              "      display:flex;\n",
              "      flex-wrap:wrap;\n",
              "      gap: 12px;\n",
              "    }\n",
              "\n",
              "    .colab-df-convert {\n",
              "      background-color: #E8F0FE;\n",
              "      border: none;\n",
              "      border-radius: 50%;\n",
              "      cursor: pointer;\n",
              "      display: none;\n",
              "      fill: #1967D2;\n",
              "      height: 32px;\n",
              "      padding: 0 0 0 0;\n",
              "      width: 32px;\n",
              "    }\n",
              "\n",
              "    .colab-df-convert:hover {\n",
              "      background-color: #E2EBFA;\n",
              "      box-shadow: 0px 1px 2px rgba(60, 64, 67, 0.3), 0px 1px 3px 1px rgba(60, 64, 67, 0.15);\n",
              "      fill: #174EA6;\n",
              "    }\n",
              "\n",
              "    [theme=dark] .colab-df-convert {\n",
              "      background-color: #3B4455;\n",
              "      fill: #D2E3FC;\n",
              "    }\n",
              "\n",
              "    [theme=dark] .colab-df-convert:hover {\n",
              "      background-color: #434B5C;\n",
              "      box-shadow: 0px 1px 3px 1px rgba(0, 0, 0, 0.15);\n",
              "      filter: drop-shadow(0px 1px 2px rgba(0, 0, 0, 0.3));\n",
              "      fill: #FFFFFF;\n",
              "    }\n",
              "  </style>\n",
              "\n",
              "      <script>\n",
              "        const buttonEl =\n",
              "          document.querySelector('#df-f9f11306-9832-4e5e-ba21-a2133d0ff32b button.colab-df-convert');\n",
              "        buttonEl.style.display =\n",
              "          google.colab.kernel.accessAllowed ? 'block' : 'none';\n",
              "\n",
              "        async function convertToInteractive(key) {\n",
              "          const element = document.querySelector('#df-f9f11306-9832-4e5e-ba21-a2133d0ff32b');\n",
              "          const dataTable =\n",
              "            await google.colab.kernel.invokeFunction('convertToInteractive',\n",
              "                                                     [key], {});\n",
              "          if (!dataTable) return;\n",
              "\n",
              "          const docLinkHtml = 'Like what you see? Visit the ' +\n",
              "            '<a target=\"_blank\" href=https://colab.research.google.com/notebooks/data_table.ipynb>data table notebook</a>'\n",
              "            + ' to learn more about interactive tables.';\n",
              "          element.innerHTML = '';\n",
              "          dataTable['output_type'] = 'display_data';\n",
              "          await google.colab.output.renderOutput(dataTable, element);\n",
              "          const docLink = document.createElement('div');\n",
              "          docLink.innerHTML = docLinkHtml;\n",
              "          element.appendChild(docLink);\n",
              "        }\n",
              "      </script>\n",
              "    </div>\n",
              "  </div>\n",
              "  "
            ]
          },
          "metadata": {},
          "execution_count": 37
        }
      ],
      "source": [
        "asd_data.dropna(inplace=True)\n",
        "asd_data.describe()"
      ]
    },
    {
      "cell_type": "markdown",
      "metadata": {
        "deletable": true,
        "editable": true,
        "id": "zDSbh2WPTzJD"
      },
      "source": [
        "### If we could have fill with median values for 'NaN' instead of dropping them, but in this situation that is little complicated as I have lot of categorical colums with 'NaN'."
      ]
    },
    {
      "cell_type": "code",
      "execution_count": null,
      "metadata": {
        "deletable": true,
        "editable": true,
        "id": "-DuOsqPwTzJD",
        "colab": {
          "base_uri": "https://localhost:8080/",
          "height": 401
        },
        "outputId": "4f1f8db5-a5c0-405d-a4bd-e0261af28f97"
      },
      "outputs": [
        {
          "output_type": "stream",
          "name": "stderr",
          "text": [
            "/usr/local/lib/python3.7/dist-packages/ipykernel_launcher.py:1: FutureWarning: Dropping of nuisance columns in DataFrame reductions (with 'numeric_only=None') is deprecated; in a future version this will raise TypeError.  Select only valid columns before calling the reduction.\n",
            "  \"\"\"Entry point for launching an IPython kernel.\n"
          ]
        },
        {
          "output_type": "execute_result",
          "data": {
            "text/plain": [
              "         A1_Score    A2_Score    A3_Score    A4_Score    A5_Score    A6_Score  \\\n",
              "count  609.000000  609.000000  609.000000  609.000000  609.000000  609.000000   \n",
              "mean     0.740558    0.469622    0.481117    0.520525    0.525452    0.307061   \n",
              "std      0.438689    0.499487    0.500054    0.499989    0.499762    0.461654   \n",
              "min      0.000000    0.000000    0.000000    0.000000    0.000000    0.000000   \n",
              "25%      0.000000    0.000000    0.000000    0.000000    0.000000    0.000000   \n",
              "50%      1.000000    0.000000    0.000000    1.000000    1.000000    0.000000   \n",
              "75%      1.000000    1.000000    1.000000    1.000000    1.000000    1.000000   \n",
              "max      1.000000    1.000000    1.000000    1.000000    1.000000    1.000000   \n",
              "\n",
              "         A7_Score    A8_Score    A9_Score   A10_Score         age      result  \n",
              "count  609.000000  609.000000  609.000000  609.000000  609.000000  609.000000  \n",
              "mean     0.428571    0.665025    0.341544    0.597701   30.215107    5.077176  \n",
              "std      0.495278    0.472370    0.474617    0.490765   17.287470    2.522717  \n",
              "min      0.000000    0.000000    0.000000    0.000000   17.000000    0.000000  \n",
              "25%      0.000000    0.000000    0.000000    0.000000   22.000000    3.000000  \n",
              "50%      0.000000    1.000000    0.000000    1.000000   27.000000    5.000000  \n",
              "75%      1.000000    1.000000    1.000000    1.000000   35.000000    7.000000  \n",
              "max      1.000000    1.000000    1.000000    1.000000  383.000000   10.000000  "
            ],
            "text/html": [
              "\n",
              "  <div id=\"df-dd8a2109-4857-418b-ab4e-762dc33ef845\">\n",
              "    <div class=\"colab-df-container\">\n",
              "      <div>\n",
              "<style scoped>\n",
              "    .dataframe tbody tr th:only-of-type {\n",
              "        vertical-align: middle;\n",
              "    }\n",
              "\n",
              "    .dataframe tbody tr th {\n",
              "        vertical-align: top;\n",
              "    }\n",
              "\n",
              "    .dataframe thead th {\n",
              "        text-align: right;\n",
              "    }\n",
              "</style>\n",
              "<table border=\"1\" class=\"dataframe\">\n",
              "  <thead>\n",
              "    <tr style=\"text-align: right;\">\n",
              "      <th></th>\n",
              "      <th>A1_Score</th>\n",
              "      <th>A2_Score</th>\n",
              "      <th>A3_Score</th>\n",
              "      <th>A4_Score</th>\n",
              "      <th>A5_Score</th>\n",
              "      <th>A6_Score</th>\n",
              "      <th>A7_Score</th>\n",
              "      <th>A8_Score</th>\n",
              "      <th>A9_Score</th>\n",
              "      <th>A10_Score</th>\n",
              "      <th>age</th>\n",
              "      <th>result</th>\n",
              "    </tr>\n",
              "  </thead>\n",
              "  <tbody>\n",
              "    <tr>\n",
              "      <th>count</th>\n",
              "      <td>609.000000</td>\n",
              "      <td>609.000000</td>\n",
              "      <td>609.000000</td>\n",
              "      <td>609.000000</td>\n",
              "      <td>609.000000</td>\n",
              "      <td>609.000000</td>\n",
              "      <td>609.000000</td>\n",
              "      <td>609.000000</td>\n",
              "      <td>609.000000</td>\n",
              "      <td>609.000000</td>\n",
              "      <td>609.000000</td>\n",
              "      <td>609.000000</td>\n",
              "    </tr>\n",
              "    <tr>\n",
              "      <th>mean</th>\n",
              "      <td>0.740558</td>\n",
              "      <td>0.469622</td>\n",
              "      <td>0.481117</td>\n",
              "      <td>0.520525</td>\n",
              "      <td>0.525452</td>\n",
              "      <td>0.307061</td>\n",
              "      <td>0.428571</td>\n",
              "      <td>0.665025</td>\n",
              "      <td>0.341544</td>\n",
              "      <td>0.597701</td>\n",
              "      <td>30.215107</td>\n",
              "      <td>5.077176</td>\n",
              "    </tr>\n",
              "    <tr>\n",
              "      <th>std</th>\n",
              "      <td>0.438689</td>\n",
              "      <td>0.499487</td>\n",
              "      <td>0.500054</td>\n",
              "      <td>0.499989</td>\n",
              "      <td>0.499762</td>\n",
              "      <td>0.461654</td>\n",
              "      <td>0.495278</td>\n",
              "      <td>0.472370</td>\n",
              "      <td>0.474617</td>\n",
              "      <td>0.490765</td>\n",
              "      <td>17.287470</td>\n",
              "      <td>2.522717</td>\n",
              "    </tr>\n",
              "    <tr>\n",
              "      <th>min</th>\n",
              "      <td>0.000000</td>\n",
              "      <td>0.000000</td>\n",
              "      <td>0.000000</td>\n",
              "      <td>0.000000</td>\n",
              "      <td>0.000000</td>\n",
              "      <td>0.000000</td>\n",
              "      <td>0.000000</td>\n",
              "      <td>0.000000</td>\n",
              "      <td>0.000000</td>\n",
              "      <td>0.000000</td>\n",
              "      <td>17.000000</td>\n",
              "      <td>0.000000</td>\n",
              "    </tr>\n",
              "    <tr>\n",
              "      <th>25%</th>\n",
              "      <td>0.000000</td>\n",
              "      <td>0.000000</td>\n",
              "      <td>0.000000</td>\n",
              "      <td>0.000000</td>\n",
              "      <td>0.000000</td>\n",
              "      <td>0.000000</td>\n",
              "      <td>0.000000</td>\n",
              "      <td>0.000000</td>\n",
              "      <td>0.000000</td>\n",
              "      <td>0.000000</td>\n",
              "      <td>22.000000</td>\n",
              "      <td>3.000000</td>\n",
              "    </tr>\n",
              "    <tr>\n",
              "      <th>50%</th>\n",
              "      <td>1.000000</td>\n",
              "      <td>0.000000</td>\n",
              "      <td>0.000000</td>\n",
              "      <td>1.000000</td>\n",
              "      <td>1.000000</td>\n",
              "      <td>0.000000</td>\n",
              "      <td>0.000000</td>\n",
              "      <td>1.000000</td>\n",
              "      <td>0.000000</td>\n",
              "      <td>1.000000</td>\n",
              "      <td>27.000000</td>\n",
              "      <td>5.000000</td>\n",
              "    </tr>\n",
              "    <tr>\n",
              "      <th>75%</th>\n",
              "      <td>1.000000</td>\n",
              "      <td>1.000000</td>\n",
              "      <td>1.000000</td>\n",
              "      <td>1.000000</td>\n",
              "      <td>1.000000</td>\n",
              "      <td>1.000000</td>\n",
              "      <td>1.000000</td>\n",
              "      <td>1.000000</td>\n",
              "      <td>1.000000</td>\n",
              "      <td>1.000000</td>\n",
              "      <td>35.000000</td>\n",
              "      <td>7.000000</td>\n",
              "    </tr>\n",
              "    <tr>\n",
              "      <th>max</th>\n",
              "      <td>1.000000</td>\n",
              "      <td>1.000000</td>\n",
              "      <td>1.000000</td>\n",
              "      <td>1.000000</td>\n",
              "      <td>1.000000</td>\n",
              "      <td>1.000000</td>\n",
              "      <td>1.000000</td>\n",
              "      <td>1.000000</td>\n",
              "      <td>1.000000</td>\n",
              "      <td>1.000000</td>\n",
              "      <td>383.000000</td>\n",
              "      <td>10.000000</td>\n",
              "    </tr>\n",
              "  </tbody>\n",
              "</table>\n",
              "</div>\n",
              "      <button class=\"colab-df-convert\" onclick=\"convertToInteractive('df-dd8a2109-4857-418b-ab4e-762dc33ef845')\"\n",
              "              title=\"Convert this dataframe to an interactive table.\"\n",
              "              style=\"display:none;\">\n",
              "        \n",
              "  <svg xmlns=\"http://www.w3.org/2000/svg\" height=\"24px\"viewBox=\"0 0 24 24\"\n",
              "       width=\"24px\">\n",
              "    <path d=\"M0 0h24v24H0V0z\" fill=\"none\"/>\n",
              "    <path d=\"M18.56 5.44l.94 2.06.94-2.06 2.06-.94-2.06-.94-.94-2.06-.94 2.06-2.06.94zm-11 1L8.5 8.5l.94-2.06 2.06-.94-2.06-.94L8.5 2.5l-.94 2.06-2.06.94zm10 10l.94 2.06.94-2.06 2.06-.94-2.06-.94-.94-2.06-.94 2.06-2.06.94z\"/><path d=\"M17.41 7.96l-1.37-1.37c-.4-.4-.92-.59-1.43-.59-.52 0-1.04.2-1.43.59L10.3 9.45l-7.72 7.72c-.78.78-.78 2.05 0 2.83L4 21.41c.39.39.9.59 1.41.59.51 0 1.02-.2 1.41-.59l7.78-7.78 2.81-2.81c.8-.78.8-2.07 0-2.86zM5.41 20L4 18.59l7.72-7.72 1.47 1.35L5.41 20z\"/>\n",
              "  </svg>\n",
              "      </button>\n",
              "      \n",
              "  <style>\n",
              "    .colab-df-container {\n",
              "      display:flex;\n",
              "      flex-wrap:wrap;\n",
              "      gap: 12px;\n",
              "    }\n",
              "\n",
              "    .colab-df-convert {\n",
              "      background-color: #E8F0FE;\n",
              "      border: none;\n",
              "      border-radius: 50%;\n",
              "      cursor: pointer;\n",
              "      display: none;\n",
              "      fill: #1967D2;\n",
              "      height: 32px;\n",
              "      padding: 0 0 0 0;\n",
              "      width: 32px;\n",
              "    }\n",
              "\n",
              "    .colab-df-convert:hover {\n",
              "      background-color: #E2EBFA;\n",
              "      box-shadow: 0px 1px 2px rgba(60, 64, 67, 0.3), 0px 1px 3px 1px rgba(60, 64, 67, 0.15);\n",
              "      fill: #174EA6;\n",
              "    }\n",
              "\n",
              "    [theme=dark] .colab-df-convert {\n",
              "      background-color: #3B4455;\n",
              "      fill: #D2E3FC;\n",
              "    }\n",
              "\n",
              "    [theme=dark] .colab-df-convert:hover {\n",
              "      background-color: #434B5C;\n",
              "      box-shadow: 0px 1px 3px 1px rgba(0, 0, 0, 0.15);\n",
              "      filter: drop-shadow(0px 1px 2px rgba(0, 0, 0, 0.3));\n",
              "      fill: #FFFFFF;\n",
              "    }\n",
              "  </style>\n",
              "\n",
              "      <script>\n",
              "        const buttonEl =\n",
              "          document.querySelector('#df-dd8a2109-4857-418b-ab4e-762dc33ef845 button.colab-df-convert');\n",
              "        buttonEl.style.display =\n",
              "          google.colab.kernel.accessAllowed ? 'block' : 'none';\n",
              "\n",
              "        async function convertToInteractive(key) {\n",
              "          const element = document.querySelector('#df-dd8a2109-4857-418b-ab4e-762dc33ef845');\n",
              "          const dataTable =\n",
              "            await google.colab.kernel.invokeFunction('convertToInteractive',\n",
              "                                                     [key], {});\n",
              "          if (!dataTable) return;\n",
              "\n",
              "          const docLinkHtml = 'Like what you see? Visit the ' +\n",
              "            '<a target=\"_blank\" href=https://colab.research.google.com/notebooks/data_table.ipynb>data table notebook</a>'\n",
              "            + ' to learn more about interactive tables.';\n",
              "          element.innerHTML = '';\n",
              "          dataTable['output_type'] = 'display_data';\n",
              "          await google.colab.output.renderOutput(dataTable, element);\n",
              "          const docLink = document.createElement('div');\n",
              "          docLink.innerHTML = docLinkHtml;\n",
              "          element.appendChild(docLink);\n",
              "        }\n",
              "      </script>\n",
              "    </div>\n",
              "  </div>\n",
              "  "
            ]
          },
          "metadata": {},
          "execution_count": 38
        }
      ],
      "source": [
        "asd_data.median()\n",
        "numerical = ['age', 'result']\n",
        "asd_data.fillna(asd_data[numerical].median())\n",
        "asd_data.describe()\n"
      ]
    },
    {
      "cell_type": "markdown",
      "metadata": {
        "deletable": true,
        "editable": true,
        "id": "5WomeLqLTzJE"
      },
      "source": [
        "Let's check out the data types of all our features including the target feature. Moreover, lets count the total number of instances and the target-class distribution."
      ]
    },
    {
      "cell_type": "code",
      "execution_count": null,
      "metadata": {
        "deletable": true,
        "editable": true,
        "id": "P9T-MKA1TzJE",
        "outputId": "570ecf5b-cef8-44a9-d9d5-6a59abff2670",
        "colab": {
          "base_uri": "https://localhost:8080/"
        }
      },
      "outputs": [
        {
          "output_type": "stream",
          "name": "stdout",
          "text": [
            "A1_Score             int64\n",
            "A2_Score             int64\n",
            "A3_Score             int64\n",
            "A4_Score             int64\n",
            "A5_Score             int64\n",
            "A6_Score             int64\n",
            "A7_Score             int64\n",
            "A8_Score             int64\n",
            "A9_Score             int64\n",
            "A10_Score            int64\n",
            "age                float64\n",
            "gender              object\n",
            "ethnicity           object\n",
            "jundice             object\n",
            "autsim              object\n",
            "contry_of_res       object\n",
            "used_app_before     object\n",
            "result               int64\n",
            "age_desc            object\n",
            "relation            object\n",
            "Class/ASD           object\n",
            "dtype: object\n",
            "Total number of records: 609\n",
            "Individuals diagonised with ASD: 180\n",
            "Individuals not diagonised with ASD: 429\n"
          ]
        }
      ],
      "source": [
        "# Reminder of the features:\n",
        "print(asd_data.dtypes)\n",
        "\n",
        "\n",
        "# Total number of records in clean dataset\n",
        "n_records = len(asd_data.index)\n",
        "\n",
        "# TODO: Number of records where individual's with ASD in the clean dataset\n",
        "n_asd_yes = len(asd_data[asd_data['Class/ASD'] == 'YES'])\n",
        "\n",
        "# TODO: Number of records where individual's with no ASD in the clean dataset\n",
        "n_asd_no = len(asd_data[asd_data['Class/ASD'] == 'NO'])\n",
        "\n",
        "# Print the results\n",
        "print (\"Total number of records: {}\".format(n_records))\n",
        "print (\"Individuals diagonised with ASD: {}\".format(n_asd_yes))\n",
        "print (\"Individuals not diagonised with ASD: {}\".format(n_asd_no))"
      ]
    },
    {
      "cell_type": "markdown",
      "metadata": {
        "deletable": true,
        "editable": true,
        "id": "0-b-hbb1TzJE"
      },
      "source": [
        "---\n",
        "<a id='step2'></a>\n",
        "\n",
        "## Step 2: A quick visualization with *Seaborn*"
      ]
    },
    {
      "cell_type": "code",
      "execution_count": null,
      "metadata": {
        "collapsed": true,
        "deletable": true,
        "editable": true,
        "id": "XdYre0BPTzJE",
        "colab": {
          "base_uri": "https://localhost:8080/",
          "height": 360
        },
        "outputId": "c6b8b0d5-7ecc-48c3-9072-89e5ed6201c9"
      },
      "outputs": [
        {
          "output_type": "stream",
          "name": "stderr",
          "text": [
            "/usr/local/lib/python3.7/dist-packages/seaborn/_decorators.py:43: FutureWarning: Pass the following variable as a keyword arg: x. From version 0.12, the only valid positional argument will be `data`, and passing other arguments without an explicit keyword will result in an error or misinterpretation.\n",
            "  FutureWarning\n"
          ]
        },
        {
          "output_type": "execute_result",
          "data": {
            "text/plain": [
              "<matplotlib.axes._subplots.AxesSubplot at 0x7f0a59a4ba10>"
            ]
          },
          "metadata": {},
          "execution_count": 40
        },
        {
          "output_type": "display_data",
          "data": {
            "text/plain": [
              "<Figure size 432x288 with 1 Axes>"
            ],
            "image/png": "[encoded data removed]"
          },
          "metadata": {}
        }
      ],
      "source": [
        "import seaborn as sns\n",
        "import matplotlib.pyplot as plt\n",
        "sns.set(style=\"whitegrid\", color_codes=True)\n",
        "sns.countplot(data['Class/ASD'],label='count')"
      ]
    },
    {
      "cell_type": "code",
      "execution_count": null,
      "metadata": {
        "deletable": true,
        "editable": true,
        "id": "VlM0iaopTzJF",
        "outputId": "35bcae2e-a81b-438f-dad3-b5b063d42075",
        "colab": {
          "base_uri": "https://localhost:8080/",
          "height": 285
        }
      },
      "outputs": [
        {
          "output_type": "display_data",
          "data": {
            "text/plain": [
              "<Figure size 432x288 with 1 Axes>"
            ],
            "image/png": "[encoded data removed]"
          },
          "metadata": {}
        }
      ],
      "source": [
        "# Draw a nested violinplot and split the violins for easier comparison\n",
        "sns.violinplot(x=\"jundice\", y=\"result\", hue=\"autsim\", data=asd_data, split=True,\n",
        "                inner=\"quart\", palette={'yes': \"r\", 'no': \"b\"})\n",
        "sns.despine(left=True)"
      ]
    },
    {
      "cell_type": "code",
      "execution_count": null,
      "metadata": {
        "deletable": true,
        "editable": true,
        "id": "9Y01ITh-TzJF",
        "colab": {
          "base_uri": "https://localhost:8080/",
          "height": 285
        },
        "outputId": "20806ec3-1ccc-48d8-fe4d-b29793ac81af"
      },
      "outputs": [
        {
          "output_type": "display_data",
          "data": {
            "text/plain": [
              "<Figure size 432x288 with 1 Axes>"
            ],
            "image/png": "[encoded data removed]"
          },
          "metadata": {}
        }
      ],
      "source": [
        "#Draw a nested violinplot and split the violins for easier comparison\n",
        "sns.violinplot(x=\"gender\", y=\"result\", hue=\"Class/ASD\", data=asd_data, split=True,\n",
        "                inner=\"quart\", palette={'YES': \"r\", 'NO': \"b\"})\n",
        "sns.despine(left=True)"
      ]
    },
    {
      "cell_type": "code",
      "execution_count": null,
      "metadata": {
        "deletable": true,
        "editable": true,
        "id": "7sdBLGmmTzJG",
        "colab": {
          "base_uri": "https://localhost:8080/",
          "height": 495
        },
        "outputId": "b62ab25d-3531-4c91-d727-a5576f5972c1"
      },
      "outputs": [
        {
          "output_type": "stream",
          "name": "stderr",
          "text": [
            "/usr/local/lib/python3.7/dist-packages/seaborn/categorical.py:3717: UserWarning: The `factorplot` function has been renamed to `catplot`. The original name will be removed in a future release. Please update your code. Note that the default `kind` in `factorplot` (`'point'`) has changed `'strip'` in `catplot`.\n",
            "  warnings.warn(msg)\n",
            "/usr/local/lib/python3.7/dist-packages/seaborn/categorical.py:1296: UserWarning: 30.1% of the points cannot be placed; you may want to decrease the size of the markers or use stripplot.\n",
            "  warnings.warn(msg, UserWarning)\n",
            "/usr/local/lib/python3.7/dist-packages/seaborn/categorical.py:1296: UserWarning: 36.3% of the points cannot be placed; you may want to decrease the size of the markers or use stripplot.\n",
            "  warnings.warn(msg, UserWarning)\n"
          ]
        },
        {
          "output_type": "display_data",
          "data": {
            "text/plain": [
              "<Figure size 789.8x360 with 2 Axes>"
            ],
            "image/png": "[encoded data removed]"
          },
          "metadata": {}
        }
      ],
      "source": [
        "sns.factorplot(x=\"jundice\", y=\"result\", hue=\"Class/ASD\", col=\"gender\", data=asd_data, kind=\"swarm\");"
      ]
    },
    {
      "cell_type": "code",
      "execution_count": null,
      "metadata": {
        "deletable": true,
        "editable": true,
        "id": "oC7aivabTzJG",
        "colab": {
          "base_uri": "https://localhost:8080/",
          "height": 386
        },
        "outputId": "67987ee8-9acd-4177-dc94-f5050d0df1bd"
      },
      "outputs": [
        {
          "output_type": "stream",
          "name": "stderr",
          "text": [
            "/usr/local/lib/python3.7/dist-packages/seaborn/categorical.py:3717: UserWarning: The `factorplot` function has been renamed to `catplot`. The original name will be removed in a future release. Please update your code. Note that the default `kind` in `factorplot` (`'point'`) has changed `'strip'` in `catplot`.\n",
            "  warnings.warn(msg)\n",
            "/usr/local/lib/python3.7/dist-packages/seaborn/categorical.py:3723: UserWarning: The `size` parameter has been renamed to `height`; please update your code.\n",
            "  warnings.warn(msg, UserWarning)\n"
          ]
        },
        {
          "output_type": "display_data",
          "data": {
            "text/plain": [
              "<Figure size 789.8x288 with 5 Axes>"
            ],
            "image/png": "[encoded data removed]"
          },
          "metadata": {}
        }
      ],
      "source": [
        "sns.factorplot(x=\"gender\", y=\"result\", hue=\"Class/ASD\",\n",
        "               col=\"relation\", data=asd_data, kind=\"box\", size=4, aspect=.5, palette={'YES': \"r\", 'NO': \"b\"});"
      ]
    },
    {
      "cell_type": "code",
      "execution_count": null,
      "metadata": {
        "deletable": true,
        "editable": true,
        "id": "Ih79c9DxTzJG",
        "colab": {
          "base_uri": "https://localhost:8080/",
          "height": 818
        },
        "outputId": "c82d71ee-db13-4343-ba41-fa75c733612d"
      },
      "outputs": [
        {
          "output_type": "stream",
          "name": "stderr",
          "text": [
            "/usr/local/lib/python3.7/dist-packages/seaborn/categorical.py:3717: UserWarning: The `factorplot` function has been renamed to `catplot`. The original name will be removed in a future release. Please update your code. Note that the default `kind` in `factorplot` (`'point'`) has changed `'strip'` in `catplot`.\n",
            "  warnings.warn(msg)\n",
            "/usr/local/lib/python3.7/dist-packages/seaborn/categorical.py:3723: UserWarning: The `size` parameter has been renamed to `height`; please update your code.\n",
            "  warnings.warn(msg, UserWarning)\n"
          ]
        },
        {
          "output_type": "display_data",
          "data": {
            "text/plain": [
              "<Figure size 555.425x720 with 5 Axes>"
            ],
            "image/png": "[encoded data removed]"
          },
          "metadata": {}
        }
      ],
      "source": [
        "g = sns.factorplot(x=\"result\", y=\"jundice\",\n",
        "                   hue=\"gender\", row=\"relation\",\n",
        "                   data=asd_data,\n",
        "                    orient=\"h\", size=2, aspect=3.5, palette={'f': \"r\", 'm': \"b\"},\n",
        "                  kind=\"violin\", dodge=True, cut=0, bw=.2)"
      ]
    },
    {
      "cell_type": "markdown",
      "metadata": {
        "deletable": true,
        "editable": true,
        "id": "Oh7Q2zjhTzJG"
      },
      "source": [
        "In the two figures above, I have used two different depiction techniques to have a quick peek on the ASD dataset we are dealing with. Both of the occasions I have used `factorplot` module from `seaborn` visualization software. In the first case, I used '`swamp`' kind of graph expressing the relationship between several different features present in the data whereas in the second case, '`box`' method was used to present the visual way of showing how different features were associated with each other."
      ]
    },
    {
      "cell_type": "markdown",
      "metadata": {
        "collapsed": true,
        "deletable": true,
        "editable": true,
        "id": "DakwB2AYTzJG"
      },
      "source": [
        "Next I'll need to convert the Pandas dataframes into numpy arrays that can be used by scikit_learn. Let's create an array that extracts only the feature data we want to work with and another array that contains the classes (class/ASD). "
      ]
    },
    {
      "cell_type": "code",
      "execution_count": null,
      "metadata": {
        "deletable": true,
        "editable": true,
        "id": "3VIvxaNSTzJH"
      },
      "outputs": [],
      "source": [
        "# Split the data into features and target label\n",
        "asd_raw = asd_data['Class/ASD']\n",
        "features_raw = asd_data[['age', 'gender', 'ethnicity', 'jundice', 'autsim', 'contry_of_res', 'result',\n",
        "                      'relation','A1_Score','A2_Score','A3_Score','A4_Score','A5_Score','A6_Score','A7_Score','A8_Score',\n",
        "                      'A9_Score','A10_Score']]"
      ]
    },
    {
      "cell_type": "markdown",
      "metadata": {
        "deletable": true,
        "editable": true,
        "id": "tOqKMeZUTzJH"
      },
      "source": [
        "Some of our models require the input data to be normalized, so I proceed to normalize the attribute data. Here, I use preprocessing.MinMaxScaler()."
      ]
    },
    {
      "cell_type": "code",
      "execution_count": null,
      "metadata": {
        "deletable": true,
        "editable": true,
        "id": "xG-tIWmWTzJH",
        "colab": {
          "base_uri": "https://localhost:8080/",
          "height": 305
        },
        "outputId": "57474d7f-4446-4292-818f-d4de9901d4cc"
      },
      "outputs": [
        {
          "output_type": "display_data",
          "data": {
            "text/plain": [
              "        age gender       ethnicity jundice autsim    contry_of_res  result  \\\n",
              "0  0.024590      f  White-European      no     no  'United States'     0.6   \n",
              "1  0.019126      m          Latino      no    yes           Brazil     0.5   \n",
              "2  0.027322      m          Latino     yes    yes            Spain     0.8   \n",
              "3  0.049180      f  White-European      no    yes  'United States'     0.6   \n",
              "5  0.051913      m          Others     yes     no  'United States'     0.9   \n",
              "\n",
              "  relation  A1_Score  A2_Score  A3_Score  A4_Score  A5_Score  A6_Score  \\\n",
              "0     Self         1         1         1         1         0         0   \n",
              "1     Self         1         1         0         1         0         0   \n",
              "2   Parent         1         1         0         1         1         0   \n",
              "3     Self         1         1         0         1         0         0   \n",
              "5     Self         1         1         1         1         1         0   \n",
              "\n",
              "   A7_Score  A8_Score  A9_Score  A10_Score  \n",
              "0         1         1         0          0  \n",
              "1         0         1         0          1  \n",
              "2         1         1         1          1  \n",
              "3         1         1         0          1  \n",
              "5         1         1         1          1  "
            ],
            "text/html": [
              "\n",
              "  <div id=\"df-07025a07-5cea-4f66-8f15-a47a877aa954\">\n",
              "    <div class=\"colab-df-container\">\n",
              "      <div>\n",
              "<style scoped>\n",
              "    .dataframe tbody tr th:only-of-type {\n",
              "        vertical-align: middle;\n",
              "    }\n",
              "\n",
              "    .dataframe tbody tr th {\n",
              "        vertical-align: top;\n",
              "    }\n",
              "\n",
              "    .dataframe thead th {\n",
              "        text-align: right;\n",
              "    }\n",
              "</style>\n",
              "<table border=\"1\" class=\"dataframe\">\n",
              "  <thead>\n",
              "    <tr style=\"text-align: right;\">\n",
              "      <th></th>\n",
              "      <th>age</th>\n",
              "      <th>gender</th>\n",
              "      <th>ethnicity</th>\n",
              "      <th>jundice</th>\n",
              "      <th>autsim</th>\n",
              "      <th>contry_of_res</th>\n",
              "      <th>result</th>\n",
              "      <th>relation</th>\n",
              "      <th>A1_Score</th>\n",
              "      <th>A2_Score</th>\n",
              "      <th>A3_Score</th>\n",
              "      <th>A4_Score</th>\n",
              "      <th>A5_Score</th>\n",
              "      <th>A6_Score</th>\n",
              "      <th>A7_Score</th>\n",
              "      <th>A8_Score</th>\n",
              "      <th>A9_Score</th>\n",
              "      <th>A10_Score</th>\n",
              "    </tr>\n",
              "  </thead>\n",
              "  <tbody>\n",
              "    <tr>\n",
              "      <th>0</th>\n",
              "      <td>0.024590</td>\n",
              "      <td>f</td>\n",
              "      <td>White-European</td>\n",
              "      <td>no</td>\n",
              "      <td>no</td>\n",
              "      <td>'United States'</td>\n",
              "      <td>0.6</td>\n",
              "      <td>Self</td>\n",
              "      <td>1</td>\n",
              "      <td>1</td>\n",
              "      <td>1</td>\n",
              "      <td>1</td>\n",
              "      <td>0</td>\n",
              "      <td>0</td>\n",
              "      <td>1</td>\n",
              "      <td>1</td>\n",
              "      <td>0</td>\n",
              "      <td>0</td>\n",
              "    </tr>\n",
              "    <tr>\n",
              "      <th>1</th>\n",
              "      <td>0.019126</td>\n",
              "      <td>m</td>\n",
              "      <td>Latino</td>\n",
              "      <td>no</td>\n",
              "      <td>yes</td>\n",
              "      <td>Brazil</td>\n",
              "      <td>0.5</td>\n",
              "      <td>Self</td>\n",
              "      <td>1</td>\n",
              "      <td>1</td>\n",
              "      <td>0</td>\n",
              "      <td>1</td>\n",
              "      <td>0</td>\n",
              "      <td>0</td>\n",
              "      <td>0</td>\n",
              "      <td>1</td>\n",
              "      <td>0</td>\n",
              "      <td>1</td>\n",
              "    </tr>\n",
              "    <tr>\n",
              "      <th>2</th>\n",
              "      <td>0.027322</td>\n",
              "      <td>m</td>\n",
              "      <td>Latino</td>\n",
              "      <td>yes</td>\n",
              "      <td>yes</td>\n",
              "      <td>Spain</td>\n",
              "      <td>0.8</td>\n",
              "      <td>Parent</td>\n",
              "      <td>1</td>\n",
              "      <td>1</td>\n",
              "      <td>0</td>\n",
              "      <td>1</td>\n",
              "      <td>1</td>\n",
              "      <td>0</td>\n",
              "      <td>1</td>\n",
              "      <td>1</td>\n",
              "      <td>1</td>\n",
              "      <td>1</td>\n",
              "    </tr>\n",
              "    <tr>\n",
              "      <th>3</th>\n",
              "      <td>0.049180</td>\n",
              "      <td>f</td>\n",
              "      <td>White-European</td>\n",
              "      <td>no</td>\n",
              "      <td>yes</td>\n",
              "      <td>'United States'</td>\n",
              "      <td>0.6</td>\n",
              "      <td>Self</td>\n",
              "      <td>1</td>\n",
              "      <td>1</td>\n",
              "      <td>0</td>\n",
              "      <td>1</td>\n",
              "      <td>0</td>\n",
              "      <td>0</td>\n",
              "      <td>1</td>\n",
              "      <td>1</td>\n",
              "      <td>0</td>\n",
              "      <td>1</td>\n",
              "    </tr>\n",
              "    <tr>\n",
              "      <th>5</th>\n",
              "      <td>0.051913</td>\n",
              "      <td>m</td>\n",
              "      <td>Others</td>\n",
              "      <td>yes</td>\n",
              "      <td>no</td>\n",
              "      <td>'United States'</td>\n",
              "      <td>0.9</td>\n",
              "      <td>Self</td>\n",
              "      <td>1</td>\n",
              "      <td>1</td>\n",
              "      <td>1</td>\n",
              "      <td>1</td>\n",
              "      <td>1</td>\n",
              "      <td>0</td>\n",
              "      <td>1</td>\n",
              "      <td>1</td>\n",
              "      <td>1</td>\n",
              "      <td>1</td>\n",
              "    </tr>\n",
              "  </tbody>\n",
              "</table>\n",
              "</div>\n",
              "      <button class=\"colab-df-convert\" onclick=\"convertToInteractive('df-07025a07-5cea-4f66-8f15-a47a877aa954')\"\n",
              "              title=\"Convert this dataframe to an interactive table.\"\n",
              "              style=\"display:none;\">\n",
              "        \n",
              "  <svg xmlns=\"http://www.w3.org/2000/svg\" height=\"24px\"viewBox=\"0 0 24 24\"\n",
              "       width=\"24px\">\n",
              "    <path d=\"M0 0h24v24H0V0z\" fill=\"none\"/>\n",
              "    <path d=\"M18.56 5.44l.94 2.06.94-2.06 2.06-.94-2.06-.94-.94-2.06-.94 2.06-2.06.94zm-11 1L8.5 8.5l.94-2.06 2.06-.94-2.06-.94L8.5 2.5l-.94 2.06-2.06.94zm10 10l.94 2.06.94-2.06 2.06-.94-2.06-.94-.94-2.06-.94 2.06-2.06.94z\"/><path d=\"M17.41 7.96l-1.37-1.37c-.4-.4-.92-.59-1.43-.59-.52 0-1.04.2-1.43.59L10.3 9.45l-7.72 7.72c-.78.78-.78 2.05 0 2.83L4 21.41c.39.39.9.59 1.41.59.51 0 1.02-.2 1.41-.59l7.78-7.78 2.81-2.81c.8-.78.8-2.07 0-2.86zM5.41 20L4 18.59l7.72-7.72 1.47 1.35L5.41 20z\"/>\n",
              "  </svg>\n",
              "      </button>\n",
              "      \n",
              "  <style>\n",
              "    .colab-df-container {\n",
              "      display:flex;\n",
              "      flex-wrap:wrap;\n",
              "      gap: 12px;\n",
              "    }\n",
              "\n",
              "    .colab-df-convert {\n",
              "      background-color: #E8F0FE;\n",
              "      border: none;\n",
              "      border-radius: 50%;\n",
              "      cursor: pointer;\n",
              "      display: none;\n",
              "      fill: #1967D2;\n",
              "      height: 32px;\n",
              "      padding: 0 0 0 0;\n",
              "      width: 32px;\n",
              "    }\n",
              "\n",
              "    .colab-df-convert:hover {\n",
              "      background-color: #E2EBFA;\n",
              "      box-shadow: 0px 1px 2px rgba(60, 64, 67, 0.3), 0px 1px 3px 1px rgba(60, 64, 67, 0.15);\n",
              "      fill: #174EA6;\n",
              "    }\n",
              "\n",
              "    [theme=dark] .colab-df-convert {\n",
              "      background-color: #3B4455;\n",
              "      fill: #D2E3FC;\n",
              "    }\n",
              "\n",
              "    [theme=dark] .colab-df-convert:hover {\n",
              "      background-color: #434B5C;\n",
              "      box-shadow: 0px 1px 3px 1px rgba(0, 0, 0, 0.15);\n",
              "      filter: drop-shadow(0px 1px 2px rgba(0, 0, 0, 0.3));\n",
              "      fill: #FFFFFF;\n",
              "    }\n",
              "  </style>\n",
              "\n",
              "      <script>\n",
              "        const buttonEl =\n",
              "          document.querySelector('#df-07025a07-5cea-4f66-8f15-a47a877aa954 button.colab-df-convert');\n",
              "        buttonEl.style.display =\n",
              "          google.colab.kernel.accessAllowed ? 'block' : 'none';\n",
              "\n",
              "        async function convertToInteractive(key) {\n",
              "          const element = document.querySelector('#df-07025a07-5cea-4f66-8f15-a47a877aa954');\n",
              "          const dataTable =\n",
              "            await google.colab.kernel.invokeFunction('convertToInteractive',\n",
              "                                                     [key], {});\n",
              "          if (!dataTable) return;\n",
              "\n",
              "          const docLinkHtml = 'Like what you see? Visit the ' +\n",
              "            '<a target=\"_blank\" href=https://colab.research.google.com/notebooks/data_table.ipynb>data table notebook</a>'\n",
              "            + ' to learn more about interactive tables.';\n",
              "          element.innerHTML = '';\n",
              "          dataTable['output_type'] = 'display_data';\n",
              "          await google.colab.output.renderOutput(dataTable, element);\n",
              "          const docLink = document.createElement('div');\n",
              "          docLink.innerHTML = docLinkHtml;\n",
              "          element.appendChild(docLink);\n",
              "        }\n",
              "      </script>\n",
              "    </div>\n",
              "  </div>\n",
              "  "
            ]
          },
          "metadata": {}
        }
      ],
      "source": [
        "from sklearn.preprocessing import MinMaxScaler\n",
        "\n",
        "scaler = MinMaxScaler()\n",
        "numerical = ['age', 'result']\n",
        "\n",
        "features_minmax_transform = pd.DataFrame(data = features_raw)\n",
        "features_minmax_transform[numerical] = scaler.fit_transform(features_raw[numerical])\n",
        "features_minmax_transform\n",
        "# Show an example of a record with scaling applied\n",
        "display(features_minmax_transform.head(n = 5))"
      ]
    },
    {
      "cell_type": "markdown",
      "metadata": {
        "deletable": true,
        "editable": true,
        "id": "YTyF1JVnTzJH"
      },
      "source": [
        "### One-Hot-Coding\n",
        "\n",
        "From the table in **Clean Data Sets** above, we can see there are several features for each record that are non-numeric such as `Country_of_residence`, `ethnicity` etc. Typically, learning algorithms expect input to be numeric, which requires that non-numeric features (called *categorical variables*) be converted. One popular way to convert categorical variables is by using the **one-hot encoding** scheme. One-hot encoding creates a _\"dummy\"_ variable for each possible category of each non-numeric feature. For example, assume `someFeature` has three possible entries: `A`, `B`, or `C`. We then encode this feature into `someFeature_A`, `someFeature_B` and `someFeature_C`.\n",
        "\n",
        "|   | someFeature |                    | someFeature_A | someFeature_B | someFeature_C |\n",
        "| :-: | :-: |                            | :-: | :-: | :-: |\n",
        "| 0 |  B  |  | 0 | 1 | 0 |\n",
        "| 1 |  C  | ----> one-hot encode ----> | 0 | 0 | 1 |\n",
        "| 2 |  A  |  | 1 | 0 | 0 |\n",
        "\n",
        "Additionally, as with the non-numeric features, I need to convert the non-numeric target label, `'Class/ASD'` to numerical values for the learning algorithm to work. Since there are only two possible categories for this label (\"YES\" and \"NO\" to Class/ASD), I can avoid using one-hot encoding and simply encode these two categories as `0` and `1`, respectively. In code cell below, I will implement the following:\n",
        " - Use [`pandas.get_dummies()`](http://pandas.pydata.org/pandas-docs/stable/generated/pandas.get_dummies.html?highlight=get_dummies#pandas.get_dummies) to perform one-hot encoding on the `'features_minmax_transform'` data.\n",
        " - Convert the target label `'asd_raw'` to numerical entries.\n",
        "   - Set records with \"NO\" to `0` and records with \"YES\" to `1`."
      ]
    },
    {
      "cell_type": "code",
      "execution_count": null,
      "metadata": {
        "deletable": true,
        "editable": true,
        "id": "cbdavV4oTzJI",
        "colab": {
          "base_uri": "https://localhost:8080/",
          "height": 371
        },
        "outputId": "05f76f1b-2db9-4cbc-8407-14c8623a402b"
      },
      "outputs": [
        {
          "output_type": "display_data",
          "data": {
            "text/plain": [
              "        age  result  A1_Score  A2_Score  A3_Score  A4_Score  A5_Score  \\\n",
              "0  0.024590     0.6         1         1         1         1         0   \n",
              "1  0.019126     0.5         1         1         0         1         0   \n",
              "2  0.027322     0.8         1         1         0         1         1   \n",
              "3  0.049180     0.6         1         1         0         1         0   \n",
              "5  0.051913     0.9         1         1         1         1         1   \n",
              "\n",
              "   A6_Score  A7_Score  A8_Score  ...  contry_of_res_Sweden  \\\n",
              "0         0         1         1  ...                     0   \n",
              "1         0         0         1  ...                     0   \n",
              "2         0         1         1  ...                     0   \n",
              "3         0         1         1  ...                     0   \n",
              "5         0         1         1  ...                     0   \n",
              "\n",
              "   contry_of_res_Tonga  contry_of_res_Turkey  contry_of_res_Ukraine  \\\n",
              "0                    0                     0                      0   \n",
              "1                    0                     0                      0   \n",
              "2                    0                     0                      0   \n",
              "3                    0                     0                      0   \n",
              "5                    0                     0                      0   \n",
              "\n",
              "   contry_of_res_Uruguay  relation_'Health care professional'  \\\n",
              "0                      0                                    0   \n",
              "1                      0                                    0   \n",
              "2                      0                                    0   \n",
              "3                      0                                    0   \n",
              "5                      0                                    0   \n",
              "\n",
              "   relation_Others  relation_Parent  relation_Relative  relation_Self  \n",
              "0                0                0                  0              1  \n",
              "1                0                0                  0              1  \n",
              "2                0                1                  0              0  \n",
              "3                0                0                  0              1  \n",
              "5                0                0                  0              1  \n",
              "\n",
              "[5 rows x 94 columns]"
            ],
            "text/html": [
              "\n",
              "  <div id=\"df-b0922d45-44ce-49f8-8a79-5ec151c6d6a9\">\n",
              "    <div class=\"colab-df-container\">\n",
              "      <div>\n",
              "<style scoped>\n",
              "    .dataframe tbody tr th:only-of-type {\n",
              "        vertical-align: middle;\n",
              "    }\n",
              "\n",
              "    .dataframe tbody tr th {\n",
              "        vertical-align: top;\n",
              "    }\n",
              "\n",
              "    .dataframe thead th {\n",
              "        text-align: right;\n",
              "    }\n",
              "</style>\n",
              "<table border=\"1\" class=\"dataframe\">\n",
              "  <thead>\n",
              "    <tr style=\"text-align: right;\">\n",
              "      <th></th>\n",
              "      <th>age</th>\n",
              "      <th>result</th>\n",
              "      <th>A1_Score</th>\n",
              "      <th>A2_Score</th>\n",
              "      <th>A3_Score</th>\n",
              "      <th>A4_Score</th>\n",
              "      <th>A5_Score</th>\n",
              "      <th>A6_Score</th>\n",
              "      <th>A7_Score</th>\n",
              "      <th>A8_Score</th>\n",
              "      <th>...</th>\n",
              "      <th>contry_of_res_Sweden</th>\n",
              "      <th>contry_of_res_Tonga</th>\n",
              "      <th>contry_of_res_Turkey</th>\n",
              "      <th>contry_of_res_Ukraine</th>\n",
              "      <th>contry_of_res_Uruguay</th>\n",
              "      <th>relation_'Health care professional'</th>\n",
              "      <th>relation_Others</th>\n",
              "      <th>relation_Parent</th>\n",
              "      <th>relation_Relative</th>\n",
              "      <th>relation_Self</th>\n",
              "    </tr>\n",
              "  </thead>\n",
              "  <tbody>\n",
              "    <tr>\n",
              "      <th>0</th>\n",
              "      <td>0.024590</td>\n",
              "      <td>0.6</td>\n",
              "      <td>1</td>\n",
              "      <td>1</td>\n",
              "      <td>1</td>\n",
              "      <td>1</td>\n",
              "      <td>0</td>\n",
              "      <td>0</td>\n",
              "      <td>1</td>\n",
              "      <td>1</td>\n",
              "      <td>...</td>\n",
              "      <td>0</td>\n",
              "      <td>0</td>\n",
              "      <td>0</td>\n",
              "      <td>0</td>\n",
              "      <td>0</td>\n",
              "      <td>0</td>\n",
              "      <td>0</td>\n",
              "      <td>0</td>\n",
              "      <td>0</td>\n",
              "      <td>1</td>\n",
              "    </tr>\n",
              "    <tr>\n",
              "      <th>1</th>\n",
              "      <td>0.019126</td>\n",
              "      <td>0.5</td>\n",
              "      <td>1</td>\n",
              "      <td>1</td>\n",
              "      <td>0</td>\n",
              "      <td>1</td>\n",
              "      <td>0</td>\n",
              "      <td>0</td>\n",
              "      <td>0</td>\n",
              "      <td>1</td>\n",
              "      <td>...</td>\n",
              "      <td>0</td>\n",
              "      <td>0</td>\n",
              "      <td>0</td>\n",
              "      <td>0</td>\n",
              "      <td>0</td>\n",
              "      <td>0</td>\n",
              "      <td>0</td>\n",
              "      <td>0</td>\n",
              "      <td>0</td>\n",
              "      <td>1</td>\n",
              "    </tr>\n",
              "    <tr>\n",
              "      <th>2</th>\n",
              "      <td>0.027322</td>\n",
              "      <td>0.8</td>\n",
              "      <td>1</td>\n",
              "      <td>1</td>\n",
              "      <td>0</td>\n",
              "      <td>1</td>\n",
              "      <td>1</td>\n",
              "      <td>0</td>\n",
              "      <td>1</td>\n",
              "      <td>1</td>\n",
              "      <td>...</td>\n",
              "      <td>0</td>\n",
              "      <td>0</td>\n",
              "      <td>0</td>\n",
              "      <td>0</td>\n",
              "      <td>0</td>\n",
              "      <td>0</td>\n",
              "      <td>0</td>\n",
              "      <td>1</td>\n",
              "      <td>0</td>\n",
              "      <td>0</td>\n",
              "    </tr>\n",
              "    <tr>\n",
              "      <th>3</th>\n",
              "      <td>0.049180</td>\n",
              "      <td>0.6</td>\n",
              "      <td>1</td>\n",
              "      <td>1</td>\n",
              "      <td>0</td>\n",
              "      <td>1</td>\n",
              "      <td>0</td>\n",
              "      <td>0</td>\n",
              "      <td>1</td>\n",
              "      <td>1</td>\n",
              "      <td>...</td>\n",
              "      <td>0</td>\n",
              "      <td>0</td>\n",
              "      <td>0</td>\n",
              "      <td>0</td>\n",
              "      <td>0</td>\n",
              "      <td>0</td>\n",
              "      <td>0</td>\n",
              "      <td>0</td>\n",
              "      <td>0</td>\n",
              "      <td>1</td>\n",
              "    </tr>\n",
              "    <tr>\n",
              "      <th>5</th>\n",
              "      <td>0.051913</td>\n",
              "      <td>0.9</td>\n",
              "      <td>1</td>\n",
              "      <td>1</td>\n",
              "      <td>1</td>\n",
              "      <td>1</td>\n",
              "      <td>1</td>\n",
              "      <td>0</td>\n",
              "      <td>1</td>\n",
              "      <td>1</td>\n",
              "      <td>...</td>\n",
              "      <td>0</td>\n",
              "      <td>0</td>\n",
              "      <td>0</td>\n",
              "      <td>0</td>\n",
              "      <td>0</td>\n",
              "      <td>0</td>\n",
              "      <td>0</td>\n",
              "      <td>0</td>\n",
              "      <td>0</td>\n",
              "      <td>1</td>\n",
              "    </tr>\n",
              "  </tbody>\n",
              "</table>\n",
              "<p>5 rows × 94 columns</p>\n",
              "</div>\n",
              "      <button class=\"colab-df-convert\" onclick=\"convertToInteractive('df-b0922d45-44ce-49f8-8a79-5ec151c6d6a9')\"\n",
              "              title=\"Convert this dataframe to an interactive table.\"\n",
              "              style=\"display:none;\">\n",
              "        \n",
              "  <svg xmlns=\"http://www.w3.org/2000/svg\" height=\"24px\"viewBox=\"0 0 24 24\"\n",
              "       width=\"24px\">\n",
              "    <path d=\"M0 0h24v24H0V0z\" fill=\"none\"/>\n",
              "    <path d=\"M18.56 5.44l.94 2.06.94-2.06 2.06-.94-2.06-.94-.94-2.06-.94 2.06-2.06.94zm-11 1L8.5 8.5l.94-2.06 2.06-.94-2.06-.94L8.5 2.5l-.94 2.06-2.06.94zm10 10l.94 2.06.94-2.06 2.06-.94-2.06-.94-.94-2.06-.94 2.06-2.06.94z\"/><path d=\"M17.41 7.96l-1.37-1.37c-.4-.4-.92-.59-1.43-.59-.52 0-1.04.2-1.43.59L10.3 9.45l-7.72 7.72c-.78.78-.78 2.05 0 2.83L4 21.41c.39.39.9.59 1.41.59.51 0 1.02-.2 1.41-.59l7.78-7.78 2.81-2.81c.8-.78.8-2.07 0-2.86zM5.41 20L4 18.59l7.72-7.72 1.47 1.35L5.41 20z\"/>\n",
              "  </svg>\n",
              "      </button>\n",
              "      \n",
              "  <style>\n",
              "    .colab-df-container {\n",
              "      display:flex;\n",
              "      flex-wrap:wrap;\n",
              "      gap: 12px;\n",
              "    }\n",
              "\n",
              "    .colab-df-convert {\n",
              "      background-color: #E8F0FE;\n",
              "      border: none;\n",
              "      border-radius: 50%;\n",
              "      cursor: pointer;\n",
              "      display: none;\n",
              "      fill: #1967D2;\n",
              "      height: 32px;\n",
              "      padding: 0 0 0 0;\n",
              "      width: 32px;\n",
              "    }\n",
              "\n",
              "    .colab-df-convert:hover {\n",
              "      background-color: #E2EBFA;\n",
              "      box-shadow: 0px 1px 2px rgba(60, 64, 67, 0.3), 0px 1px 3px 1px rgba(60, 64, 67, 0.15);\n",
              "      fill: #174EA6;\n",
              "    }\n",
              "\n",
              "    [theme=dark] .colab-df-convert {\n",
              "      background-color: #3B4455;\n",
              "      fill: #D2E3FC;\n",
              "    }\n",
              "\n",
              "    [theme=dark] .colab-df-convert:hover {\n",
              "      background-color: #434B5C;\n",
              "      box-shadow: 0px 1px 3px 1px rgba(0, 0, 0, 0.15);\n",
              "      filter: drop-shadow(0px 1px 2px rgba(0, 0, 0, 0.3));\n",
              "      fill: #FFFFFF;\n",
              "    }\n",
              "  </style>\n",
              "\n",
              "      <script>\n",
              "        const buttonEl =\n",
              "          document.querySelector('#df-b0922d45-44ce-49f8-8a79-5ec151c6d6a9 button.colab-df-convert');\n",
              "        buttonEl.style.display =\n",
              "          google.colab.kernel.accessAllowed ? 'block' : 'none';\n",
              "\n",
              "        async function convertToInteractive(key) {\n",
              "          const element = document.querySelector('#df-b0922d45-44ce-49f8-8a79-5ec151c6d6a9');\n",
              "          const dataTable =\n",
              "            await google.colab.kernel.invokeFunction('convertToInteractive',\n",
              "                                                     [key], {});\n",
              "          if (!dataTable) return;\n",
              "\n",
              "          const docLinkHtml = 'Like what you see? Visit the ' +\n",
              "            '<a target=\"_blank\" href=https://colab.research.google.com/notebooks/data_table.ipynb>data table notebook</a>'\n",
              "            + ' to learn more about interactive tables.';\n",
              "          element.innerHTML = '';\n",
              "          dataTable['output_type'] = 'display_data';\n",
              "          await google.colab.output.renderOutput(dataTable, element);\n",
              "          const docLink = document.createElement('div');\n",
              "          docLink.innerHTML = docLinkHtml;\n",
              "          element.appendChild(docLink);\n",
              "        }\n",
              "      </script>\n",
              "    </div>\n",
              "  </div>\n",
              "  "
            ]
          },
          "metadata": {}
        },
        {
          "output_type": "stream",
          "name": "stdout",
          "text": [
            "94 total features after one-hot encoding.\n",
            "['age', 'result', 'A1_Score', 'A2_Score', 'A3_Score', 'A4_Score', 'A5_Score', 'A6_Score', 'A7_Score', 'A8_Score', 'A9_Score', 'A10_Score', 'gender_f', 'gender_m', \"ethnicity_'Middle Eastern '\", \"ethnicity_'South Asian'\", 'ethnicity_Asian', 'ethnicity_Black', 'ethnicity_Hispanic', 'ethnicity_Latino', 'ethnicity_Others', 'ethnicity_Pasifika', 'ethnicity_Turkish', 'ethnicity_White-European', 'ethnicity_others', 'jundice_no', 'jundice_yes', 'autsim_no', 'autsim_yes', \"contry_of_res_'Costa Rica'\", \"contry_of_res_'Czech Republic'\", \"contry_of_res_'New Zealand'\", \"contry_of_res_'Saudi Arabia'\", \"contry_of_res_'Sierra Leone'\", \"contry_of_res_'South Africa'\", \"contry_of_res_'Sri Lanka'\", \"contry_of_res_'United Arab Emirates'\", \"contry_of_res_'United Kingdom'\", \"contry_of_res_'United States'\", \"contry_of_res_'Viet Nam'\", 'contry_of_res_Afghanistan', 'contry_of_res_AmericanSamoa', 'contry_of_res_Angola', 'contry_of_res_Armenia', 'contry_of_res_Aruba', 'contry_of_res_Australia', 'contry_of_res_Austria', 'contry_of_res_Bahamas', 'contry_of_res_Bangladesh', 'contry_of_res_Belgium', 'contry_of_res_Bolivia', 'contry_of_res_Brazil', 'contry_of_res_Burundi', 'contry_of_res_Canada', 'contry_of_res_Chile', 'contry_of_res_China', 'contry_of_res_Cyprus', 'contry_of_res_Ecuador', 'contry_of_res_Egypt', 'contry_of_res_Ethiopia', 'contry_of_res_Finland', 'contry_of_res_France', 'contry_of_res_Germany', 'contry_of_res_Iceland', 'contry_of_res_India', 'contry_of_res_Indonesia', 'contry_of_res_Iran', 'contry_of_res_Ireland', 'contry_of_res_Italy', 'contry_of_res_Jordan', 'contry_of_res_Malaysia', 'contry_of_res_Mexico', 'contry_of_res_Nepal', 'contry_of_res_Netherlands', 'contry_of_res_Nicaragua', 'contry_of_res_Niger', 'contry_of_res_Oman', 'contry_of_res_Pakistan', 'contry_of_res_Philippines', 'contry_of_res_Portugal', 'contry_of_res_Romania', 'contry_of_res_Russia', 'contry_of_res_Serbia', 'contry_of_res_Spain', 'contry_of_res_Sweden', 'contry_of_res_Tonga', 'contry_of_res_Turkey', 'contry_of_res_Ukraine', 'contry_of_res_Uruguay', \"relation_'Health care professional'\", 'relation_Others', 'relation_Parent', 'relation_Relative', 'relation_Self']\n"
          ]
        }
      ],
      "source": [
        "#One-hot encode the 'features_minmax_transform' data using pandas.get_dummies()\n",
        "features_final = pd.get_dummies(features_minmax_transform)\n",
        "display(features_final.head(5))\n",
        "\n",
        "\n",
        "# Encode the 'all_classes_raw' data to numerical values\n",
        "asd_classes = asd_raw.apply(lambda x: 1 if x == 'YES' else 0)\n",
        "\n",
        "\n",
        "\n",
        "# Print the number of features after one-hot encoding\n",
        "encoded = list(features_final.columns)\n",
        "print (\"{} total features after one-hot encoding.\".format(len(encoded)))\n",
        "\n",
        "# Uncomment the following line to see the encoded feature names\n",
        "print(encoded)"
      ]
    },
    {
      "cell_type": "code",
      "execution_count": null,
      "metadata": {
        "deletable": true,
        "editable": true,
        "id": "bC9BVZ2CTzJI",
        "colab": {
          "base_uri": "https://localhost:8080/",
          "height": 319
        },
        "outputId": "d25a938e-b64c-47f7-974d-52f3f231adf8"
      },
      "outputs": [
        {
          "output_type": "execute_result",
          "data": {
            "text/plain": [
              "Text(0, 0.5, 'Frequency')"
            ]
          },
          "metadata": {},
          "execution_count": 48
        },
        {
          "output_type": "display_data",
          "data": {
            "text/plain": [
              "<Figure size 432x288 with 1 Axes>"
            ],
            "image/png": "[encoded data removed]"
          },
          "metadata": {}
        }
      ],
      "source": [
        "# histogram of Class/ASD\n",
        "\n",
        "# 8 bins\n",
        "plt.hist(asd_classes, bins=10)\n",
        "\n",
        "# x-axis limit from 0 to 1\n",
        "plt.xlim(0,1)\n",
        "plt.title('Histogram of Class/ASD')\n",
        "plt.xlabel('Class/ASD from processed data')\n",
        "plt.ylabel('Frequency')"
      ]
    },
    {
      "cell_type": "markdown",
      "metadata": {
        "deletable": true,
        "editable": true,
        "id": "dyfGpnxRTzJI"
      },
      "source": [
        "### Shuffle and Split Data\n",
        "Now all _categorical variables_ have been converted into numerical features, and all numerical features have been normalized. As always, I will now split the data (both features and their labels) into training and test sets. 80% of the data will be used for training and 20% for testing."
      ]
    },
    {
      "cell_type": "code",
      "execution_count": null,
      "metadata": {
        "deletable": true,
        "editable": true,
        "id": "x3unUfAJTzJI",
        "colab": {
          "base_uri": "https://localhost:8080/",
          "height": 697
        },
        "outputId": "85770d67-fc42-4d62-ddca-7f5af4e1ccf7"
      },
      "outputs": [
        {
          "output_type": "stream",
          "name": "stdout",
          "text": [
            "Training set has 487 samples.\n",
            "Testing set has 122 samples.\n"
          ]
        },
        {
          "output_type": "execute_result",
          "data": {
            "text/plain": [
              "     A1_Score  A2_Score  A3_Score  A4_Score  A5_Score  A6_Score  A7_Score  \\\n",
              "0           1         1         1         1         0         0         1   \n",
              "1           1         1         0         1         0         0         0   \n",
              "2           1         1         0         1         1         0         1   \n",
              "3           1         1         0         1         0         0         1   \n",
              "5           1         1         1         1         1         0         1   \n",
              "..        ...       ...       ...       ...       ...       ...       ...   \n",
              "698         1         1         1         1         1         1         1   \n",
              "699         0         1         0         1         1         0         1   \n",
              "700         1         0         0         0         0         0         0   \n",
              "702         1         0         0         1         1         0         1   \n",
              "703         1         0         1         1         1         0         1   \n",
              "\n",
              "     A8_Score  A9_Score  A10_Score  ...  gender       ethnicity jundice  \\\n",
              "0           1         0          0  ...       f  White-European      no   \n",
              "1           1         0          1  ...       m          Latino      no   \n",
              "2           1         1          1  ...       m          Latino     yes   \n",
              "3           1         0          1  ...       f  White-European      no   \n",
              "5           1         1          1  ...       m          Others     yes   \n",
              "..        ...       ...        ...  ...     ...             ...     ...   \n",
              "698         1         1          1  ...       f        Pasifika      no   \n",
              "699         1         1          1  ...       f  White-European      no   \n",
              "700         1         0          1  ...       m        Hispanic      no   \n",
              "702         0         1          1  ...       m   'South Asian'      no   \n",
              "703         1         1          1  ...       f  White-European      no   \n",
              "\n",
              "    autsim    contry_of_res used_app_before result       age_desc relation  \\\n",
              "0       no  'United States'              no      6  '18 and more'     Self   \n",
              "1      yes           Brazil              no      5  '18 and more'     Self   \n",
              "2      yes            Spain              no      8  '18 and more'   Parent   \n",
              "3      yes  'United States'              no      6  '18 and more'     Self   \n",
              "5       no  'United States'              no      9  '18 and more'     Self   \n",
              "..     ...              ...             ...    ...            ...      ...   \n",
              "698     no        Australia              no     10  '18 and more'     Self   \n",
              "699     no           Russia              no      7  '18 and more'     Self   \n",
              "700     no           Mexico              no      3  '18 and more'   Parent   \n",
              "702     no         Pakistan              no      6  '18 and more'     Self   \n",
              "703     no           Cyprus              no      8  '18 and more'     Self   \n",
              "\n",
              "    Class/ASD  \n",
              "0          NO  \n",
              "1          NO  \n",
              "2         YES  \n",
              "3          NO  \n",
              "5         YES  \n",
              "..        ...  \n",
              "698       YES  \n",
              "699       YES  \n",
              "700        NO  \n",
              "702        NO  \n",
              "703       YES  \n",
              "\n",
              "[609 rows x 21 columns]"
            ],
            "text/html": [
              "\n",
              "  <div id=\"df-3c75a8d4-5505-4cff-b5f7-cd8d7cc3c5a2\">\n",
              "    <div class=\"colab-df-container\">\n",
              "      <div>\n",
              "<style scoped>\n",
              "    .dataframe tbody tr th:only-of-type {\n",
              "        vertical-align: middle;\n",
              "    }\n",
              "\n",
              "    .dataframe tbody tr th {\n",
              "        vertical-align: top;\n",
              "    }\n",
              "\n",
              "    .dataframe thead th {\n",
              "        text-align: right;\n",
              "    }\n",
              "</style>\n",
              "<table border=\"1\" class=\"dataframe\">\n",
              "  <thead>\n",
              "    <tr style=\"text-align: right;\">\n",
              "      <th></th>\n",
              "      <th>A1_Score</th>\n",
              "      <th>A2_Score</th>\n",
              "      <th>A3_Score</th>\n",
              "      <th>A4_Score</th>\n",
              "      <th>A5_Score</th>\n",
              "      <th>A6_Score</th>\n",
              "      <th>A7_Score</th>\n",
              "      <th>A8_Score</th>\n",
              "      <th>A9_Score</th>\n",
              "      <th>A10_Score</th>\n",
              "      <th>...</th>\n",
              "      <th>gender</th>\n",
              "      <th>ethnicity</th>\n",
              "      <th>jundice</th>\n",
              "      <th>autsim</th>\n",
              "      <th>contry_of_res</th>\n",
              "      <th>used_app_before</th>\n",
              "      <th>result</th>\n",
              "      <th>age_desc</th>\n",
              "      <th>relation</th>\n",
              "      <th>Class/ASD</th>\n",
              "    </tr>\n",
              "  </thead>\n",
              "  <tbody>\n",
              "    <tr>\n",
              "      <th>0</th>\n",
              "      <td>1</td>\n",
              "      <td>1</td>\n",
              "      <td>1</td>\n",
              "      <td>1</td>\n",
              "      <td>0</td>\n",
              "      <td>0</td>\n",
              "      <td>1</td>\n",
              "      <td>1</td>\n",
              "      <td>0</td>\n",
              "      <td>0</td>\n",
              "      <td>...</td>\n",
              "      <td>f</td>\n",
              "      <td>White-European</td>\n",
              "      <td>no</td>\n",
              "      <td>no</td>\n",
              "      <td>'United States'</td>\n",
              "      <td>no</td>\n",
              "      <td>6</td>\n",
              "      <td>'18 and more'</td>\n",
              "      <td>Self</td>\n",
              "      <td>NO</td>\n",
              "    </tr>\n",
              "    <tr>\n",
              "      <th>1</th>\n",
              "      <td>1</td>\n",
              "      <td>1</td>\n",
              "      <td>0</td>\n",
              "      <td>1</td>\n",
              "      <td>0</td>\n",
              "      <td>0</td>\n",
              "      <td>0</td>\n",
              "      <td>1</td>\n",
              "      <td>0</td>\n",
              "      <td>1</td>\n",
              "      <td>...</td>\n",
              "      <td>m</td>\n",
              "      <td>Latino</td>\n",
              "      <td>no</td>\n",
              "      <td>yes</td>\n",
              "      <td>Brazil</td>\n",
              "      <td>no</td>\n",
              "      <td>5</td>\n",
              "      <td>'18 and more'</td>\n",
              "      <td>Self</td>\n",
              "      <td>NO</td>\n",
              "    </tr>\n",
              "    <tr>\n",
              "      <th>2</th>\n",
              "      <td>1</td>\n",
              "      <td>1</td>\n",
              "      <td>0</td>\n",
              "      <td>1</td>\n",
              "      <td>1</td>\n",
              "      <td>0</td>\n",
              "      <td>1</td>\n",
              "      <td>1</td>\n",
              "      <td>1</td>\n",
              "      <td>1</td>\n",
              "      <td>...</td>\n",
              "      <td>m</td>\n",
              "      <td>Latino</td>\n",
              "      <td>yes</td>\n",
              "      <td>yes</td>\n",
              "      <td>Spain</td>\n",
              "      <td>no</td>\n",
              "      <td>8</td>\n",
              "      <td>'18 and more'</td>\n",
              "      <td>Parent</td>\n",
              "      <td>YES</td>\n",
              "    </tr>\n",
              "    <tr>\n",
              "      <th>3</th>\n",
              "      <td>1</td>\n",
              "      <td>1</td>\n",
              "      <td>0</td>\n",
              "      <td>1</td>\n",
              "      <td>0</td>\n",
              "      <td>0</td>\n",
              "      <td>1</td>\n",
              "      <td>1</td>\n",
              "      <td>0</td>\n",
              "      <td>1</td>\n",
              "      <td>...</td>\n",
              "      <td>f</td>\n",
              "      <td>White-European</td>\n",
              "      <td>no</td>\n",
              "      <td>yes</td>\n",
              "      <td>'United States'</td>\n",
              "      <td>no</td>\n",
              "      <td>6</td>\n",
              "      <td>'18 and more'</td>\n",
              "      <td>Self</td>\n",
              "      <td>NO</td>\n",
              "    </tr>\n",
              "    <tr>\n",
              "      <th>5</th>\n",
              "      <td>1</td>\n",
              "      <td>1</td>\n",
              "      <td>1</td>\n",
              "      <td>1</td>\n",
              "      <td>1</td>\n",
              "      <td>0</td>\n",
              "      <td>1</td>\n",
              "      <td>1</td>\n",
              "      <td>1</td>\n",
              "      <td>1</td>\n",
              "      <td>...</td>\n",
              "      <td>m</td>\n",
              "      <td>Others</td>\n",
              "      <td>yes</td>\n",
              "      <td>no</td>\n",
              "      <td>'United States'</td>\n",
              "      <td>no</td>\n",
              "      <td>9</td>\n",
              "      <td>'18 and more'</td>\n",
              "      <td>Self</td>\n",
              "      <td>YES</td>\n",
              "    </tr>\n",
              "    <tr>\n",
              "      <th>...</th>\n",
              "      <td>...</td>\n",
              "      <td>...</td>\n",
              "      <td>...</td>\n",
              "      <td>...</td>\n",
              "      <td>...</td>\n",
              "      <td>...</td>\n",
              "      <td>...</td>\n",
              "      <td>...</td>\n",
              "      <td>...</td>\n",
              "      <td>...</td>\n",
              "      <td>...</td>\n",
              "      <td>...</td>\n",
              "      <td>...</td>\n",
              "      <td>...</td>\n",
              "      <td>...</td>\n",
              "      <td>...</td>\n",
              "      <td>...</td>\n",
              "      <td>...</td>\n",
              "      <td>...</td>\n",
              "      <td>...</td>\n",
              "      <td>...</td>\n",
              "    </tr>\n",
              "    <tr>\n",
              "      <th>698</th>\n",
              "      <td>1</td>\n",
              "      <td>1</td>\n",
              "      <td>1</td>\n",
              "      <td>1</td>\n",
              "      <td>1</td>\n",
              "      <td>1</td>\n",
              "      <td>1</td>\n",
              "      <td>1</td>\n",
              "      <td>1</td>\n",
              "      <td>1</td>\n",
              "      <td>...</td>\n",
              "      <td>f</td>\n",
              "      <td>Pasifika</td>\n",
              "      <td>no</td>\n",
              "      <td>no</td>\n",
              "      <td>Australia</td>\n",
              "      <td>no</td>\n",
              "      <td>10</td>\n",
              "      <td>'18 and more'</td>\n",
              "      <td>Self</td>\n",
              "      <td>YES</td>\n",
              "    </tr>\n",
              "    <tr>\n",
              "      <th>699</th>\n",
              "      <td>0</td>\n",
              "      <td>1</td>\n",
              "      <td>0</td>\n",
              "      <td>1</td>\n",
              "      <td>1</td>\n",
              "      <td>0</td>\n",
              "      <td>1</td>\n",
              "      <td>1</td>\n",
              "      <td>1</td>\n",
              "      <td>1</td>\n",
              "      <td>...</td>\n",
              "      <td>f</td>\n",
              "      <td>White-European</td>\n",
              "      <td>no</td>\n",
              "      <td>no</td>\n",
              "      <td>Russia</td>\n",
              "      <td>no</td>\n",
              "      <td>7</td>\n",
              "      <td>'18 and more'</td>\n",
              "      <td>Self</td>\n",
              "      <td>YES</td>\n",
              "    </tr>\n",
              "    <tr>\n",
              "      <th>700</th>\n",
              "      <td>1</td>\n",
              "      <td>0</td>\n",
              "      <td>0</td>\n",
              "      <td>0</td>\n",
              "      <td>0</td>\n",
              "      <td>0</td>\n",
              "      <td>0</td>\n",
              "      <td>1</td>\n",
              "      <td>0</td>\n",
              "      <td>1</td>\n",
              "      <td>...</td>\n",
              "      <td>m</td>\n",
              "      <td>Hispanic</td>\n",
              "      <td>no</td>\n",
              "      <td>no</td>\n",
              "      <td>Mexico</td>\n",
              "      <td>no</td>\n",
              "      <td>3</td>\n",
              "      <td>'18 and more'</td>\n",
              "      <td>Parent</td>\n",
              "      <td>NO</td>\n",
              "    </tr>\n",
              "    <tr>\n",
              "      <th>702</th>\n",
              "      <td>1</td>\n",
              "      <td>0</td>\n",
              "      <td>0</td>\n",
              "      <td>1</td>\n",
              "      <td>1</td>\n",
              "      <td>0</td>\n",
              "      <td>1</td>\n",
              "      <td>0</td>\n",
              "      <td>1</td>\n",
              "      <td>1</td>\n",
              "      <td>...</td>\n",
              "      <td>m</td>\n",
              "      <td>'South Asian'</td>\n",
              "      <td>no</td>\n",
              "      <td>no</td>\n",
              "      <td>Pakistan</td>\n",
              "      <td>no</td>\n",
              "      <td>6</td>\n",
              "      <td>'18 and more'</td>\n",
              "      <td>Self</td>\n",
              "      <td>NO</td>\n",
              "    </tr>\n",
              "    <tr>\n",
              "      <th>703</th>\n",
              "      <td>1</td>\n",
              "      <td>0</td>\n",
              "      <td>1</td>\n",
              "      <td>1</td>\n",
              "      <td>1</td>\n",
              "      <td>0</td>\n",
              "      <td>1</td>\n",
              "      <td>1</td>\n",
              "      <td>1</td>\n",
              "      <td>1</td>\n",
              "      <td>...</td>\n",
              "      <td>f</td>\n",
              "      <td>White-European</td>\n",
              "      <td>no</td>\n",
              "      <td>no</td>\n",
              "      <td>Cyprus</td>\n",
              "      <td>no</td>\n",
              "      <td>8</td>\n",
              "      <td>'18 and more'</td>\n",
              "      <td>Self</td>\n",
              "      <td>YES</td>\n",
              "    </tr>\n",
              "  </tbody>\n",
              "</table>\n",
              "<p>609 rows × 21 columns</p>\n",
              "</div>\n",
              "      <button class=\"colab-df-convert\" onclick=\"convertToInteractive('df-3c75a8d4-5505-4cff-b5f7-cd8d7cc3c5a2')\"\n",
              "              title=\"Convert this dataframe to an interactive table.\"\n",
              "              style=\"display:none;\">\n",
              "        \n",
              "  <svg xmlns=\"http://www.w3.org/2000/svg\" height=\"24px\"viewBox=\"0 0 24 24\"\n",
              "       width=\"24px\">\n",
              "    <path d=\"M0 0h24v24H0V0z\" fill=\"none\"/>\n",
              "    <path d=\"M18.56 5.44l.94 2.06.94-2.06 2.06-.94-2.06-.94-.94-2.06-.94 2.06-2.06.94zm-11 1L8.5 8.5l.94-2.06 2.06-.94-2.06-.94L8.5 2.5l-.94 2.06-2.06.94zm10 10l.94 2.06.94-2.06 2.06-.94-2.06-.94-.94-2.06-.94 2.06-2.06.94z\"/><path d=\"M17.41 7.96l-1.37-1.37c-.4-.4-.92-.59-1.43-.59-.52 0-1.04.2-1.43.59L10.3 9.45l-7.72 7.72c-.78.78-.78 2.05 0 2.83L4 21.41c.39.39.9.59 1.41.59.51 0 1.02-.2 1.41-.59l7.78-7.78 2.81-2.81c.8-.78.8-2.07 0-2.86zM5.41 20L4 18.59l7.72-7.72 1.47 1.35L5.41 20z\"/>\n",
              "  </svg>\n",
              "      </button>\n",
              "      \n",
              "  <style>\n",
              "    .colab-df-container {\n",
              "      display:flex;\n",
              "      flex-wrap:wrap;\n",
              "      gap: 12px;\n",
              "    }\n",
              "\n",
              "    .colab-df-convert {\n",
              "      background-color: #E8F0FE;\n",
              "      border: none;\n",
              "      border-radius: 50%;\n",
              "      cursor: pointer;\n",
              "      display: none;\n",
              "      fill: #1967D2;\n",
              "      height: 32px;\n",
              "      padding: 0 0 0 0;\n",
              "      width: 32px;\n",
              "    }\n",
              "\n",
              "    .colab-df-convert:hover {\n",
              "      background-color: #E2EBFA;\n",
              "      box-shadow: 0px 1px 2px rgba(60, 64, 67, 0.3), 0px 1px 3px 1px rgba(60, 64, 67, 0.15);\n",
              "      fill: #174EA6;\n",
              "    }\n",
              "\n",
              "    [theme=dark] .colab-df-convert {\n",
              "      background-color: #3B4455;\n",
              "      fill: #D2E3FC;\n",
              "    }\n",
              "\n",
              "    [theme=dark] .colab-df-convert:hover {\n",
              "      background-color: #434B5C;\n",
              "      box-shadow: 0px 1px 3px 1px rgba(0, 0, 0, 0.15);\n",
              "      filter: drop-shadow(0px 1px 2px rgba(0, 0, 0, 0.3));\n",
              "      fill: #FFFFFF;\n",
              "    }\n",
              "  </style>\n",
              "\n",
              "      <script>\n",
              "        const buttonEl =\n",
              "          document.querySelector('#df-3c75a8d4-5505-4cff-b5f7-cd8d7cc3c5a2 button.colab-df-convert');\n",
              "        buttonEl.style.display =\n",
              "          google.colab.kernel.accessAllowed ? 'block' : 'none';\n",
              "\n",
              "        async function convertToInteractive(key) {\n",
              "          const element = document.querySelector('#df-3c75a8d4-5505-4cff-b5f7-cd8d7cc3c5a2');\n",
              "          const dataTable =\n",
              "            await google.colab.kernel.invokeFunction('convertToInteractive',\n",
              "                                                     [key], {});\n",
              "          if (!dataTable) return;\n",
              "\n",
              "          const docLinkHtml = 'Like what you see? Visit the ' +\n",
              "            '<a target=\"_blank\" href=https://colab.research.google.com/notebooks/data_table.ipynb>data table notebook</a>'\n",
              "            + ' to learn more about interactive tables.';\n",
              "          element.innerHTML = '';\n",
              "          dataTable['output_type'] = 'display_data';\n",
              "          await google.colab.output.renderOutput(dataTable, element);\n",
              "          const docLink = document.createElement('div');\n",
              "          docLink.innerHTML = docLinkHtml;\n",
              "          element.appendChild(docLink);\n",
              "        }\n",
              "      </script>\n",
              "    </div>\n",
              "  </div>\n",
              "  "
            ]
          },
          "metadata": {},
          "execution_count": 50
        }
      ],
      "source": [
        "from sklearn.model_selection import train_test_split\n",
        "\n",
        "np.random.seed(1234)\n",
        "\n",
        "X_train, X_test, y_train, y_test = train_test_split(features_final, asd_classes, train_size=0.80, random_state=1)\n",
        "\n",
        "\n",
        "# Show the results of the split\n",
        "print (\"Training set has {} samples.\".format(X_train.shape[0]))\n",
        "print (\"Testing set has {} samples.\".format(X_test.shape[0]))\n",
        "asd_data"
      ]
    },
    {
      "cell_type": "markdown",
      "metadata": {
        "deletable": true,
        "editable": true,
        "id": "b5UtRAlVTzJI"
      },
      "source": [
        "---\n",
        "<a id='step3'></a>\n",
        "\n",
        "## Step 3: Models\n",
        "\n",
        "###  Supervised Learning Models\n",
        "**I have applied the following supervised learning models in this project which are currently available in** [`scikit-learn`](http://scikit-learn.org/stable/supervised_learning.html).\n",
        "\n",
        "[(1)](#1): Decision Trees\n",
        "\n",
        "[(2)](#2) Random Forest\n",
        "\n",
        "[(3)](#3) Support Vector Machines (SVM)\n",
        "\n",
        "[(4)](#4) K-Nearest Neighbors (KNeighbors)\n",
        "\n",
        "[(5)](#5) Gaussian Naive Bayes (GaussianNB)\n",
        "\n",
        "[(6)](#6) Logistic Regression\n",
        "\n",
        "[(7)](#7) Linear Discriminant Analysis (LDA)\n",
        "\n",
        "[(8)](#8) Quadratic Discriminant Analysis (QDA)"
      ]
    },
    {
      "cell_type": "markdown",
      "metadata": {
        "deletable": true,
        "editable": true,
        "id": "wEbdZmiFTzJJ"
      },
      "source": [
        "In the two figures above, I have used two different depiction techniques to have a quick peek on the ASD dataset we are dealing with. Both of the occasions I have used `factorplot` module from `seaborn` visualization software. In the first case, I used '`swamp`' kind of graph expressing the relationship between several different features present in the data whereas in the second case, '`box`' method was used to present the visual way of showing how different features were associated with each other."
      ]
    },
    {
      "cell_type": "markdown",
      "metadata": {
        "deletable": true,
        "editable": true,
        "id": "clyXKQaGTzJJ"
      },
      "source": [
        "---\n",
        "<a id='1'></a>\n",
        "\n",
        "##  (1) Decision Trees\n",
        "\n",
        "I start with creating a DecisionTreeClassifier and fit it to the training data."
      ]
    },
    {
      "cell_type": "code",
      "execution_count": null,
      "metadata": {
        "deletable": true,
        "editable": true,
        "id": "sveLc4O3TzJJ",
        "outputId": "c7ef3e81-c313-4f39-b459-24a2fe34879d",
        "colab": {
          "base_uri": "https://localhost:8080/"
        }
      },
      "outputs": [
        {
          "output_type": "execute_result",
          "data": {
            "text/plain": [
              "DecisionTreeClassifier(random_state=1)"
            ]
          },
          "metadata": {},
          "execution_count": 52
        }
      ],
      "source": [
        "from sklearn import tree\n",
        "from sklearn.tree import DecisionTreeClassifier\n",
        "\n",
        "dectree = DecisionTreeClassifier(\n",
        "    \n",
        ")\n",
        "\n",
        "# Train the classifier on the training set\n",
        "dectree.fit(X_train, y_train)"
      ]
    },
    {
      "cell_type": "markdown",
      "metadata": {
        "deletable": true,
        "editable": true,
        "id": "yDIbb_JBTzJJ"
      },
      "source": [
        "### Depiction of Decision Tree algorithm"
      ]
    },
    {
      "cell_type": "code",
      "execution_count": null,
      "metadata": {
        "deletable": true,
        "editable": true,
        "id": "HtsUsSkcTzJJ",
        "outputId": "d2cf33ef-5531-4f79-d7b8-ceb15579bbd6",
        "colab": {
          "base_uri": "https://localhost:8080/",
          "height": 232
        }
      },
      "outputs": [
        {
          "output_type": "execute_result",
          "data": {
            "text/plain": [
              "<IPython.core.display.Image object>"
            ],
            "image/png": "[encoded data removed]"
          },
          "metadata": {},
          "execution_count": 53
        }
      ],
      "source": [
        "import pydotplus \n",
        "\n",
        "\n",
        "dot_data = tree.export_graphviz(dectree,\n",
        "                                out_file=None,\n",
        "                                filled=True,\n",
        "                                rounded=True,\n",
        "                                special_characters=True)  \n",
        "graph = pydotplus.graph_from_dot_data(dot_data)  \n",
        "\n",
        "from IPython.display import Image \n",
        "Image(graph.create_png()) "
      ]
    },
    {
      "cell_type": "markdown",
      "metadata": {
        "deletable": true,
        "editable": true,
        "id": "7rPMIJgvTzJK"
      },
      "source": [
        "---------------\n",
        "## Evaluating Model Performance\n",
        "\n",
        "### Metrics \n",
        "We can use **F-beta score** as a metric that considers both precision and recall:\n",
        "\n",
        "$$ F_{\\beta} = (1 + \\beta^2) \\cdot \\frac{precision \\cdot recall}{\\left( \\beta^2 \\cdot precision \\right) + recall} $$\n",
        "\n",
        "In particular, when $\\beta = 0.5$, more emphasis is placed on precision. This is called the **F$_{0.5}$ score** (or F-score for simplicity).\n",
        "\n",
        "#### Note: Recap of accuracy, precision, recall\n",
        "\n",
        "** Accuracy ** measures how often the classifier makes the correct prediction. It’s the ratio of the number of correct predictions to the total number of predictions (the number of test data points).\n",
        "\n",
        "** Precision ** tells us what proportion of messages we classified as spam, actually were spam.\n",
        "It is a ratio of true positives(words classified as spam, and which are actually spam) to all positives(all words classified as spam, irrespective of whether that was the correct classificatio), in other words it is the ratio of\n",
        "\n",
        "`[True Positives/(True Positives + False Positives)]`\n",
        "\n",
        "** Recall (sensitivity)** tells us what proportion of messages that actually were spam were classified by us as spam.\n",
        "It is a ratio of true positives(words classified as spam, and which are actually spam) to all the words that were actually spam, in other words it is the ratio of\n",
        "\n",
        "`[True Positives/(True Positives + False Negatives)]`\n",
        "\n",
        "For classification problems that are skewed in their classification distributions like in our case where we have \n",
        "- a total of 609 records with \n",
        "- 180 individuals diagonised with ASD and \n",
        "- 429 individuals not diagonised with ASD\n",
        "\n",
        "accuracy by itself is not a very good metric. \n",
        "Thus, in this case precision and recall come in very handy. These two metrics can be combined to get the F1 score, which is weighted average(harmonic mean) of the precision and recall scores. This score can range from 0 to 1, with 1 being the best possible F1 score(we take the harmonic mean as we are dealing with ratios)."
      ]
    },
    {
      "cell_type": "code",
      "execution_count": null,
      "metadata": {
        "collapsed": true,
        "deletable": true,
        "editable": true,
        "id": "9cb_UPkSTzJK"
      },
      "outputs": [],
      "source": [
        "# make class predictions for the testing set\n",
        "y_pred_class = dectree.predict(X_test)"
      ]
    },
    {
      "cell_type": "code",
      "execution_count": null,
      "metadata": {
        "deletable": true,
        "editable": true,
        "id": "nnZGxGWWTzJK",
        "outputId": "5a776e48-60d4-4d71-e950-2084f9ca9526",
        "colab": {
          "base_uri": "https://localhost:8080/"
        }
      },
      "outputs": [
        {
          "output_type": "stream",
          "name": "stdout",
          "text": [
            "True: [1 0 0 1 1 0 1 1 0 0 0 0 0 1 0 0 0 0 0 1 0 1 0 1 0]\n",
            "False: [1 0 0 1 1 0 1 1 0 0 0 0 0 1 0 0 0 0 0 1 0 1 0 1 0]\n"
          ]
        }
      ],
      "source": [
        "# print the first 25 true and predicted responses\n",
        "print('True:', y_test.values[0:25])\n",
        "print('False:', y_pred_class[0:25])"
      ]
    },
    {
      "cell_type": "code",
      "execution_count": null,
      "metadata": {
        "deletable": true,
        "editable": true,
        "id": "n__34TEsTzJK",
        "colab": {
          "base_uri": "https://localhost:8080/"
        },
        "outputId": "ec980cfa-e04a-42c0-b107-555c5f99bfd2"
      },
      "outputs": [
        {
          "output_type": "stream",
          "name": "stdout",
          "text": [
            "[[79  0]\n",
            " [ 0 43]]\n"
          ]
        }
      ],
      "source": [
        "from sklearn import metrics\n",
        "# IMPORTANT: first argument is true values, second argument is predicted values\n",
        "# this produces a 2x2 numpy array (matrix)\n",
        "#print(metrics.confusion_matrix(y_test, y_pred_class))\n",
        "\n",
        "# save confusion matrix and slice into four pieces\n",
        "confusion = metrics.confusion_matrix(y_test, y_pred_class)\n",
        "print(confusion)\n",
        "#[row, column]\n",
        "TP = confusion[1, 1]\n",
        "TN = confusion[0, 0]\n",
        "FP = confusion[0, 1]\n",
        "FN = confusion[1, 0]"
      ]
    },
    {
      "cell_type": "markdown",
      "metadata": {
        "deletable": true,
        "editable": true,
        "id": "TJdhIuU5TzJL"
      },
      "source": [
        "### Metrics computed from a confusion matrix"
      ]
    },
    {
      "cell_type": "markdown",
      "metadata": {
        "deletable": true,
        "editable": true,
        "id": "_Wu5j9E1TzJL"
      },
      "source": [
        "**Classification Accuracy**: Overall, how often is the classifier correct?"
      ]
    },
    {
      "cell_type": "code",
      "execution_count": null,
      "metadata": {
        "deletable": true,
        "editable": true,
        "id": "Vx8Olop_TzJL",
        "outputId": "a0d6cb83-5a8f-4c59-9aaa-152a94ceb401",
        "colab": {
          "base_uri": "https://localhost:8080/"
        }
      },
      "outputs": [
        {
          "output_type": "stream",
          "name": "stdout",
          "text": [
            "1.0\n"
          ]
        }
      ],
      "source": [
        "# use float to perform true division, not integer division\n",
        "print((TP + TN) / float(TP + TN + FP + FN))"
      ]
    },
    {
      "cell_type": "markdown",
      "metadata": {
        "deletable": true,
        "editable": true,
        "id": "i59Ex59xTzJL"
      },
      "source": [
        "**Classification Error**: Overall, how often is the classifier incorrect?"
      ]
    },
    {
      "cell_type": "code",
      "execution_count": null,
      "metadata": {
        "deletable": true,
        "editable": true,
        "id": "5ThRxTsLTzJL",
        "outputId": "3be96c0f-aed2-45fc-f9da-d4d800d61780",
        "colab": {
          "base_uri": "https://localhost:8080/"
        }
      },
      "outputs": [
        {
          "output_type": "stream",
          "name": "stdout",
          "text": [
            "0.0\n"
          ]
        }
      ],
      "source": [
        "classification_error = (FP + FN) / float(TP + TN + FP + FN)\n",
        "\n",
        "print(classification_error)"
      ]
    },
    {
      "cell_type": "markdown",
      "metadata": {
        "deletable": true,
        "editable": true,
        "id": "K7wZ9zxJTzJL"
      },
      "source": [
        "**Sensitivity**: When the actual value is positive, how often is the prediction correct?\n"
      ]
    },
    {
      "cell_type": "code",
      "execution_count": null,
      "metadata": {
        "deletable": true,
        "editable": true,
        "id": "8dENz9uJTzJL",
        "outputId": "9eed1868-adb3-4658-e9c3-050b02f7c5ed",
        "colab": {
          "base_uri": "https://localhost:8080/"
        }
      },
      "outputs": [
        {
          "output_type": "stream",
          "name": "stdout",
          "text": [
            "1.0\n",
            "1.0\n"
          ]
        }
      ],
      "source": [
        "sensitivity = TP / float(FN + TP)\n",
        "\n",
        "print(sensitivity)\n",
        "print(metrics.recall_score(y_test, y_pred_class))"
      ]
    },
    {
      "cell_type": "markdown",
      "metadata": {
        "deletable": true,
        "editable": true,
        "id": "XkZdQF5kTzJM"
      },
      "source": [
        "**Specificity**: When the actual value is negative, how often is the prediction correct?"
      ]
    },
    {
      "cell_type": "code",
      "execution_count": null,
      "metadata": {
        "deletable": true,
        "editable": true,
        "id": "_z1wLh7qTzJM",
        "outputId": "5a0b2cad-6dad-4fdc-a905-2b05291dd0de",
        "colab": {
          "base_uri": "https://localhost:8080/"
        }
      },
      "outputs": [
        {
          "output_type": "stream",
          "name": "stdout",
          "text": [
            "1.0\n"
          ]
        }
      ],
      "source": [
        "specificity = TN / (TN + FP)\n",
        "\n",
        "print(specificity)"
      ]
    },
    {
      "cell_type": "markdown",
      "metadata": {
        "deletable": true,
        "editable": true,
        "id": "CAK3pjd4TzJM"
      },
      "source": [
        "**False Positive Rate**: When the actual value is negative, how often is the prediction incorrect?"
      ]
    },
    {
      "cell_type": "code",
      "execution_count": null,
      "metadata": {
        "deletable": true,
        "editable": true,
        "id": "AuhyFvmnTzJM",
        "outputId": "77220972-d2dc-4a0d-fd8a-54fada60b219",
        "colab": {
          "base_uri": "https://localhost:8080/"
        }
      },
      "outputs": [
        {
          "output_type": "stream",
          "name": "stdout",
          "text": [
            "0.0\n"
          ]
        }
      ],
      "source": [
        "false_positive_rate = FP / float(TN + FP)\n",
        "\n",
        "print(false_positive_rate)\n",
        "#print(1 - specificity)"
      ]
    },
    {
      "cell_type": "markdown",
      "metadata": {
        "deletable": true,
        "editable": true,
        "id": "Ji8sf-RyTzJM"
      },
      "source": [
        "**Precision**: When a positive value is predicted, how often is the prediction correct?"
      ]
    },
    {
      "cell_type": "code",
      "execution_count": null,
      "metadata": {
        "deletable": true,
        "editable": true,
        "id": "hbnLMInNTzJM",
        "outputId": "13a5d314-88f3-4342-c14a-48b6e5057362",
        "colab": {
          "base_uri": "https://localhost:8080/"
        }
      },
      "outputs": [
        {
          "output_type": "stream",
          "name": "stdout",
          "text": [
            "1.0\n"
          ]
        }
      ],
      "source": [
        "precision = TP / float(TP + FP)\n",
        "\n",
        "#print(precision)\n",
        "print(metrics.precision_score(y_test, y_pred_class))"
      ]
    },
    {
      "cell_type": "markdown",
      "metadata": {
        "deletable": true,
        "editable": true,
        "id": "LVqpwru5TzJN"
      },
      "source": [
        "### Visualizing the classification prediction:"
      ]
    },
    {
      "cell_type": "code",
      "execution_count": null,
      "metadata": {
        "deletable": true,
        "editable": true,
        "id": "k1Nit6n8TzJN",
        "outputId": "b66512ee-3862-41a9-91e6-7d31796e085a",
        "colab": {
          "base_uri": "https://localhost:8080/"
        }
      },
      "outputs": [
        {
          "output_type": "execute_result",
          "data": {
            "text/plain": [
              "array([1, 0, 0, 1, 1, 0, 1, 1, 0, 0])"
            ]
          },
          "metadata": {},
          "execution_count": 63
        }
      ],
      "source": [
        "# print the first 10 predicted responses\n",
        "# 1D array (vector) of binary values (0, 1)\n",
        "dectree.predict(X_test)[0:10]"
      ]
    },
    {
      "cell_type": "code",
      "execution_count": null,
      "metadata": {
        "deletable": true,
        "editable": true,
        "id": "rwnVitAGTzJN",
        "outputId": "9b853b3b-535e-4970-fee6-1751909e44ed",
        "colab": {
          "base_uri": "https://localhost:8080/"
        }
      },
      "outputs": [
        {
          "output_type": "execute_result",
          "data": {
            "text/plain": [
              "array([[0., 1.],\n",
              "       [1., 0.],\n",
              "       [1., 0.],\n",
              "       [0., 1.],\n",
              "       [0., 1.],\n",
              "       [1., 0.],\n",
              "       [0., 1.],\n",
              "       [0., 1.],\n",
              "       [1., 0.],\n",
              "       [1., 0.]])"
            ]
          },
          "metadata": {},
          "execution_count": 64
        }
      ],
      "source": [
        "# print the first 10 predicted probabilities of class membership\n",
        "dectree.predict_proba(X_test)[0:10]"
      ]
    },
    {
      "cell_type": "code",
      "execution_count": null,
      "metadata": {
        "collapsed": true,
        "deletable": true,
        "editable": true,
        "id": "vRBqt9ReTzJN"
      },
      "outputs": [],
      "source": [
        "# store the predicted probabilities for class 1\n",
        "y_pred_prob = dectree.predict_proba(X_test)[:, 1]"
      ]
    },
    {
      "cell_type": "code",
      "execution_count": null,
      "metadata": {
        "collapsed": true,
        "deletable": true,
        "editable": true,
        "id": "KF1UNG__TzJN"
      },
      "outputs": [],
      "source": [
        "# allow plots to appear in the notebook\n",
        "\n",
        "import matplotlib.pyplot as plt\n",
        "\n",
        "# adjust the font size \n",
        "plt.rcParams['font.size'] = 12"
      ]
    },
    {
      "cell_type": "code",
      "execution_count": null,
      "metadata": {
        "deletable": true,
        "editable": true,
        "id": "wPoqC7ypTzJN",
        "outputId": "7035372b-d92a-400d-b310-2e7382101c23",
        "colab": {
          "base_uri": "https://localhost:8080/",
          "height": 318
        }
      },
      "outputs": [
        {
          "output_type": "execute_result",
          "data": {
            "text/plain": [
              "Text(0, 0.5, 'Frequency')"
            ]
          },
          "metadata": {},
          "execution_count": 109
        },
        {
          "output_type": "display_data",
          "data": {
            "text/plain": [
              "<Figure size 432x288 with 1 Axes>"
            ],
            "image/png": "[encoded data removed]"
          },
          "metadata": {}
        }
      ],
      "source": [
        "# histogram of predicted probabilities\n",
        "\n",
        "# 8 bins\n",
        "plt.hist(y_pred_prob, bins=10)\n",
        "\n",
        "# x-axis limit from 0 to 1\n",
        "plt.xlim(0,1)\n",
        "plt.title('Histogram of predicted probabilities')\n",
        "plt.xlabel('Predicted probability of ASD')\n",
        "plt.ylabel('Frequency')"
      ]
    },
    {
      "cell_type": "markdown",
      "metadata": {
        "deletable": true,
        "editable": true,
        "id": "aDcEoEmoTzJO"
      },
      "source": [
        "### Receiver Operating Characteristic (ROC) Curves"
      ]
    },
    {
      "cell_type": "markdown",
      "metadata": {
        "deletable": true,
        "editable": true,
        "id": "f2RPhZ9ETzJO"
      },
      "source": [
        "It would be nice if we could see how sensitivity and specificity are affected by various thresholds, without actually changing the threshold? Lets plot the ROC curve."
      ]
    },
    {
      "cell_type": "code",
      "execution_count": null,
      "metadata": {
        "deletable": true,
        "editable": true,
        "id": "gTTmI7RrTzJO",
        "outputId": "62d7a8cc-e1de-4594-b0bb-db3c5f8ed8f4",
        "colab": {
          "base_uri": "https://localhost:8080/",
          "height": 301
        }
      },
      "outputs": [
        {
          "output_type": "display_data",
          "data": {
            "text/plain": [
              "<Figure size 432x288 with 1 Axes>"
            ],
            "image/png": "[encoded data removed]"
          },
          "metadata": {}
        }
      ],
      "source": [
        "# IMPORTANT: first argument is true values, second argument is predicted probabilities\n",
        "\n",
        "# we pass y_test and y_pred_prob\n",
        "# we do not use y_pred_class, because it will give incorrect results without generating an error\n",
        "# roc_curve returns 3 objects fpr, tpr, thresholds\n",
        "# fpr: false positive rate\n",
        "# tpr: true positive rate\n",
        "fpr, tpr, thresholds = metrics.roc_curve(y_test, y_pred_prob)\n",
        "\n",
        "plt.plot(fpr, tpr)\n",
        "plt.xlim([0.0, 1.0])\n",
        "plt.ylim([0.0, 1.0])\n",
        "plt.rcParams['font.size'] = 12\n",
        "plt.title('ROC curve for diabetes classifier')\n",
        "plt.xlabel('False Positive Rate (1 - Specificity)')\n",
        "plt.ylabel('True Positive Rate (Sensitivity)')\n",
        "plt.grid(True)"
      ]
    },
    {
      "cell_type": "markdown",
      "metadata": {
        "deletable": true,
        "editable": true,
        "id": "BJ0s8iATTzJO"
      },
      "source": [
        "#### Score metric for Model performance"
      ]
    },
    {
      "cell_type": "code",
      "execution_count": null,
      "metadata": {
        "deletable": true,
        "editable": true,
        "id": "SeR9FeudTzJO",
        "outputId": "5c6660dc-a2df-46af-f076-4112f191a377",
        "colab": {
          "base_uri": "https://localhost:8080/"
        }
      },
      "outputs": [
        {
          "output_type": "execute_result",
          "data": {
            "text/plain": [
              "1.0"
            ]
          },
          "metadata": {},
          "execution_count": 68
        }
      ],
      "source": [
        "dectree.score(X_test, y_test)"
      ]
    },
    {
      "cell_type": "markdown",
      "metadata": {
        "deletable": true,
        "editable": true,
        "id": "47oZOpzRTzJO"
      },
      "source": [
        "### Cross-validation:\n",
        "\n",
        "Now instead of a single train/test split, I use K-Fold cross validation to get a better measure of your model's accuracy (K=10). "
      ]
    },
    {
      "cell_type": "code",
      "execution_count": null,
      "metadata": {
        "deletable": true,
        "editable": true,
        "id": "MNNl5tnOTzJO",
        "outputId": "02861d6c-77bf-4a21-84ea-df20b36c5281",
        "colab": {
          "base_uri": "https://localhost:8080/"
        }
      },
      "outputs": [
        {
          "output_type": "execute_result",
          "data": {
            "text/plain": [
              "1.0"
            ]
          },
          "metadata": {},
          "execution_count": 69
        }
      ],
      "source": [
        "from sklearn.model_selection import cross_val_score\n",
        "\n",
        "dectree = DecisionTreeClassifier(random_state=1)\n",
        "\n",
        "cv_scores = cross_val_score(dectree, features_final, asd_classes, cv=10)\n",
        "\n",
        "cv_scores.mean()"
      ]
    },
    {
      "cell_type": "markdown",
      "metadata": {
        "deletable": true,
        "editable": true,
        "id": "MSejJRqxTzJP"
      },
      "source": [
        "### AUC Score: \n",
        "\n",
        "AUC is the percentage of the ROC plot that is underneath the curve"
      ]
    },
    {
      "cell_type": "code",
      "execution_count": null,
      "metadata": {
        "deletable": true,
        "editable": true,
        "id": "7cqcOO8zTzJP",
        "outputId": "2c776aa2-3b60-424d-ab8a-59e225a1d477",
        "colab": {
          "base_uri": "https://localhost:8080/"
        }
      },
      "outputs": [
        {
          "output_type": "execute_result",
          "data": {
            "text/plain": [
              "1.0"
            ]
          },
          "metadata": {},
          "execution_count": 70
        }
      ],
      "source": [
        "# calculate cross-validated AUC\n",
        "from  sklearn.model_selection import cross_val_score\n",
        "cross_val_score(dectree, features_final, asd_classes, cv=10, scoring='roc_auc').mean()"
      ]
    },
    {
      "cell_type": "markdown",
      "metadata": {
        "deletable": true,
        "editable": true,
        "id": "QEJQP5mbTzJP"
      },
      "source": [
        "### F-beta Score:"
      ]
    },
    {
      "cell_type": "code",
      "execution_count": null,
      "metadata": {
        "deletable": true,
        "editable": true,
        "id": "G9Grq94ZTzJP",
        "outputId": "435ea5f1-2a61-4abc-9802-ff1373e83191",
        "colab": {
          "base_uri": "https://localhost:8080/"
        }
      },
      "outputs": [
        {
          "output_type": "execute_result",
          "data": {
            "text/plain": [
              "1.0"
            ]
          },
          "metadata": {},
          "execution_count": 71
        }
      ],
      "source": [
        "dectree.fit(X_train, y_train)\n",
        "from sklearn.metrics import fbeta_score\n",
        "predictions_test = dectree.predict(X_test)\n",
        "fbeta_score(y_test, predictions_test, average='binary', beta=0.5)"
      ]
    },
    {
      "cell_type": "markdown",
      "metadata": {
        "deletable": true,
        "editable": true,
        "id": "9Y45qDYHTzJP"
      },
      "source": [
        "---\n",
        "<a id='2'></a>\n",
        "## (2) Random Forest\n",
        "\n",
        "Now I apply a **RandomForestClassifier** instead to see whether it performs better."
      ]
    },
    {
      "cell_type": "code",
      "execution_count": null,
      "metadata": {
        "deletable": true,
        "editable": true,
        "id": "oyIOujTlTzJP",
        "outputId": "56efa7b5-545d-4b91-b8dd-795f5f800d9b",
        "colab": {
          "base_uri": "https://localhost:8080/"
        }
      },
      "outputs": [
        {
          "output_type": "execute_result",
          "data": {
            "text/plain": [
              "0.985191256830601"
            ]
          },
          "metadata": {},
          "execution_count": 72
        }
      ],
      "source": [
        "from sklearn.ensemble import RandomForestClassifier\n",
        "\n",
        "ranfor = RandomForestClassifier(n_estimators=5, random_state=1)\n",
        "cv_scores = cross_val_score(ranfor, features_final, asd_classes, cv=10)\n",
        "cv_scores.mean()"
      ]
    },
    {
      "cell_type": "markdown",
      "metadata": {
        "deletable": true,
        "editable": true,
        "id": "4-UrIqEzTzJQ"
      },
      "source": [
        "AUC Score: AUC is the percentage of the ROC plot that is underneath the curve"
      ]
    },
    {
      "cell_type": "code",
      "execution_count": null,
      "metadata": {
        "deletable": true,
        "editable": true,
        "id": "xhkFny1kTzJQ",
        "outputId": "17593aa1-eb70-49fb-e476-5c35e6cf4aaa",
        "colab": {
          "base_uri": "https://localhost:8080/"
        }
      },
      "outputs": [
        {
          "output_type": "execute_result",
          "data": {
            "text/plain": [
              "0.9985019072228374"
            ]
          },
          "metadata": {},
          "execution_count": 73
        }
      ],
      "source": [
        "#calculate cross-validated AUC\n",
        "from  sklearn.model_selection import cross_val_score\n",
        "cross_val_score(ranfor, features_final, asd_classes, cv=10, scoring='roc_auc').mean()"
      ]
    },
    {
      "cell_type": "markdown",
      "metadata": {
        "deletable": true,
        "editable": true,
        "id": "c2zS1vdSTzJQ"
      },
      "source": [
        "F-beta Score:"
      ]
    },
    {
      "cell_type": "code",
      "execution_count": null,
      "metadata": {
        "deletable": true,
        "editable": true,
        "id": "N2C7NWlzTzJQ",
        "outputId": "362e5372-7065-4230-822b-6bf4d3ea7568",
        "colab": {
          "base_uri": "https://localhost:8080/"
        }
      },
      "outputs": [
        {
          "output_type": "execute_result",
          "data": {
            "text/plain": [
              "0.9817351598173516"
            ]
          },
          "metadata": {},
          "execution_count": 74
        }
      ],
      "source": [
        "ranfor.fit(X_train, y_train)\n",
        "from sklearn.metrics import fbeta_score\n",
        "predictions_test = ranfor.predict(X_test)\n",
        "fbeta_score(y_test, predictions_test, average='binary', beta=0.5)"
      ]
    },
    {
      "cell_type": "markdown",
      "metadata": {
        "deletable": true,
        "editable": true,
        "id": "VRUOgjDhTzJQ"
      },
      "source": [
        "---\n",
        "<a id='3'></a>\n",
        "## (3) SVM\n",
        "\n",
        "Next I try using svm.SVC with a linear kernel and see how well it does in comparison to the decision tree."
      ]
    },
    {
      "cell_type": "code",
      "execution_count": null,
      "metadata": {
        "collapsed": true,
        "deletable": true,
        "editable": true,
        "id": "j5n9pP5-TzJQ"
      },
      "outputs": [],
      "source": [
        "from sklearn import svm\n",
        "\n",
        "C = 1.0\n",
        "svc = svm.SVC(kernel='linear', C=C, gamma=2)"
      ]
    },
    {
      "cell_type": "code",
      "execution_count": null,
      "metadata": {
        "deletable": true,
        "editable": true,
        "id": "IDTWCfaWTzJR",
        "outputId": "295ff9a3-2cd0-49f1-a99b-9c9d1be18001",
        "colab": {
          "base_uri": "https://localhost:8080/"
        }
      },
      "outputs": [
        {
          "output_type": "execute_result",
          "data": {
            "text/plain": [
              "1.0"
            ]
          },
          "metadata": {},
          "execution_count": 119
        }
      ],
      "source": [
        "cv_scores = cross_val_score(svc, features_final, asd_classes, cv=10)\n",
        "\n",
        "cv_scores.mean()"
      ]
    },
    {
      "cell_type": "markdown",
      "metadata": {
        "deletable": true,
        "editable": true,
        "id": "U1k542wgTzJR"
      },
      "source": [
        "AUC Score: AUC is the percentage of the ROC plot that is underneath the curve"
      ]
    },
    {
      "cell_type": "code",
      "execution_count": null,
      "metadata": {
        "deletable": true,
        "editable": true,
        "id": "Nn275mofTzJR",
        "outputId": "a6f5d3e7-842a-45d5-fbac-81f127d61604",
        "colab": {
          "base_uri": "https://localhost:8080/"
        }
      },
      "outputs": [
        {
          "output_type": "execute_result",
          "data": {
            "text/plain": [
              "1.0"
            ]
          },
          "metadata": {},
          "execution_count": 76
        }
      ],
      "source": [
        "# calculate cross-validated AUC\n",
        "from  sklearn.model_selection import cross_val_score\n",
        "cross_val_score(svc, features_final, asd_classes, cv=10, scoring='roc_auc').mean()"
      ]
    },
    {
      "cell_type": "markdown",
      "metadata": {
        "deletable": true,
        "editable": true,
        "id": "a1T3PlqMTzJR"
      },
      "source": [
        "F-beta Score:"
      ]
    },
    {
      "cell_type": "code",
      "execution_count": null,
      "metadata": {
        "deletable": true,
        "editable": true,
        "id": "p347B1eTTzJR",
        "outputId": "10c3925b-6526-4e73-d6d3-b5bbf4cb4196",
        "colab": {
          "base_uri": "https://localhost:8080/"
        }
      },
      "outputs": [
        {
          "output_type": "execute_result",
          "data": {
            "text/plain": [
              "1.0"
            ]
          },
          "metadata": {},
          "execution_count": 77
        }
      ],
      "source": [
        "svc.fit(X_train, y_train)\n",
        "from sklearn.metrics import fbeta_score\n",
        "predictions_test = svc.predict(X_test)\n",
        "fbeta_score(y_test, predictions_test, average='binary', beta=0.5)"
      ]
    },
    {
      "cell_type": "markdown",
      "metadata": {
        "deletable": true,
        "editable": true,
        "id": "Y4NFMAqiTzJR"
      },
      "source": [
        "---\n",
        "<a id='4'></a>\n",
        "\n",
        "## (4) K-Nearest-Neighbors (KNN)\n",
        "Next, I explore the K-Nearest-Neighbors algorithm with a starting value of K=10. Recall that K is an example of a hyperparameter - a parameter on the model itself which may need to be tuned for best results on your particular data set."
      ]
    },
    {
      "cell_type": "code",
      "execution_count": null,
      "metadata": {
        "deletable": true,
        "editable": true,
        "id": "ZjrTM8STTzJR",
        "outputId": "7ddb0384-321a-45eb-9ebd-43edddb1042f",
        "colab": {
          "base_uri": "https://localhost:8080/"
        }
      },
      "outputs": [
        {
          "output_type": "execute_result",
          "data": {
            "text/plain": [
              "0.9474590163934427"
            ]
          },
          "metadata": {},
          "execution_count": 78
        }
      ],
      "source": [
        "from sklearn import neighbors\n",
        "\n",
        "knn = neighbors.KNeighborsClassifier(n_neighbors=10)\n",
        "cv_scores = cross_val_score(knn, features_final, asd_classes, cv=10)\n",
        "\n",
        "cv_scores.mean()"
      ]
    },
    {
      "cell_type": "markdown",
      "metadata": {
        "deletable": true,
        "editable": true,
        "id": "5SgYUCWZTzJS"
      },
      "source": [
        "AUC Score: AUC is the percentage of the ROC plot that is underneath the curve"
      ]
    },
    {
      "cell_type": "code",
      "execution_count": null,
      "metadata": {
        "deletable": true,
        "editable": true,
        "id": "jNE3avKwTzJS",
        "outputId": "d96703c8-e868-4b1d-e6fe-7677dc42cf1f",
        "colab": {
          "base_uri": "https://localhost:8080/"
        }
      },
      "outputs": [
        {
          "output_type": "execute_result",
          "data": {
            "text/plain": [
              "0.9930740125507567"
            ]
          },
          "metadata": {},
          "execution_count": 79
        }
      ],
      "source": [
        "# calculate cross-validated AUC\n",
        "from  sklearn.model_selection import cross_val_score\n",
        "cross_val_score(knn, features_final, asd_classes, cv=10, scoring='roc_auc').mean()"
      ]
    },
    {
      "cell_type": "markdown",
      "metadata": {
        "deletable": true,
        "editable": true,
        "id": "HQ6Q77JPTzJS"
      },
      "source": [
        "F-beta Score:"
      ]
    },
    {
      "cell_type": "code",
      "execution_count": null,
      "metadata": {
        "deletable": true,
        "editable": true,
        "id": "JIi8SPxLTzJS",
        "outputId": "6a5e5222-b80c-4080-b22e-fd35556233a3",
        "colab": {
          "base_uri": "https://localhost:8080/"
        }
      },
      "outputs": [
        {
          "output_type": "execute_result",
          "data": {
            "text/plain": [
              "0.9360730593607306"
            ]
          },
          "metadata": {},
          "execution_count": 80
        }
      ],
      "source": [
        "knn.fit(X_train, y_train)\n",
        "from sklearn.metrics import fbeta_score\n",
        "predictions_test = knn.predict(X_test)\n",
        "fbeta_score(y_test, predictions_test, average='binary', beta=0.5)"
      ]
    },
    {
      "cell_type": "markdown",
      "metadata": {
        "deletable": true,
        "editable": true,
        "id": "ZiZusczmTzJS"
      },
      "source": [
        "Choosing K is tricky, so I can't discard KNN until we've tried different values of K. Hence we write a for loop to run KNN with K values ranging from 10 to 50 and see if K makes a substantial difference. "
      ]
    },
    {
      "cell_type": "code",
      "execution_count": null,
      "metadata": {
        "deletable": true,
        "editable": true,
        "id": "3t6QdEZYTzJS",
        "outputId": "db3fccc1-71f6-4303-b12e-440dbbdb6680",
        "colab": {
          "base_uri": "https://localhost:8080/"
        }
      },
      "outputs": [
        {
          "output_type": "stream",
          "name": "stdout",
          "text": [
            "10 0.9474590163934427\n",
            "11 0.9507377049180328\n",
            "12 0.9507377049180328\n",
            "13 0.9556830601092896\n",
            "14 0.9507650273224044\n",
            "15 0.944207650273224\n",
            "16 0.9507650273224044\n",
            "17 0.9507377049180328\n",
            "18 0.9523770491803278\n",
            "19 0.9540163934426229\n",
            "20 0.9523770491803278\n",
            "21 0.9523770491803278\n",
            "22 0.9474590163934424\n",
            "23 0.9490983606557375\n",
            "24 0.9507377049180326\n",
            "25 0.9507377049180328\n",
            "26 0.9523770491803278\n",
            "27 0.9507377049180328\n",
            "28 0.9507377049180326\n",
            "29 0.9507377049180328\n",
            "30 0.9523770491803278\n",
            "31 0.9474863387978143\n",
            "32 0.9491256830601094\n",
            "33 0.9474863387978143\n",
            "34 0.9507650273224044\n",
            "35 0.9491256830601094\n",
            "36 0.9491256830601091\n",
            "37 0.9507650273224044\n",
            "38 0.9540710382513661\n",
            "39 0.9524316939890708\n",
            "40 0.9540710382513659\n",
            "41 0.9524316939890708\n",
            "42 0.9524316939890708\n",
            "43 0.9507923497267757\n",
            "44 0.9507923497267757\n",
            "45 0.9507923497267757\n",
            "46 0.9524316939890708\n",
            "47 0.9524316939890708\n",
            "48 0.9540710382513661\n",
            "49 0.9524316939890708\n"
          ]
        }
      ],
      "source": [
        "for n in range(10, 50):\n",
        "    knn = neighbors.KNeighborsClassifier(n_neighbors=n)\n",
        "    cv_scores = cross_val_score(knn, features_final, asd_classes, cv=10)\n",
        "    print (n, cv_scores.mean())"
      ]
    },
    {
      "cell_type": "markdown",
      "metadata": {
        "deletable": true,
        "editable": true,
        "id": "NImRRwjWTzJT"
      },
      "source": [
        "---\n",
        "<a id='5'></a>\n",
        "\n",
        "## (5) Naive Bayes\n",
        "\n",
        "Now I try naive_bayes.MultinomialNB classifier and ask how does its accuracy stack up."
      ]
    },
    {
      "cell_type": "code",
      "execution_count": null,
      "metadata": {
        "deletable": true,
        "editable": true,
        "id": "DSNTbh2mTzJT",
        "outputId": "38b3c54c-0942-4e87-9add-99346bb54c94",
        "colab": {
          "base_uri": "https://localhost:8080/"
        }
      },
      "outputs": [
        {
          "output_type": "execute_result",
          "data": {
            "text/plain": [
              "0.885"
            ]
          },
          "metadata": {},
          "execution_count": 82
        }
      ],
      "source": [
        "from sklearn.naive_bayes import MultinomialNB\n",
        "\n",
        "#scaler = preprocessing.MinMaxScaler()\n",
        "#all_features_minmax = scaler.fit_transform(all_features)\n",
        "\n",
        "nb = MultinomialNB()\n",
        "cv_scores = cross_val_score(nb, features_final, asd_classes, cv=10)\n",
        "\n",
        "cv_scores.mean()"
      ]
    },
    {
      "cell_type": "markdown",
      "metadata": {
        "deletable": true,
        "editable": true,
        "id": "li1oj2GXTzJT"
      },
      "source": [
        "AUC Score: AUC is the percentage of the ROC plot that is underneath the curve"
      ]
    },
    {
      "cell_type": "code",
      "execution_count": null,
      "metadata": {
        "deletable": true,
        "editable": true,
        "id": "rZV8i3x2TzJT",
        "outputId": "98a572c0-3cc1-4e73-8cd3-69f7a912fc76",
        "colab": {
          "base_uri": "https://localhost:8080/"
        }
      },
      "outputs": [
        {
          "output_type": "execute_result",
          "data": {
            "text/plain": [
              "0.9445090439276485"
            ]
          },
          "metadata": {},
          "execution_count": 83
        }
      ],
      "source": [
        "# calculate cross-validated AUC\n",
        "from sklearn.model_selection import cross_val_score\n",
        "cross_val_score(nb, features_final, asd_classes, cv=10, scoring='roc_auc').mean()"
      ]
    },
    {
      "cell_type": "markdown",
      "metadata": {
        "deletable": true,
        "editable": true,
        "id": "fLrfyGbSTzJT"
      },
      "source": [
        "F-beta Score:"
      ]
    },
    {
      "cell_type": "code",
      "execution_count": null,
      "metadata": {
        "deletable": true,
        "editable": true,
        "id": "JrPKkhrDTzJT",
        "outputId": "3cab1af4-c9a0-4dbc-df0f-93f9f128a58f",
        "colab": {
          "base_uri": "https://localhost:8080/"
        }
      },
      "outputs": [
        {
          "output_type": "execute_result",
          "data": {
            "text/plain": [
              "0.8370044052863436"
            ]
          },
          "metadata": {},
          "execution_count": 84
        }
      ],
      "source": [
        "nb.fit(X_train, y_train)\n",
        "from sklearn.metrics import fbeta_score\n",
        "predictions_test = nb.predict(X_test)\n",
        "fbeta_score(y_test, predictions_test, average='binary', beta=0.5)"
      ]
    },
    {
      "cell_type": "markdown",
      "metadata": {
        "deletable": true,
        "editable": true,
        "id": "IvS4jm31TzJU"
      },
      "source": [
        "---\n",
        "<a id='6'></a>\n",
        "\n",
        "## (6) Logistic Regression\n",
        "\n",
        "We've tried all these fancy techniques, but fundamentally this is just a binary classification problem. Try Logisitic Regression, which is a simple way to tackling this sort of thing."
      ]
    },
    {
      "cell_type": "code",
      "execution_count": null,
      "metadata": {
        "deletable": true,
        "editable": true,
        "id": "1LaaPmBKTzJU",
        "outputId": "501d3a24-e7f5-42ea-a8bd-ff4d1357bc72",
        "colab": {
          "base_uri": "https://localhost:8080/"
        }
      },
      "outputs": [
        {
          "output_type": "execute_result",
          "data": {
            "text/plain": [
              "0.9934426229508198"
            ]
          },
          "metadata": {},
          "execution_count": 85
        }
      ],
      "source": [
        "from sklearn.linear_model import LogisticRegression\n",
        "\n",
        "logreg = LogisticRegression()\n",
        "cv_scores = cross_val_score(logreg, features_final, asd_classes, cv=10)\n",
        "cv_scores.mean()"
      ]
    },
    {
      "cell_type": "markdown",
      "metadata": {
        "deletable": true,
        "editable": true,
        "id": "ButVjhPBTzJU"
      },
      "source": [
        "AUC Score: AUC is the percentage of the ROC plot that is underneath the curve"
      ]
    },
    {
      "cell_type": "code",
      "execution_count": null,
      "metadata": {
        "deletable": true,
        "editable": true,
        "id": "N2edEwiCTzJU",
        "outputId": "2f603000-dfe1-4db6-8af7-3ced10a5910b",
        "colab": {
          "base_uri": "https://localhost:8080/"
        }
      },
      "outputs": [
        {
          "output_type": "execute_result",
          "data": {
            "text/plain": [
              "1.0"
            ]
          },
          "metadata": {},
          "execution_count": 86
        }
      ],
      "source": [
        "# calculate cross-validated AUC\n",
        "from sklearn.model_selection import cross_val_score\n",
        "cv_scores_roc = cross_val_score(logreg, features_final, asd_classes, cv=10, scoring='roc_auc').mean()\n",
        "cv_scores_roc.mean()"
      ]
    },
    {
      "cell_type": "markdown",
      "metadata": {
        "deletable": true,
        "editable": true,
        "id": "kNSiHjqSTzJU"
      },
      "source": [
        "F-beta Score:"
      ]
    },
    {
      "cell_type": "code",
      "execution_count": null,
      "metadata": {
        "deletable": true,
        "editable": true,
        "id": "HtlPi4eFTzJU",
        "outputId": "14f8248a-d707-4d4f-b5e1-f8d676343fc2",
        "colab": {
          "base_uri": "https://localhost:8080/"
        }
      },
      "outputs": [
        {
          "output_type": "execute_result",
          "data": {
            "text/plain": [
              "0.9641255605381165"
            ]
          },
          "metadata": {},
          "execution_count": 88
        }
      ],
      "source": [
        "logreg.fit(X_train, y_train)\n",
        "from sklearn.metrics import fbeta_score\n",
        "predictions_test = logreg.predict(X_test)\n",
        "fbeta_score(y_test, predictions_test, average='binary', beta=0.5)"
      ]
    },
    {
      "cell_type": "markdown",
      "metadata": {
        "deletable": true,
        "editable": true,
        "id": "Yo0dPF84TzJV"
      },
      "source": [
        "---\n",
        "<a id='7'></a>\n",
        "\n",
        "## (7) Linear Discriminant Analysis"
      ]
    },
    {
      "cell_type": "code",
      "execution_count": null,
      "metadata": {
        "deletable": true,
        "editable": true,
        "id": "la4dPmGATzJV",
        "outputId": "07ec4a26-475c-42ed-f6e6-af474b5e3bc6",
        "colab": {
          "base_uri": "https://localhost:8080/"
        }
      },
      "outputs": [
        {
          "output_type": "execute_result",
          "data": {
            "text/plain": [
              "0.9326229508196722"
            ]
          },
          "metadata": {},
          "execution_count": 89
        }
      ],
      "source": [
        "from sklearn.discriminant_analysis import LinearDiscriminantAnalysis\n",
        "\n",
        "lda = LinearDiscriminantAnalysis()\n",
        "cv_scores = cross_val_score(lda, features_final, asd_classes, cv=10)\n",
        "cv_scores.mean()"
      ]
    },
    {
      "cell_type": "markdown",
      "metadata": {
        "deletable": true,
        "editable": true,
        "id": "gZ3kdhcPTzJV"
      },
      "source": [
        "AUC Score: AUC is the percentage of the ROC plot that is underneath the curve"
      ]
    },
    {
      "cell_type": "code",
      "execution_count": null,
      "metadata": {
        "deletable": true,
        "editable": true,
        "id": "yH-BSYp6TzJV",
        "outputId": "663f1229-b698-4461-c480-3e518a2ba987",
        "colab": {
          "base_uri": "https://localhost:8080/"
        }
      },
      "outputs": [
        {
          "output_type": "execute_result",
          "data": {
            "text/plain": [
              "0.9850590623846438"
            ]
          },
          "metadata": {},
          "execution_count": 90
        }
      ],
      "source": [
        "# calculate cross-validated AUC\n",
        "from  sklearn.model_selection import cross_val_score\n",
        "cv_scores_roc = cross_val_score(lda, features_final, asd_classes, cv=10, scoring='roc_auc').mean()\n",
        "cv_scores_roc.mean()"
      ]
    },
    {
      "cell_type": "markdown",
      "metadata": {
        "deletable": true,
        "editable": true,
        "id": "CXIS2yBMTzJV"
      },
      "source": [
        "F-beta Score:"
      ]
    },
    {
      "cell_type": "code",
      "execution_count": null,
      "metadata": {
        "deletable": true,
        "editable": true,
        "id": "7o-qJRNYTzJV",
        "outputId": "fddd71da-559c-4cde-8d5a-bca2fdbe8694",
        "colab": {
          "base_uri": "https://localhost:8080/"
        }
      },
      "outputs": [
        {
          "output_type": "execute_result",
          "data": {
            "text/plain": [
              "0.9148936170212767"
            ]
          },
          "metadata": {},
          "execution_count": 91
        }
      ],
      "source": [
        "lda.fit(X_train, y_train)\n",
        "from sklearn.metrics import fbeta_score\n",
        "predictions_test = lda.predict(X_test)\n",
        "fbeta_score(y_test, predictions_test, average='binary', beta=0.5)"
      ]
    },
    {
      "cell_type": "markdown",
      "metadata": {
        "deletable": true,
        "editable": true,
        "id": "V04MRbHQTzJV"
      },
      "source": [
        "---\n",
        "<a id='8'></a>\n",
        "## (8) Quadratic Discriminant Analysis"
      ]
    },
    {
      "cell_type": "code",
      "execution_count": null,
      "metadata": {
        "deletable": true,
        "editable": true,
        "id": "QOcwpO7iTzJW",
        "outputId": "b6b74032-4df2-4d89-9f83-de05feb704c3",
        "colab": {
          "base_uri": "https://localhost:8080/"
        }
      },
      "outputs": [
        {
          "output_type": "stream",
          "name": "stderr",
          "text": [
            "/usr/local/lib/python3.7/dist-packages/sklearn/discriminant_analysis.py:878: UserWarning: Variables are collinear\n",
            "  warnings.warn(\"Variables are collinear\")\n",
            "/usr/local/lib/python3.7/dist-packages/sklearn/discriminant_analysis.py:878: UserWarning: Variables are collinear\n",
            "  warnings.warn(\"Variables are collinear\")\n",
            "/usr/local/lib/python3.7/dist-packages/sklearn/discriminant_analysis.py:878: UserWarning: Variables are collinear\n",
            "  warnings.warn(\"Variables are collinear\")\n",
            "/usr/local/lib/python3.7/dist-packages/sklearn/discriminant_analysis.py:878: UserWarning: Variables are collinear\n",
            "  warnings.warn(\"Variables are collinear\")\n",
            "/usr/local/lib/python3.7/dist-packages/sklearn/discriminant_analysis.py:878: UserWarning: Variables are collinear\n",
            "  warnings.warn(\"Variables are collinear\")\n",
            "/usr/local/lib/python3.7/dist-packages/sklearn/discriminant_analysis.py:878: UserWarning: Variables are collinear\n",
            "  warnings.warn(\"Variables are collinear\")\n",
            "/usr/local/lib/python3.7/dist-packages/sklearn/discriminant_analysis.py:878: UserWarning: Variables are collinear\n",
            "  warnings.warn(\"Variables are collinear\")\n",
            "/usr/local/lib/python3.7/dist-packages/sklearn/discriminant_analysis.py:878: UserWarning: Variables are collinear\n",
            "  warnings.warn(\"Variables are collinear\")\n",
            "/usr/local/lib/python3.7/dist-packages/sklearn/discriminant_analysis.py:878: UserWarning: Variables are collinear\n",
            "  warnings.warn(\"Variables are collinear\")\n",
            "/usr/local/lib/python3.7/dist-packages/sklearn/discriminant_analysis.py:878: UserWarning: Variables are collinear\n",
            "  warnings.warn(\"Variables are collinear\")\n"
          ]
        },
        {
          "output_type": "execute_result",
          "data": {
            "text/plain": [
              "0.35964480874316934"
            ]
          },
          "metadata": {},
          "execution_count": 92
        }
      ],
      "source": [
        "from sklearn.discriminant_analysis import QuadraticDiscriminantAnalysis\n",
        "\n",
        "qda = QuadraticDiscriminantAnalysis()\n",
        "cv_scores = cross_val_score(qda, features_final, asd_classes, cv=10)\n",
        "cv_scores.mean()"
      ]
    },
    {
      "cell_type": "markdown",
      "metadata": {
        "deletable": true,
        "editable": true,
        "id": "KiNIvrAATzJW"
      },
      "source": [
        "AUC Score: AUC is the percentage of the ROC plot that is underneath the curve"
      ]
    },
    {
      "cell_type": "code",
      "execution_count": null,
      "metadata": {
        "deletable": true,
        "editable": true,
        "id": "s-zX3c-rTzJW",
        "outputId": "8012b459-7db7-4d03-e96a-2d1bdae3985b",
        "colab": {
          "base_uri": "https://localhost:8080/"
        }
      },
      "outputs": [
        {
          "output_type": "stream",
          "name": "stderr",
          "text": [
            "/usr/local/lib/python3.7/dist-packages/sklearn/discriminant_analysis.py:878: UserWarning: Variables are collinear\n",
            "  warnings.warn(\"Variables are collinear\")\n",
            "/usr/local/lib/python3.7/dist-packages/sklearn/discriminant_analysis.py:878: UserWarning: Variables are collinear\n",
            "  warnings.warn(\"Variables are collinear\")\n",
            "/usr/local/lib/python3.7/dist-packages/sklearn/discriminant_analysis.py:878: UserWarning: Variables are collinear\n",
            "  warnings.warn(\"Variables are collinear\")\n",
            "/usr/local/lib/python3.7/dist-packages/sklearn/discriminant_analysis.py:878: UserWarning: Variables are collinear\n",
            "  warnings.warn(\"Variables are collinear\")\n",
            "/usr/local/lib/python3.7/dist-packages/sklearn/discriminant_analysis.py:878: UserWarning: Variables are collinear\n",
            "  warnings.warn(\"Variables are collinear\")\n",
            "/usr/local/lib/python3.7/dist-packages/sklearn/discriminant_analysis.py:878: UserWarning: Variables are collinear\n",
            "  warnings.warn(\"Variables are collinear\")\n",
            "/usr/local/lib/python3.7/dist-packages/sklearn/discriminant_analysis.py:878: UserWarning: Variables are collinear\n",
            "  warnings.warn(\"Variables are collinear\")\n",
            "/usr/local/lib/python3.7/dist-packages/sklearn/discriminant_analysis.py:878: UserWarning: Variables are collinear\n",
            "  warnings.warn(\"Variables are collinear\")\n",
            "/usr/local/lib/python3.7/dist-packages/sklearn/discriminant_analysis.py:878: UserWarning: Variables are collinear\n",
            "  warnings.warn(\"Variables are collinear\")\n",
            "/usr/local/lib/python3.7/dist-packages/sklearn/discriminant_analysis.py:878: UserWarning: Variables are collinear\n",
            "  warnings.warn(\"Variables are collinear\")\n"
          ]
        },
        {
          "output_type": "execute_result",
          "data": {
            "text/plain": [
              "0.7971453180755507"
            ]
          },
          "metadata": {},
          "execution_count": 93
        }
      ],
      "source": [
        "# calculate cross-validated AUC\n",
        "from  sklearn.model_selection import cross_val_score\n",
        "cv_scores_roc = cross_val_score(qda, features_final, asd_classes, cv=10, scoring='roc_auc').mean()\n",
        "cv_scores_roc.mean()"
      ]
    },
    {
      "cell_type": "markdown",
      "metadata": {
        "deletable": true,
        "editable": true,
        "id": "CBYQUG4jTzJW"
      },
      "source": [
        "F-beta Score:"
      ]
    },
    {
      "cell_type": "code",
      "execution_count": null,
      "metadata": {
        "deletable": true,
        "editable": true,
        "id": "3hwsZo6TTzJW",
        "outputId": "70a561e3-ee7a-48d2-e693-d863e3fb887b",
        "colab": {
          "base_uri": "https://localhost:8080/"
        }
      },
      "outputs": [
        {
          "output_type": "stream",
          "name": "stderr",
          "text": [
            "/usr/local/lib/python3.7/dist-packages/sklearn/discriminant_analysis.py:878: UserWarning: Variables are collinear\n",
            "  warnings.warn(\"Variables are collinear\")\n"
          ]
        },
        {
          "output_type": "execute_result",
          "data": {
            "text/plain": [
              "0.42769857433808556"
            ]
          },
          "metadata": {},
          "execution_count": 94
        }
      ],
      "source": [
        "qda.fit(X_train, y_train)\n",
        "from sklearn.metrics import fbeta_score\n",
        "predictions_test = qda.predict(X_test)\n",
        "fbeta_score(y_test, predictions_test, average='binary', beta=0.5)"
      ]
    },
    {
      "cell_type": "markdown",
      "metadata": {
        "deletable": true,
        "editable": true,
        "id": "kWakn9lGTzJX"
      },
      "source": [
        "---\n",
        "<a id='step5'></a>\n",
        "\n",
        "## Step 5: Model Tuning\n",
        "\n",
        "Now I will fine tune the chosen model. For this I use grid search (GridSearchCV) with at least one important parameter tuned with at least 3 different values. I will need to use the entire training set for this. In the code cell below, I will need to implement the following:\n",
        "\n",
        "- Import [`sklearn.grid_search.GridSearchCV`](http://scikit-learn.org/0.17/modules/generated/sklearn.grid_search.GridSearchCV.html) and [`sklearn.metrics.make_scorer`](http://scikit-learn.org/stable/modules/generated/sklearn.metrics.make_scorer.html).\n",
        "- Initialize the classifier you've chosen and store it in `clf`.\n",
        " - Set a `random_state` if one is available to the same state you set before.\n",
        "- Create a dictionary of parameters you wish to tune for the chosen model.\n",
        " - Example: `parameters = {'parameter' : [list of values]}`.\n",
        " - **Note:** Avoid tuning the `max_features` parameter of your learner if that parameter is available!\n",
        "- Use `make_scorer` to create an `fbeta_score` scoring object (with $\\beta = 0.5$).\n",
        "- Perform grid search on the classifier `clf` using the `'scorer'`, and store it in `grid_obj`.\n",
        "- Fit the grid search object to the training data (`X_train`, `y_train`), and store it in `grid_fit`.\n",
        "\n",
        "\n",
        "\n",
        "Note that, svm.SVC may perform differently with different kernels. The choice of kernel is an example of a \"hyperparamter.\" Here I experiented with different kernels such as 'rbf', 'sigmoid', and 'poly' and found that the best-performing kernel is `linear`."
      ]
    },
    {
      "cell_type": "code",
      "execution_count": null,
      "metadata": {
        "deletable": true,
        "editable": true,
        "id": "vZSmb7VeTzJX",
        "outputId": "e62d1381-d6d1-45ff-e899-52f302c6123c",
        "colab": {
          "base_uri": "https://localhost:8080/"
        }
      },
      "outputs": [
        {
          "output_type": "stream",
          "name": "stdout",
          "text": [
            "Unoptimized model\n",
            "------\n",
            "Accuracy score on testing data: 0.9590\n",
            "F-score on testing data: 0.9361\n",
            "\n",
            "Optimized Model\n",
            "------\n",
            "Final accuracy score on the testing data: 1.0000\n",
            "Final F-score on the testing data: 1.0000\n"
          ]
        }
      ],
      "source": [
        "# TODO: Import 'GridSearchCV', 'make_scorer', and any other necessary libraries\n",
        "from sklearn.metrics import fbeta_score\n",
        "from sklearn.metrics import accuracy_score\n",
        "\n",
        "from sklearn.metrics import make_scorer\n",
        "from sklearn.svm import SVC\n",
        "from sklearn.model_selection import GridSearchCV\n",
        "\n",
        "def f_beta_score(y_true, y_predict):\n",
        "    return fbeta_score(y_true, y_predict, beta = 0.5)\n",
        "\n",
        "\n",
        "# TODO: Initialize the classifier\n",
        "clf = SVC(random_state = 1)\n",
        "\n",
        "# TODO: Create the parameters list you wish to tune, using a dictionary if needed.\n",
        "# HINT: parameters = {'parameter_1': [value1, value2], 'parameter_2': [value1, value2]}\n",
        "parameters = {'C':range(1,6),'kernel':['linear','poly','rbf','sigmoid'],'degree':range(1,6)}\n",
        "\n",
        "# TODO: Make an fbeta_score scoring object using make_scorer()\n",
        "scorer = make_scorer(f_beta_score)\n",
        "\n",
        "# TODO: Perform grid search on the classifier using 'scorer' as the scoring method using GridSearchCV()\n",
        "grid_obj = GridSearchCV(estimator = clf, param_grid = parameters, scoring = scorer)\n",
        "\n",
        "# TODO: Fit the grid search object to the training data and find the optimal parameters using fit()\n",
        "grid_fit = grid_obj.fit(X_train, y_train)\n",
        "\n",
        "# Get the estimator\n",
        "best_clf = grid_fit.best_estimator_\n",
        "\n",
        "# Make predictions using the unoptimized and model\n",
        "predictions = (clf.fit(X_train, y_train)).predict(X_test)\n",
        "best_predictions = best_clf.predict(X_test)\n",
        "\n",
        "# Report the before-and-afterscores\n",
        "print (\"Unoptimized model\\n------\")\n",
        "print (\"Accuracy score on testing data: {:.4f}\".format(accuracy_score(y_test, predictions)))\n",
        "print (\"F-score on testing data: {:.4f}\".format(fbeta_score(y_test, predictions, beta = 0.5)))\n",
        "print (\"\\nOptimized Model\\n------\")\n",
        "print (\"Final accuracy score on the testing data: {:.4f}\".format(accuracy_score(y_test, best_predictions)))\n",
        "print (\"Final F-score on the testing data: {:.4f}\".format(fbeta_score(y_test, best_predictions, beta = 0.5)))"
      ]
    },
    {
      "cell_type": "markdown",
      "metadata": {
        "deletable": true,
        "editable": true,
        "id": "QVj_My_TTzJX"
      },
      "source": [
        "In this `GridSearchCV` methos, we came up with the best result when the kernel was selected as `linear`."
      ]
    },
    {
      "cell_type": "markdown",
      "metadata": {
        "deletable": true,
        "editable": true,
        "id": "Zt1tari1TzJX"
      },
      "source": [
        "---\n",
        "<a id='step6'></a>\n",
        "## Step 6: Feature Importance\n",
        "\n",
        "An important task when performing supervised learning on a dataset like the autistic data we study here is determining which features provide the most predictive power. By focusing on the relationship between only a few crucial features and the target label we simplify our understanding of the phenomenon, which is most always a useful thing to do. In the case of this project, that means we wish to identify a small number of features that most strongly predict whether an individual has ASD or not.\n",
        "\n",
        "Choose a scikit-learn classifier (e.g., gradientBoosting, adaboost, random forests) that has a `feature_importance_` attribute, which is a function that ranks the importance of features according to the chosen classifier. In the next python cell fit this classifier to training set and use this attribute to determine the top 5 most important features for the ASD dataset."
      ]
    },
    {
      "cell_type": "markdown",
      "metadata": {
        "deletable": true,
        "editable": true,
        "id": "mUJtb7gbTzJX"
      },
      "source": [
        "###  Extracting Feature Importance\n",
        "Choose a `scikit-learn` supervised learning algorithm that has a `feature_importance_` attribute availble for it. This attribute is a function that ranks the importance of each feature when making predictions based on the chosen algorithm.\n",
        "\n",
        "In the code cell below, I will implement the following:\n",
        " - Import a supervised learning model from sklearn if it is different from the three used earlier.\n",
        " - Train the supervised model on the entire training set.\n",
        " - Extract the feature importances using `'.feature_importances_'`."
      ]
    },
    {
      "cell_type": "code",
      "execution_count": null,
      "metadata": {
        "deletable": true,
        "editable": true,
        "id": "cZKSRPv2TzJX",
        "outputId": "cddd4e5a-58d1-4675-83cd-353b6760b7ca",
        "colab": {
          "base_uri": "https://localhost:8080/"
        }
      },
      "outputs": [
        {
          "output_type": "stream",
          "name": "stdout",
          "text": [
            "[ 1.55473723e-15  1.00000000e+00  0.00000000e+00  0.00000000e+00\n",
            "  0.00000000e+00  0.00000000e+00  0.00000000e+00  0.00000000e+00\n",
            "  0.00000000e+00  2.74688746e-16  0.00000000e+00  1.06737418e-18\n",
            "  0.00000000e+00 -1.53701882e-17  0.00000000e+00  0.00000000e+00\n",
            "  0.00000000e+00  0.00000000e+00  0.00000000e+00  0.00000000e+00\n",
            "  0.00000000e+00  0.00000000e+00  0.00000000e+00  0.00000000e+00\n",
            "  0.00000000e+00  0.00000000e+00  9.88495231e-16  0.00000000e+00\n",
            "  0.00000000e+00  0.00000000e+00  0.00000000e+00  0.00000000e+00\n",
            "  0.00000000e+00  0.00000000e+00  0.00000000e+00  0.00000000e+00\n",
            "  0.00000000e+00  0.00000000e+00  0.00000000e+00  0.00000000e+00\n",
            "  0.00000000e+00  0.00000000e+00  0.00000000e+00  0.00000000e+00\n",
            "  0.00000000e+00  0.00000000e+00  0.00000000e+00  0.00000000e+00\n",
            "  0.00000000e+00  0.00000000e+00  0.00000000e+00  0.00000000e+00\n",
            "  0.00000000e+00  0.00000000e+00  0.00000000e+00  0.00000000e+00\n",
            "  0.00000000e+00  0.00000000e+00  0.00000000e+00  0.00000000e+00\n",
            "  0.00000000e+00  0.00000000e+00  0.00000000e+00  0.00000000e+00\n",
            "  0.00000000e+00  0.00000000e+00  0.00000000e+00  0.00000000e+00\n",
            "  0.00000000e+00  0.00000000e+00  0.00000000e+00  0.00000000e+00\n",
            "  0.00000000e+00  0.00000000e+00  0.00000000e+00  0.00000000e+00\n",
            "  0.00000000e+00  0.00000000e+00  0.00000000e+00  0.00000000e+00\n",
            "  0.00000000e+00  0.00000000e+00  0.00000000e+00  0.00000000e+00\n",
            "  0.00000000e+00  0.00000000e+00  0.00000000e+00  0.00000000e+00\n",
            "  0.00000000e+00  0.00000000e+00  0.00000000e+00  0.00000000e+00\n",
            "  0.00000000e+00  0.00000000e+00]\n"
          ]
        },
        {
          "output_type": "display_data",
          "data": {
            "text/plain": [
              "<Figure size 432x288 with 1 Axes>"
            ],
            "image/png": "[encoded data removed]"
          },
          "metadata": {}
        }
      ],
      "source": [
        "# TODO: Import a supervised learning model that has 'feature_importances_'\n",
        "from sklearn.ensemble import GradientBoostingClassifier\n",
        "\n",
        "\n",
        "# TODO: Train the supervised model on the training set using .fit(X_train, y_train)\n",
        "model = GradientBoostingClassifier(random_state=0)\n",
        "model.fit(X_train, y_train)\n",
        "\n",
        "# TODO: Extract the feature importances using .feature_importances_ \n",
        "importances = model.feature_importances_\n",
        "print(importances)\n",
        "# Plot\n",
        "plt.bar(range(len(model.feature_importances_)), model.feature_importances_)\n",
        "plt.show()"
      ]
    },
    {
      "cell_type": "code",
      "execution_count": null,
      "metadata": {
        "deletable": true,
        "editable": true,
        "id": "I1nL3dMYTzJY",
        "outputId": "d52119b0-000f-4551-daf9-cdb20af718a4",
        "colab": {
          "base_uri": "https://localhost:8080/"
        }
      },
      "outputs": [
        {
          "output_type": "stream",
          "name": "stdout",
          "text": [
            "[0. 1. 0. 0. 0. 0. 0. 0. 0. 0. 0. 0. 0. 0. 0. 0. 0. 0. 0. 0. 0. 0. 0. 0.\n",
            " 0. 0. 0. 0. 0. 0. 0. 0. 0. 0. 0. 0. 0. 0. 0. 0. 0. 0. 0. 0. 0. 0. 0. 0.\n",
            " 0. 0. 0. 0. 0. 0. 0. 0. 0. 0. 0. 0. 0. 0. 0. 0. 0. 0. 0. 0. 0. 0. 0. 0.\n",
            " 0. 0. 0. 0. 0. 0. 0. 0. 0. 0. 0. 0. 0. 0. 0. 0. 0. 0. 0. 0. 0. 0.]\n"
          ]
        }
      ],
      "source": [
        "# TODO: Import a supervised learning model that has 'feature_importances_'\n",
        "from sklearn.ensemble import AdaBoostClassifier\n",
        "\n",
        "\n",
        "# TODO: Train the supervised model on the training set using .fit(X_train, y_train)\n",
        "model = AdaBoostClassifier(random_state=0)\n",
        "model.fit(X_train, y_train)\n",
        "\n",
        "# TODO: Extract the feature importances using .feature_importances_ \n",
        "importances = model.feature_importances_\n",
        "print(importances)\n",
        "# Plot\n"
      ]
    },
    {
      "cell_type": "code",
      "source": [
        ""
      ],
      "metadata": {
        "id": "iF1-2chuexzh"
      },
      "execution_count": null,
      "outputs": []
    },
    {
      "cell_type": "markdown",
      "metadata": {
        "deletable": true,
        "editable": true,
        "id": "tJ8k2cBnTzJY"
      },
      "source": [
        "### Feature Selection\n",
        "We need to ask ourselves how does a model perform if we only use a subset of all the available features in the data? With less features required to train, the expectation is that training and prediction time is much lower — at the cost of performance metrics. From the visualization above, we see that the top five most important features(in order with their weightage factor) contribute more than half of the importance of **all** features present in the data. These 5 features are:\n",
        "- '`result`'\n",
        "- '`relation_self`'\n",
        "- '`country_of_residence`'\n",
        "- '`jundice_no`'\n",
        "- '`jundice_yes`'\n",
        "\n",
        "This hints that we can attempt to *reduce the feature space* and simplify the information required for the model to learn. Although looking at those weight factor it seems like '`result`' feature is clearly dominating its influence on the algorithms over all other features."
      ]
    },
    {
      "cell_type": "markdown",
      "metadata": {
        "deletable": true,
        "editable": true,
        "id": "BVviMIOVTzJY"
      },
      "source": [
        "---\n",
        "<a id='step7'></a>\n",
        "\n",
        "## Step 7: Building a MLP  model architecture\n",
        "In this last part I build a model here using sequential model architecture best known as *Multi Layer Perceptron (MLP)*."
      ]
    },
    {
      "cell_type": "code",
      "execution_count": null,
      "metadata": {
        "deletable": true,
        "editable": true,
        "id": "7wWhdHOfTzJY"
      },
      "outputs": [],
      "source": [
        "# Imports\n",
        "import numpy as np\n",
        "import keras\n",
        "from keras.models import Sequential\n",
        "from keras.layers import Dense, Dropout, Activation\n",
        "\n",
        "\n",
        "np.random.seed(42)"
      ]
    },
    {
      "cell_type": "code",
      "execution_count": null,
      "metadata": {
        "deletable": true,
        "editable": true,
        "id": "dUep2QJZTzJZ",
        "outputId": "64ad292e-3484-4fae-957d-cca5a042bc06",
        "colab": {
          "base_uri": "https://localhost:8080/"
        }
      },
      "outputs": [
        {
          "output_type": "stream",
          "name": "stdout",
          "text": [
            "Model: \"sequential\"\n",
            "_________________________________________________________________\n",
            " Layer (type)                Output Shape              Param #   \n",
            "=================================================================\n",
            " dense (Dense)               (None, 8)                 760       \n",
            "                                                                 \n",
            " dropout (Dropout)           (None, 8)                 0         \n",
            "                                                                 \n",
            " dense_1 (Dense)             (None, 1)                 9         \n",
            "                                                                 \n",
            "=================================================================\n",
            "Total params: 769\n",
            "Trainable params: 769\n",
            "Non-trainable params: 0\n",
            "_________________________________________________________________\n"
          ]
        }
      ],
      "source": [
        "# Building the model architecture with one layer of length 4\n",
        "\n",
        "\n",
        "model = Sequential()\n",
        "model.add(Dense(8, activation='relu', input_dim= 94))\n",
        "model.add(Dropout(0.2))\n",
        "model.add(Dense(1, kernel_initializer='normal', activation='sigmoid'))\n",
        "   \n",
        "    \n",
        "model.summary()"
      ]
    },
    {
      "cell_type": "code",
      "execution_count": null,
      "metadata": {
        "collapsed": true,
        "deletable": true,
        "editable": true,
        "id": "5BpW8YojTzJZ"
      },
      "outputs": [],
      "source": [
        "# Compiling the model using categorical_crossentropy loss, and rmsprop optimizer.\n",
        "model.compile(loss='binary_crossentropy',\n",
        "              optimizer='rmsprop',\n",
        "              metrics=['accuracy'])"
      ]
    },
    {
      "cell_type": "code",
      "execution_count": null,
      "metadata": {
        "deletable": true,
        "editable": true,
        "id": "9HLXX7ugTzJZ",
        "outputId": "efdc9f51-29d8-435f-8b94-9a17a4a6913e",
        "colab": {
          "base_uri": "https://localhost:8080/"
        }
      },
      "outputs": [
        {
          "output_type": "stream",
          "name": "stdout",
          "text": [
            "Epoch 1/100\n",
            "31/31 - 1s - loss: 0.6801 - accuracy: 0.6982 - val_loss: 0.6794 - val_accuracy: 0.6475 - 1s/epoch - 42ms/step\n",
            "Epoch 2/100\n",
            "31/31 - 0s - loss: 0.6559 - accuracy: 0.7228 - val_loss: 0.6636 - val_accuracy: 0.6475 - 106ms/epoch - 3ms/step\n",
            "Epoch 3/100\n",
            "31/31 - 0s - loss: 0.6266 - accuracy: 0.7187 - val_loss: 0.6439 - val_accuracy: 0.6475 - 113ms/epoch - 4ms/step\n",
            "Epoch 4/100\n",
            "31/31 - 0s - loss: 0.6051 - accuracy: 0.7290 - val_loss: 0.6236 - val_accuracy: 0.6475 - 94ms/epoch - 3ms/step\n",
            "Epoch 5/100\n",
            "31/31 - 0s - loss: 0.5753 - accuracy: 0.7331 - val_loss: 0.5978 - val_accuracy: 0.6475 - 90ms/epoch - 3ms/step\n",
            "Epoch 6/100\n",
            "31/31 - 0s - loss: 0.5465 - accuracy: 0.7372 - val_loss: 0.5710 - val_accuracy: 0.6557 - 112ms/epoch - 4ms/step\n",
            "Epoch 7/100\n",
            "31/31 - 0s - loss: 0.5193 - accuracy: 0.7433 - val_loss: 0.5414 - val_accuracy: 0.6721 - 83ms/epoch - 3ms/step\n",
            "Epoch 8/100\n",
            "31/31 - 0s - loss: 0.4855 - accuracy: 0.7782 - val_loss: 0.5108 - val_accuracy: 0.6967 - 81ms/epoch - 3ms/step\n",
            "Epoch 9/100\n",
            "31/31 - 0s - loss: 0.4577 - accuracy: 0.7864 - val_loss: 0.4732 - val_accuracy: 0.7541 - 83ms/epoch - 3ms/step\n",
            "Epoch 10/100\n",
            "31/31 - 0s - loss: 0.4163 - accuracy: 0.8357 - val_loss: 0.4414 - val_accuracy: 0.7787 - 121ms/epoch - 4ms/step\n",
            "Epoch 11/100\n",
            "31/31 - 0s - loss: 0.3994 - accuracy: 0.8480 - val_loss: 0.4142 - val_accuracy: 0.8033 - 101ms/epoch - 3ms/step\n",
            "Epoch 12/100\n",
            "31/31 - 0s - loss: 0.3780 - accuracy: 0.8480 - val_loss: 0.3847 - val_accuracy: 0.8361 - 141ms/epoch - 5ms/step\n",
            "Epoch 13/100\n",
            "31/31 - 0s - loss: 0.3643 - accuracy: 0.8542 - val_loss: 0.3571 - val_accuracy: 0.8525 - 94ms/epoch - 3ms/step\n",
            "Epoch 14/100\n",
            "31/31 - 0s - loss: 0.3397 - accuracy: 0.8706 - val_loss: 0.3364 - val_accuracy: 0.8770 - 98ms/epoch - 3ms/step\n",
            "Epoch 15/100\n",
            "31/31 - 0s - loss: 0.3234 - accuracy: 0.8871 - val_loss: 0.3220 - val_accuracy: 0.8607 - 103ms/epoch - 3ms/step\n",
            "Epoch 16/100\n",
            "31/31 - 0s - loss: 0.2953 - accuracy: 0.8809 - val_loss: 0.3014 - val_accuracy: 0.8770 - 91ms/epoch - 3ms/step\n",
            "Epoch 17/100\n",
            "31/31 - 0s - loss: 0.2882 - accuracy: 0.8850 - val_loss: 0.2783 - val_accuracy: 0.9016 - 105ms/epoch - 3ms/step\n",
            "Epoch 18/100\n",
            "31/31 - 0s - loss: 0.2663 - accuracy: 0.8973 - val_loss: 0.2618 - val_accuracy: 0.9098 - 96ms/epoch - 3ms/step\n",
            "Epoch 19/100\n",
            "31/31 - 0s - loss: 0.2513 - accuracy: 0.8912 - val_loss: 0.2464 - val_accuracy: 0.9262 - 98ms/epoch - 3ms/step\n",
            "Epoch 20/100\n",
            "31/31 - 0s - loss: 0.2503 - accuracy: 0.8912 - val_loss: 0.2357 - val_accuracy: 0.9262 - 102ms/epoch - 3ms/step\n",
            "Epoch 21/100\n",
            "31/31 - 0s - loss: 0.2459 - accuracy: 0.8953 - val_loss: 0.2251 - val_accuracy: 0.9262 - 89ms/epoch - 3ms/step\n",
            "Epoch 22/100\n",
            "31/31 - 0s - loss: 0.2368 - accuracy: 0.8850 - val_loss: 0.2168 - val_accuracy: 0.9262 - 115ms/epoch - 4ms/step\n",
            "Epoch 23/100\n",
            "31/31 - 0s - loss: 0.2155 - accuracy: 0.9014 - val_loss: 0.2069 - val_accuracy: 0.9262 - 100ms/epoch - 3ms/step\n",
            "Epoch 24/100\n",
            "31/31 - 0s - loss: 0.2120 - accuracy: 0.9014 - val_loss: 0.1962 - val_accuracy: 0.9426 - 84ms/epoch - 3ms/step\n",
            "Epoch 25/100\n",
            "31/31 - 0s - loss: 0.2108 - accuracy: 0.9035 - val_loss: 0.1898 - val_accuracy: 0.9426 - 109ms/epoch - 4ms/step\n",
            "Epoch 26/100\n",
            "31/31 - 0s - loss: 0.2120 - accuracy: 0.8809 - val_loss: 0.1831 - val_accuracy: 0.9426 - 109ms/epoch - 4ms/step\n",
            "Epoch 27/100\n",
            "31/31 - 0s - loss: 0.2041 - accuracy: 0.8850 - val_loss: 0.1784 - val_accuracy: 0.9426 - 114ms/epoch - 4ms/step\n",
            "Epoch 28/100\n",
            "31/31 - 0s - loss: 0.1926 - accuracy: 0.8891 - val_loss: 0.1735 - val_accuracy: 0.9426 - 94ms/epoch - 3ms/step\n",
            "Epoch 29/100\n",
            "31/31 - 0s - loss: 0.1768 - accuracy: 0.9220 - val_loss: 0.1667 - val_accuracy: 0.9426 - 108ms/epoch - 3ms/step\n",
            "Epoch 30/100\n",
            "31/31 - 0s - loss: 0.1815 - accuracy: 0.9055 - val_loss: 0.1626 - val_accuracy: 0.9508 - 88ms/epoch - 3ms/step\n",
            "Epoch 31/100\n",
            "31/31 - 0s - loss: 0.1763 - accuracy: 0.8973 - val_loss: 0.1585 - val_accuracy: 0.9508 - 94ms/epoch - 3ms/step\n",
            "Epoch 32/100\n",
            "31/31 - 0s - loss: 0.1933 - accuracy: 0.8891 - val_loss: 0.1555 - val_accuracy: 0.9508 - 87ms/epoch - 3ms/step\n",
            "Epoch 33/100\n",
            "31/31 - 0s - loss: 0.1631 - accuracy: 0.9138 - val_loss: 0.1506 - val_accuracy: 0.9508 - 83ms/epoch - 3ms/step\n",
            "Epoch 34/100\n",
            "31/31 - 0s - loss: 0.1687 - accuracy: 0.8973 - val_loss: 0.1465 - val_accuracy: 0.9508 - 91ms/epoch - 3ms/step\n",
            "Epoch 35/100\n",
            "31/31 - 0s - loss: 0.1536 - accuracy: 0.9199 - val_loss: 0.1422 - val_accuracy: 0.9508 - 77ms/epoch - 2ms/step\n",
            "Epoch 36/100\n",
            "31/31 - 0s - loss: 0.1579 - accuracy: 0.9117 - val_loss: 0.1399 - val_accuracy: 0.9508 - 84ms/epoch - 3ms/step\n",
            "Epoch 37/100\n",
            "31/31 - 0s - loss: 0.1493 - accuracy: 0.9220 - val_loss: 0.1362 - val_accuracy: 0.9672 - 72ms/epoch - 2ms/step\n",
            "Epoch 38/100\n",
            "31/31 - 0s - loss: 0.1556 - accuracy: 0.9097 - val_loss: 0.1333 - val_accuracy: 0.9672 - 106ms/epoch - 3ms/step\n",
            "Epoch 39/100\n",
            "31/31 - 0s - loss: 0.1554 - accuracy: 0.9117 - val_loss: 0.1311 - val_accuracy: 0.9590 - 81ms/epoch - 3ms/step\n",
            "Epoch 40/100\n",
            "31/31 - 0s - loss: 0.1538 - accuracy: 0.9281 - val_loss: 0.1292 - val_accuracy: 0.9672 - 84ms/epoch - 3ms/step\n",
            "Epoch 41/100\n",
            "31/31 - 0s - loss: 0.1384 - accuracy: 0.9322 - val_loss: 0.1267 - val_accuracy: 0.9590 - 94ms/epoch - 3ms/step\n",
            "Epoch 42/100\n",
            "31/31 - 0s - loss: 0.1288 - accuracy: 0.9569 - val_loss: 0.1225 - val_accuracy: 0.9672 - 74ms/epoch - 2ms/step\n",
            "Epoch 43/100\n",
            "31/31 - 0s - loss: 0.1203 - accuracy: 0.9589 - val_loss: 0.1198 - val_accuracy: 0.9672 - 81ms/epoch - 3ms/step\n",
            "Epoch 44/100\n",
            "31/31 - 0s - loss: 0.1371 - accuracy: 0.9466 - val_loss: 0.1175 - val_accuracy: 0.9590 - 85ms/epoch - 3ms/step\n",
            "Epoch 45/100\n",
            "31/31 - 0s - loss: 0.1282 - accuracy: 0.9446 - val_loss: 0.1148 - val_accuracy: 0.9590 - 73ms/epoch - 2ms/step\n",
            "Epoch 46/100\n",
            "31/31 - 0s - loss: 0.1261 - accuracy: 0.9528 - val_loss: 0.1121 - val_accuracy: 0.9672 - 78ms/epoch - 3ms/step\n",
            "Epoch 47/100\n",
            "31/31 - 0s - loss: 0.1030 - accuracy: 0.9713 - val_loss: 0.1099 - val_accuracy: 0.9672 - 79ms/epoch - 3ms/step\n",
            "Epoch 48/100\n",
            "31/31 - 0s - loss: 0.1214 - accuracy: 0.9548 - val_loss: 0.1077 - val_accuracy: 0.9672 - 72ms/epoch - 2ms/step\n",
            "Epoch 49/100\n",
            "31/31 - 0s - loss: 0.1035 - accuracy: 0.9713 - val_loss: 0.1044 - val_accuracy: 0.9672 - 86ms/epoch - 3ms/step\n",
            "Epoch 50/100\n",
            "31/31 - 0s - loss: 0.1050 - accuracy: 0.9630 - val_loss: 0.1024 - val_accuracy: 0.9672 - 71ms/epoch - 2ms/step\n",
            "Epoch 51/100\n",
            "31/31 - 0s - loss: 0.1044 - accuracy: 0.9671 - val_loss: 0.1009 - val_accuracy: 0.9672 - 82ms/epoch - 3ms/step\n",
            "Epoch 52/100\n",
            "31/31 - 0s - loss: 0.1025 - accuracy: 0.9651 - val_loss: 0.0989 - val_accuracy: 0.9672 - 92ms/epoch - 3ms/step\n",
            "Epoch 53/100\n",
            "31/31 - 0s - loss: 0.0871 - accuracy: 0.9836 - val_loss: 0.0968 - val_accuracy: 0.9672 - 73ms/epoch - 2ms/step\n",
            "Epoch 54/100\n",
            "31/31 - 0s - loss: 0.0922 - accuracy: 0.9795 - val_loss: 0.0940 - val_accuracy: 0.9672 - 74ms/epoch - 2ms/step\n",
            "Epoch 55/100\n",
            "31/31 - 0s - loss: 0.0911 - accuracy: 0.9733 - val_loss: 0.0940 - val_accuracy: 0.9590 - 81ms/epoch - 3ms/step\n",
            "Epoch 56/100\n",
            "31/31 - 0s - loss: 0.1000 - accuracy: 0.9651 - val_loss: 0.0949 - val_accuracy: 0.9590 - 76ms/epoch - 2ms/step\n",
            "Epoch 57/100\n",
            "31/31 - 0s - loss: 0.0850 - accuracy: 0.9733 - val_loss: 0.0905 - val_accuracy: 0.9754 - 77ms/epoch - 2ms/step\n",
            "Epoch 58/100\n",
            "31/31 - 0s - loss: 0.0982 - accuracy: 0.9651 - val_loss: 0.0894 - val_accuracy: 0.9672 - 73ms/epoch - 2ms/step\n",
            "Epoch 59/100\n",
            "31/31 - 0s - loss: 0.0921 - accuracy: 0.9692 - val_loss: 0.0902 - val_accuracy: 0.9672 - 90ms/epoch - 3ms/step\n",
            "Epoch 60/100\n",
            "31/31 - 0s - loss: 0.0814 - accuracy: 0.9754 - val_loss: 0.0889 - val_accuracy: 0.9672 - 94ms/epoch - 3ms/step\n",
            "Epoch 61/100\n",
            "31/31 - 0s - loss: 0.0859 - accuracy: 0.9692 - val_loss: 0.0894 - val_accuracy: 0.9672 - 88ms/epoch - 3ms/step\n",
            "Epoch 62/100\n",
            "31/31 - 0s - loss: 0.0870 - accuracy: 0.9651 - val_loss: 0.0901 - val_accuracy: 0.9590 - 82ms/epoch - 3ms/step\n",
            "Epoch 63/100\n",
            "31/31 - 0s - loss: 0.0831 - accuracy: 0.9692 - val_loss: 0.0859 - val_accuracy: 0.9754 - 93ms/epoch - 3ms/step\n",
            "Epoch 64/100\n",
            "31/31 - 0s - loss: 0.0724 - accuracy: 0.9877 - val_loss: 0.0844 - val_accuracy: 0.9754 - 119ms/epoch - 4ms/step\n",
            "Epoch 65/100\n",
            "31/31 - 0s - loss: 0.0721 - accuracy: 0.9795 - val_loss: 0.0834 - val_accuracy: 0.9672 - 97ms/epoch - 3ms/step\n",
            "Epoch 66/100\n",
            "31/31 - 0s - loss: 0.0679 - accuracy: 0.9836 - val_loss: 0.0797 - val_accuracy: 0.9754 - 89ms/epoch - 3ms/step\n",
            "Epoch 67/100\n",
            "31/31 - 0s - loss: 0.0727 - accuracy: 0.9795 - val_loss: 0.0810 - val_accuracy: 0.9754 - 90ms/epoch - 3ms/step\n",
            "Epoch 68/100\n",
            "31/31 - 0s - loss: 0.0627 - accuracy: 0.9877 - val_loss: 0.0778 - val_accuracy: 0.9754 - 91ms/epoch - 3ms/step\n",
            "Epoch 69/100\n",
            "31/31 - 0s - loss: 0.0734 - accuracy: 0.9713 - val_loss: 0.0777 - val_accuracy: 0.9754 - 101ms/epoch - 3ms/step\n",
            "Epoch 70/100\n",
            "31/31 - 0s - loss: 0.0668 - accuracy: 0.9856 - val_loss: 0.0754 - val_accuracy: 0.9754 - 103ms/epoch - 3ms/step\n",
            "Epoch 71/100\n",
            "31/31 - 0s - loss: 0.0731 - accuracy: 0.9754 - val_loss: 0.0758 - val_accuracy: 0.9754 - 88ms/epoch - 3ms/step\n",
            "Epoch 72/100\n",
            "31/31 - 0s - loss: 0.0612 - accuracy: 0.9795 - val_loss: 0.0766 - val_accuracy: 0.9754 - 121ms/epoch - 4ms/step\n",
            "Epoch 73/100\n",
            "31/31 - 0s - loss: 0.0716 - accuracy: 0.9754 - val_loss: 0.0747 - val_accuracy: 0.9754 - 88ms/epoch - 3ms/step\n",
            "Epoch 74/100\n",
            "31/31 - 0s - loss: 0.0661 - accuracy: 0.9877 - val_loss: 0.0758 - val_accuracy: 0.9836 - 89ms/epoch - 3ms/step\n",
            "Epoch 75/100\n",
            "31/31 - 0s - loss: 0.0608 - accuracy: 0.9877 - val_loss: 0.0772 - val_accuracy: 0.9672 - 99ms/epoch - 3ms/step\n",
            "Epoch 76/100\n",
            "31/31 - 0s - loss: 0.0681 - accuracy: 0.9836 - val_loss: 0.0776 - val_accuracy: 0.9754 - 107ms/epoch - 3ms/step\n",
            "Epoch 77/100\n",
            "31/31 - 0s - loss: 0.0617 - accuracy: 0.9856 - val_loss: 0.0706 - val_accuracy: 0.9754 - 95ms/epoch - 3ms/step\n",
            "Epoch 78/100\n",
            "31/31 - 0s - loss: 0.0612 - accuracy: 0.9836 - val_loss: 0.0723 - val_accuracy: 0.9754 - 90ms/epoch - 3ms/step\n",
            "Epoch 79/100\n",
            "31/31 - 0s - loss: 0.0585 - accuracy: 0.9877 - val_loss: 0.0722 - val_accuracy: 0.9754 - 95ms/epoch - 3ms/step\n",
            "Epoch 80/100\n",
            "31/31 - 0s - loss: 0.0577 - accuracy: 0.9918 - val_loss: 0.0693 - val_accuracy: 0.9754 - 81ms/epoch - 3ms/step\n",
            "Epoch 81/100\n",
            "31/31 - 0s - loss: 0.0537 - accuracy: 0.9877 - val_loss: 0.0680 - val_accuracy: 0.9754 - 87ms/epoch - 3ms/step\n",
            "Epoch 82/100\n",
            "31/31 - 0s - loss: 0.0542 - accuracy: 0.9836 - val_loss: 0.0762 - val_accuracy: 0.9754 - 83ms/epoch - 3ms/step\n",
            "Epoch 83/100\n",
            "31/31 - 0s - loss: 0.0645 - accuracy: 0.9897 - val_loss: 0.0735 - val_accuracy: 0.9754 - 79ms/epoch - 3ms/step\n",
            "Epoch 84/100\n",
            "31/31 - 0s - loss: 0.0545 - accuracy: 0.9897 - val_loss: 0.0683 - val_accuracy: 0.9754 - 92ms/epoch - 3ms/step\n",
            "Epoch 85/100\n",
            "31/31 - 0s - loss: 0.0607 - accuracy: 0.9836 - val_loss: 0.0680 - val_accuracy: 0.9754 - 78ms/epoch - 3ms/step\n",
            "Epoch 86/100\n",
            "31/31 - 0s - loss: 0.0506 - accuracy: 0.9836 - val_loss: 0.0662 - val_accuracy: 0.9754 - 84ms/epoch - 3ms/step\n",
            "Epoch 87/100\n",
            "31/31 - 0s - loss: 0.0557 - accuracy: 0.9877 - val_loss: 0.0623 - val_accuracy: 0.9754 - 100ms/epoch - 3ms/step\n",
            "Epoch 88/100\n",
            "31/31 - 0s - loss: 0.0546 - accuracy: 0.9856 - val_loss: 0.0632 - val_accuracy: 0.9754 - 91ms/epoch - 3ms/step\n",
            "Epoch 89/100\n",
            "31/31 - 0s - loss: 0.0517 - accuracy: 0.9856 - val_loss: 0.0663 - val_accuracy: 0.9754 - 83ms/epoch - 3ms/step\n",
            "Epoch 90/100\n",
            "31/31 - 0s - loss: 0.0430 - accuracy: 0.9877 - val_loss: 0.0615 - val_accuracy: 0.9754 - 82ms/epoch - 3ms/step\n",
            "Epoch 91/100\n",
            "31/31 - 0s - loss: 0.0512 - accuracy: 0.9918 - val_loss: 0.0589 - val_accuracy: 0.9754 - 83ms/epoch - 3ms/step\n",
            "Epoch 92/100\n",
            "31/31 - 0s - loss: 0.0494 - accuracy: 0.9815 - val_loss: 0.0598 - val_accuracy: 0.9754 - 78ms/epoch - 3ms/step\n",
            "Epoch 93/100\n",
            "31/31 - 0s - loss: 0.0471 - accuracy: 0.9877 - val_loss: 0.0567 - val_accuracy: 0.9754 - 83ms/epoch - 3ms/step\n",
            "Epoch 94/100\n",
            "31/31 - 0s - loss: 0.0490 - accuracy: 0.9897 - val_loss: 0.0610 - val_accuracy: 0.9754 - 83ms/epoch - 3ms/step\n",
            "Epoch 95/100\n",
            "31/31 - 0s - loss: 0.0367 - accuracy: 0.9938 - val_loss: 0.0606 - val_accuracy: 0.9754 - 76ms/epoch - 2ms/step\n",
            "Epoch 96/100\n",
            "31/31 - 0s - loss: 0.0522 - accuracy: 0.9836 - val_loss: 0.0577 - val_accuracy: 0.9754 - 83ms/epoch - 3ms/step\n",
            "Epoch 97/100\n",
            "31/31 - 0s - loss: 0.0412 - accuracy: 0.9897 - val_loss: 0.0626 - val_accuracy: 0.9836 - 92ms/epoch - 3ms/step\n",
            "Epoch 98/100\n",
            "31/31 - 0s - loss: 0.0419 - accuracy: 0.9877 - val_loss: 0.0601 - val_accuracy: 0.9754 - 90ms/epoch - 3ms/step\n",
            "Epoch 99/100\n",
            "31/31 - 0s - loss: 0.0386 - accuracy: 0.9877 - val_loss: 0.0628 - val_accuracy: 0.9836 - 80ms/epoch - 3ms/step\n",
            "Epoch 100/100\n",
            "31/31 - 0s - loss: 0.0390 - accuracy: 0.9897 - val_loss: 0.0596 - val_accuracy: 0.9754 - 94ms/epoch - 3ms/step\n"
          ]
        }
      ],
      "source": [
        "# Running and evaluating the model\n",
        "hist = model.fit(X_train, y_train,\n",
        "          batch_size=16,\n",
        "          epochs=100,\n",
        "          validation_data=(X_test, y_test), \n",
        "          verbose=2)"
      ]
    },
    {
      "cell_type": "markdown",
      "metadata": {
        "deletable": true,
        "editable": true,
        "id": "T2WTfIE4TzJZ"
      },
      "source": [
        "### Evaluating the model\n",
        "This will give you the accuracy of the model. "
      ]
    },
    {
      "cell_type": "code",
      "execution_count": null,
      "metadata": {
        "deletable": true,
        "editable": true,
        "id": "EHGuh_laTzJZ",
        "outputId": "845334ed-3118-4308-ae7d-9be66671e73f",
        "colab": {
          "base_uri": "https://localhost:8080/"
        }
      },
      "outputs": [
        {
          "output_type": "stream",
          "name": "stdout",
          "text": [
            "16/16 [==============================] - 0s 2ms/step - loss: 0.0230 - accuracy: 0.9979\n",
            "\n",
            " Training Accuracy: 0.9979466199874878\n",
            "\n",
            " Testing accuracy:  0.9754098653793335\n"
          ]
        }
      ],
      "source": [
        "# Evaluating the model on the training and testing set\n",
        "score = model.evaluate(X_train, y_train)\n",
        "print(\"\\n Training Accuracy:\", score[1])\n",
        "\n",
        "score = model.evaluate(X_test, y_test, verbose=0)\n",
        "print(\"\\n Testing accuracy: \", score[1])"
      ]
    },
    {
      "cell_type": "markdown",
      "metadata": {
        "deletable": true,
        "editable": true,
        "id": "3tHYZHmQTzJZ"
      },
      "source": [
        "### Free-Flow Visualization:\n",
        "\n",
        "As with \"Feature Selection\" exploration, we have seen the attribute named 'result' has a such a powerful presence in the ASD dataset, all other attributes have little to no contribution in deciding the final class. In the Figure  below, I have drawn a scatterplot with 'result' as x-axis and ASD-class (say 'yes' is 1 and 'no' is 0) as y-axis, and reconfirmed that underlying association between the given variables."
      ]
    },
    {
      "cell_type": "code",
      "execution_count": null,
      "metadata": {
        "deletable": true,
        "editable": true,
        "id": "GZYcPpV6TzJZ"
      },
      "outputs": [],
      "source": [
        "asd_data['Class/ASD'] = asd_raw.apply(lambda x: 1 if x == 'YES' else 0)\n",
        "asd_data['result'] = asd_data['result'].apply(lambda x: (np.log(x + 1)))\n",
        "asd_data = pd.DataFrame(data = asd_data)\n",
        "#asd_data['result'] = scaler.fit_transform(asd_data['result'])"
      ]
    },
    {
      "cell_type": "code",
      "execution_count": null,
      "metadata": {
        "deletable": true,
        "editable": true,
        "id": "KikKr2pBTzJa"
      },
      "outputs": [],
      "source": [
        "#ax = sns.regplot(x= 'result', y='Class/ASD', data = asd_data, fit_reg=False)"
      ]
    },
    {
      "cell_type": "code",
      "execution_count": null,
      "metadata": {
        "deletable": true,
        "editable": true,
        "id": "RY2YXP0cTzJa",
        "outputId": "e04c8e76-c2aa-430d-a5c3-bd33dac4bea8",
        "colab": {
          "base_uri": "https://localhost:8080/",
          "height": 285
        }
      },
      "outputs": [
        {
          "output_type": "display_data",
          "data": {
            "image/png": "[encoded data removed]",
            "text/plain": [
              "<Figure size 432x288 with 1 Axes>"
            ]
          },
          "metadata": {}
        }
      ],
      "source": [
        "sns.stripplot(x=\"result\", y=\"Class/ASD\", data = asd_data, jitter=True);\n"
      ]
    },
    {
      "cell_type": "code",
      "execution_count": null,
      "metadata": {
        "deletable": true,
        "editable": true,
        "id": "vj5YHNwHTzJa"
      },
      "outputs": [],
      "source": [
        "#sns.swarmplot(x=\"result\", y=\"Class/ASD\", data=asd_data, palette={'YES': \"r\", 'NO': \"b\"});"
      ]
    },
    {
      "cell_type": "markdown",
      "metadata": {
        "deletable": true,
        "editable": true,
        "id": "oOpkvaTnTzJa"
      },
      "source": [
        "---\n",
        "<a id='step8'></a>\n",
        "\n",
        "## Step 8: Conclusion\n",
        "\n",
        "\n",
        "After exploring my `ASD` dataset with different kind of learning algorithms, I have arrived into this conclusion that all of my model work extremely well with the data. I have used three different `metric` (such as `accuracy`, `AUC score` and `F-score`) to measure the performance of my models, and it seems like all of the `metric` indicated an almost perfect classification of the ASD cases. Here I think the reason of this high performances with different models is the fact that only one of the feature is predominant over all others which I confirmed with the [`Feature Importance`](#step6) section in this notebook. \n",
        "\n",
        "I think to build a more accurate model, we need to have access to more larger datasets. Here the number of instances after cleaning the data were not so sufficient enough so that I can claim that this model is optimum. As this dataset is only publicly available from Decemeber 2017, I think not many works that deal with this dataset is available online. In that consideration, my models can serve as benchmark models for any machine learning researcher/practitioner who will be interested to explore this dataset further. With this fact in mind, I think this are very well developed model that can detect ASD in indivisuals with certain given attributes."
      ]
    }
  ],
  "metadata": {
    "kernelspec": {
      "display_name": "Python 3",
      "name": "python3"
    },
    "language_info": {
      "name": "python"
    },
    "colab": {
      "name": "capstone-checkpoint.ipynb",
      "provenance": []
    },
    "accelerator": "GPU"
  },
  "nbformat": 4,
  "nbformat_minor": 0
}